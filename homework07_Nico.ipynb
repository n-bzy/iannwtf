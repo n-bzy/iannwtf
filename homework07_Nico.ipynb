{
  "cells": [
    {
      "cell_type": "markdown",
      "metadata": {
        "id": "view-in-github",
        "colab_type": "text"
      },
      "source": [
        "<a href=\"https://colab.research.google.com/github/n-bzy/iannwtf/blob/main/homework07_Nico.ipynb\" target=\"_parent\"><img src=\"https://colab.research.google.com/assets/colab-badge.svg\" alt=\"Open In Colab\"/></a>"
      ]
    },
    {
      "cell_type": "markdown",
      "metadata": {
        "id": "GUiwj6q6per9"
      },
      "source": [
        "# Prepare Dataset"
      ]
    },
    {
      "cell_type": "code",
      "execution_count": 1,
      "metadata": {
        "colab": {
          "base_uri": "https://localhost:8080/",
          "height": 104,
          "referenced_widgets": [
            "6c6d6b5a924744609033fdb0924c1df5",
            "19c8e4b8763c4548b33a06811ad68919",
            "c016550bfdcd4a2cbd0303bb760bfaad",
            "c821d47d48ce484ca99e015c75b8cd34",
            "db1e6e2100084e91bf6c840d5709d0e4",
            "67819febb06045b7a62bc6b08aee49ea",
            "845472679bb744599ca9f41ceeaea45b",
            "db9273a5bc5b4a7f96e93615bf4447ca",
            "7f0c9ecebe2445f0a159ed8483aae410",
            "cf512164370441f7a8b5fedf54cb6da8",
            "19835ebfddc74d3988695eeaa752deb4"
          ]
        },
        "id": "aTzsUT7QpesC",
        "outputId": "5427597a-2c64-4d87-fb47-d49900d2f338"
      },
      "outputs": [
        {
          "output_type": "stream",
          "name": "stdout",
          "text": [
            "Downloading and preparing dataset 11.06 MiB (download: 11.06 MiB, generated: 21.00 MiB, total: 32.06 MiB) to ~/tensorflow_datasets/mnist/3.0.1...\n"
          ]
        },
        {
          "output_type": "display_data",
          "data": {
            "text/plain": [
              "Dl Completed...:   0%|          | 0/5 [00:00<?, ? file/s]"
            ],
            "application/vnd.jupyter.widget-view+json": {
              "version_major": 2,
              "version_minor": 0,
              "model_id": "6c6d6b5a924744609033fdb0924c1df5"
            }
          },
          "metadata": {}
        },
        {
          "output_type": "stream",
          "name": "stdout",
          "text": [
            "Dataset mnist downloaded and prepared to ~/tensorflow_datasets/mnist/3.0.1. Subsequent calls will reuse this data.\n",
            "(32, 4, 28, 28, 1) (32, 4)\n"
          ]
        }
      ],
      "source": [
        "import numpy as np\n",
        "import tensorflow as tf\n",
        "import tensorflow_datasets as tfds\n",
        "\n",
        "train_ds, val_ds = tfds.load('mnist', split=['train','test'], as_supervised=True)\n",
        "\n",
        "def preprocess(data, seq):\n",
        "    \"\"\"Preprocessing the training and testing data for the LSTM network\"\"\"\n",
        "\n",
        "    # Add first digit, subtract second, add third, subtract fourth\n",
        "    l = list()\n",
        "    for i, elem in enumerate(data):\n",
        "        if (i% seq) == 0:\n",
        "            l.append(int(elem[1]))\n",
        "        else:\n",
        "            if (i%2)==0:\n",
        "                l.append(int(l[i-1] + elem[1]))\n",
        "            else:\n",
        "                l.append(int(l[i-1] - elem[1]))\n",
        "    \n",
        "    # Convert list of new targets to dataset            \n",
        "    new_t = tf.data.Dataset.from_tensor_slices(l)\n",
        "    # Zip old dataset and new targets\n",
        "    data = tf.data.Dataset.zip((data, new_t))\n",
        "    # Replace old with new targets\n",
        "    data = data.map(lambda x, t: (x[0], t))\n",
        "\n",
        "    data = data.map(lambda x, t: (tf.cast(x, tf.float32), t))\n",
        "    data = data.map(lambda x, t: ((x/128.)-1., t))\n",
        "\n",
        "    #data = data.batch(seq)\n",
        "    data = data.window(seq)\n",
        "\n",
        "    data = data.cache()\n",
        "    data = data.shuffle(1000)\n",
        "    data = data.map(lambda x,t: (x.batch(seq).get_single_element(), t.batch(seq).get_single_element()))\n",
        "    data = data.batch(32)\n",
        "    data = data.prefetch(tf.data.AUTOTUNE)\n",
        "\n",
        "    return data\n",
        "\n",
        "train = preprocess(train_ds, seq=4)\n",
        "val = preprocess(val_ds, seq=4)\n",
        "\n",
        "for x,t in val.take(1):\n",
        "    print(x.shape, t.shape)\n"
      ]
    },
    {
      "cell_type": "markdown",
      "source": [
        "# Basic CNN"
      ],
      "metadata": {
        "id": "dYFg16Fv1O4m"
      }
    },
    {
      "cell_type": "code",
      "execution_count": 2,
      "metadata": {
        "id": "0iNJ51Y0pesP"
      },
      "outputs": [],
      "source": [
        "class CNN(tf.keras.Model):\n",
        "    \"\"\"Basic CNN structure for processing of mnist images\"\"\"\n",
        "    def __init__(self):\n",
        "        super().__init__()\n",
        "\n",
        "        self.layer1 = tf.keras.layers.Conv2D(filters=64, kernel_size=3, padding='same', activation='relu')\n",
        "        self.pool1 = tf.keras.layers.TimeDistributed(tf.keras.layers.MaxPool2D(pool_size=2, strides=2))\n",
        "        # Image size 14x14\n",
        "        self.layer2 = tf.keras.layers.Conv2D(filters=128, kernel_size=3, padding='same', activation='relu')\n",
        "        self.pool2 = tf.keras.layers.TimeDistributed(tf.keras.layers.MaxPool2D(pool_size=2, strides=2))\n",
        "        # Image size 7x7\n",
        "        self.layer3 = tf.keras.layers.Conv2D(filters=128, kernel_size=3, padding='same', activation='relu')\n",
        "        self.pool3 = tf.keras.layers.TimeDistributed(tf.keras.layers.GlobalAveragePooling2D())\n",
        "\n",
        "    def __call__(self, x):\n",
        "        x = self.layer1(x)\n",
        "        x = self.pool1(x)\n",
        "        x = self.layer2(x)\n",
        "        x = self.pool2(x)\n",
        "        x = self.layer3(x)\n",
        "        x = self.pool3(x)\n",
        "        return x"
      ]
    },
    {
      "cell_type": "code",
      "source": [
        "class LSTMCell(tf.keras.layers.AbstractRNNCell):\n",
        "    \"\"\"Create a LSTM Cell\"\"\"\n",
        "    def __init__(self, hidden_state, cell_state):\n",
        "        super().__init__()\n",
        "\n",
        "        self.hidden_state = hidden_state\n",
        "        self.cell_state = cell_state\n",
        "\n",
        "        self.linear = tf.keras.layers.Dense(hidden_state)\n",
        "\n",
        "        self.forget_gate = tf.keras.layers.Dense(cell_state, \n",
        "                                             kernel_initializer= tf.keras.initializers.Orthogonal(gain=1.0, seed=None),\n",
        "                                             activation=tf.nn.sigmoid)\n",
        "        self.input_gate = tf.keras.layers.Dense(cell_state, \n",
        "                                             kernel_initializer= tf.keras.initializers.Orthogonal(gain=1.0, seed=None),\n",
        "                                             activation=tf.nn.sigmoid)\n",
        "        self.candidate_gate = tf.keras.layers.Dense(cell_state, \n",
        "                                             kernel_initializer= tf.keras.initializers.Orthogonal(gain=1.0, seed=None),\n",
        "                                             activation=tf.nn.tanh)\n",
        "        self.output_gate = tf.keras.layers.Dense(hidden_state, \n",
        "                                             kernel_initializer= tf.keras.initializers.Orthogonal(gain=1.0, seed=None),\n",
        "                                             activation=tf.nn.sigmoid)\n",
        "\n",
        "    @property\n",
        "    def state_size(self):\n",
        "        return [tf.TensorShape([self.hidden_state]), \n",
        "                tf.TensorShape([self.cell_state])]\n",
        "    @property\n",
        "    def output_size(self):\n",
        "        return [tf.TensorShape([self.hidden_state])]\n",
        "    \n",
        "    def get_initial_state(self, inputs=None, batch_size=None, dtype=None):\n",
        "        return [tf.zeros([self.hidden_state]), \n",
        "                tf.zeros([self.cell_state])]\n",
        "\n",
        "    def __call__(self, x, states):\n",
        "        hidden = states[0]\n",
        "        cell = states[1]\n",
        "        x = hidden + self.linear(x)\n",
        "\n",
        "        f = self.forget_gate(x)\n",
        "        i = self.input_gate(x)\n",
        "        c_hat = self.candidate_gate(x)\n",
        "\n",
        "        new_cell_state = f*cell + i*c_hat\n",
        "\n",
        "        y = self.output_gate(x)*tf.math.tanh(new_cell_state)\n",
        "        new_hidden_state = y\n",
        "\n",
        "        return y, [new_hidden_state, new_cell_state]"
      ],
      "metadata": {
        "id": "XoY9OchI1S5o"
      },
      "execution_count": 3,
      "outputs": []
    },
    {
      "cell_type": "code",
      "source": [
        "class RNN(tf.keras.Model):\n",
        "    \"\"\"Create a RNN out of LSTM cells\"\"\"\n",
        "    def __init__(self):\n",
        "        \"\"\"Initialize the RNN\"\"\"\n",
        "        super().__init__()\n",
        "\n",
        "        self.cnn = CNN()\n",
        "\n",
        "        self.lstm_cell = LSTMCell(hidden_state=24, cell_state=24)\n",
        "        # For debugging purpose: self.lstm = tf.keras.layers.LSTMCell(24)\n",
        "        self.rnn_layer = tf.keras.layers.RNN(self.lstm_cell, return_sequences=False, unroll=True)\n",
        "        \n",
        "        self.output_layer = tf.keras.layers.Dense(1, activation=None)\n",
        "        \n",
        "        self.metrics_list = [tf.keras.metrics.Mean(name=\"loss\"), \n",
        "                             tf.keras.metrics.Accuracy(name=\"accuracy\")]\n",
        "\n",
        "    @property\n",
        "    def metrics(self):\n",
        "        return self.metrics_list\n",
        "    \n",
        "    def reset_metrics(self):\n",
        "        for metric in self.metrics:\n",
        "            metric.reset_state()\n",
        "        \n",
        "    def call(self, x, training=False):\n",
        "        print(x.shape)\n",
        "        x = self.cnn(x)\n",
        "        x = self.rnn_layer(x)\n",
        "        x = self.output_layer(x)\n",
        "        return x\n",
        "\n",
        "    @tf.function\n",
        "    def train(self, data):\n",
        "        x,t = data\n",
        "        with tf.GradientTape() as tape:\n",
        "            y = self(x, training=True)\n",
        "            loss = self.compiled_loss(t, y, regularization_losses=self.losses)\n",
        "        gradients = tape.gradient(loss, self.trainable_variables)\n",
        "        \n",
        "        self.optimizer.apply_gradients(zip(gradients, self.trainable_variables))\n",
        "        \n",
        "        self.metrics[0].update_state(loss)\n",
        "        self.metrics[1].update_state(t, y)\n",
        "        \n",
        "        return {m.name : m.result() for m in self.metrics}\n",
        "    \n",
        "    @tf.function\n",
        "    def test(self, data):\n",
        "        \n",
        "        x,t = data\n",
        "        y = self(x, training=False)\n",
        "        loss = self.compiled_loss(t, y, regularization_losses=self.losses)\n",
        "                \n",
        "        self.metrics[0].update_state(loss)\n",
        "        self.metrics[1].update_state(t, y)\n",
        "        \n",
        "        return {m.name : m.result() for m in self.metrics} "
      ],
      "metadata": {
        "id": "H1LMKNWHpsku"
      },
      "execution_count": 7,
      "outputs": []
    },
    {
      "cell_type": "code",
      "source": [
        "# For testing dimensions, layers and output shapes\n",
        "model = RNN()\n",
        "model(tf.keras.Input((4,28,28,1)));\n",
        "model.summary()"
      ],
      "metadata": {
        "id": "47fpKb9v1bxC",
        "colab": {
          "base_uri": "https://localhost:8080/"
        },
        "outputId": "c24b4904-ffc3-4012-fda3-e7a335cb8c9a"
      },
      "execution_count": 8,
      "outputs": [
        {
          "output_type": "stream",
          "name": "stdout",
          "text": [
            "(None, 4, 28, 28, 1)\n",
            "Model: \"rnn_2\"\n",
            "_________________________________________________________________\n",
            " Layer (type)                Output Shape              Param #   \n",
            "=================================================================\n",
            " cnn_1 (CNN)                 multiple                  0 (unused)\n",
            "                                                                 \n",
            " lstm_cell_1 (LSTMCell)      multiple                  5496      \n",
            "                                                                 \n",
            " rnn_3 (RNN)                 multiple                  5496      \n",
            "                                                                 \n",
            " dense_11 (Dense)            multiple                  25        \n",
            "                                                                 \n",
            "=================================================================\n",
            "Total params: 227,605\n",
            "Trainable params: 227,601\n",
            "Non-trainable params: 4\n",
            "_________________________________________________________________\n"
          ]
        }
      ]
    },
    {
      "cell_type": "markdown",
      "source": [
        "# Training with .compile and .fit"
      ],
      "metadata": {
        "id": "TaiAJ_IubCBV"
      }
    },
    {
      "cell_type": "code",
      "source": [
        "optimizer = tf.keras.optimizers.Adam(learning_rate=1e-3)\n",
        "loss = tf.keras.losses.MeanSquaredError()\n",
        "\n",
        "model = RNN()\n",
        "# compile the model (here, adding a loss function and an optimizer)\n",
        "model.compile(optimizer=optimizer, loss=loss)"
      ],
      "metadata": {
        "id": "L9RHBoqtpXyH"
      },
      "execution_count": 9,
      "outputs": []
    },
    {
      "cell_type": "code",
      "source": [
        "history = model.fit(train, validation_data=val,epochs=10)"
      ],
      "metadata": {
        "colab": {
          "base_uri": "https://localhost:8080/",
          "height": 1000
        },
        "id": "nO7MOFwac4f6",
        "outputId": "ecb58365-3ed3-467a-8c94-580b12e6dc40"
      },
      "execution_count": 10,
      "outputs": [
        {
          "output_type": "stream",
          "name": "stdout",
          "text": [
            "Epoch 1/10\n",
            "(None, None, 28, 28, 1)\n"
          ]
        },
        {
          "output_type": "error",
          "ename": "ValueError",
          "evalue": "ignored",
          "traceback": [
            "\u001b[0;31m---------------------------------------------------------------------------\u001b[0m",
            "\u001b[0;31mValueError\u001b[0m                                Traceback (most recent call last)",
            "\u001b[0;32m<ipython-input-10-b620132c812d>\u001b[0m in \u001b[0;36m<module>\u001b[0;34m\u001b[0m\n\u001b[0;32m----> 1\u001b[0;31m \u001b[0mhistory\u001b[0m \u001b[0;34m=\u001b[0m \u001b[0mmodel\u001b[0m\u001b[0;34m.\u001b[0m\u001b[0mfit\u001b[0m\u001b[0;34m(\u001b[0m\u001b[0mtrain\u001b[0m\u001b[0;34m,\u001b[0m \u001b[0mvalidation_data\u001b[0m\u001b[0;34m=\u001b[0m\u001b[0mval\u001b[0m\u001b[0;34m,\u001b[0m\u001b[0mepochs\u001b[0m\u001b[0;34m=\u001b[0m\u001b[0;36m10\u001b[0m\u001b[0;34m)\u001b[0m\u001b[0;34m\u001b[0m\u001b[0;34m\u001b[0m\u001b[0m\n\u001b[0m",
            "\u001b[0;32m/usr/local/lib/python3.8/dist-packages/keras/utils/traceback_utils.py\u001b[0m in \u001b[0;36merror_handler\u001b[0;34m(*args, **kwargs)\u001b[0m\n\u001b[1;32m     65\u001b[0m     \u001b[0;32mexcept\u001b[0m \u001b[0mException\u001b[0m \u001b[0;32mas\u001b[0m \u001b[0me\u001b[0m\u001b[0;34m:\u001b[0m  \u001b[0;31m# pylint: disable=broad-except\u001b[0m\u001b[0;34m\u001b[0m\u001b[0;34m\u001b[0m\u001b[0m\n\u001b[1;32m     66\u001b[0m       \u001b[0mfiltered_tb\u001b[0m \u001b[0;34m=\u001b[0m \u001b[0m_process_traceback_frames\u001b[0m\u001b[0;34m(\u001b[0m\u001b[0me\u001b[0m\u001b[0;34m.\u001b[0m\u001b[0m__traceback__\u001b[0m\u001b[0;34m)\u001b[0m\u001b[0;34m\u001b[0m\u001b[0;34m\u001b[0m\u001b[0m\n\u001b[0;32m---> 67\u001b[0;31m       \u001b[0;32mraise\u001b[0m \u001b[0me\u001b[0m\u001b[0;34m.\u001b[0m\u001b[0mwith_traceback\u001b[0m\u001b[0;34m(\u001b[0m\u001b[0mfiltered_tb\u001b[0m\u001b[0;34m)\u001b[0m \u001b[0;32mfrom\u001b[0m \u001b[0;32mNone\u001b[0m\u001b[0;34m\u001b[0m\u001b[0;34m\u001b[0m\u001b[0m\n\u001b[0m\u001b[1;32m     68\u001b[0m     \u001b[0;32mfinally\u001b[0m\u001b[0;34m:\u001b[0m\u001b[0;34m\u001b[0m\u001b[0;34m\u001b[0m\u001b[0m\n\u001b[1;32m     69\u001b[0m       \u001b[0;32mdel\u001b[0m \u001b[0mfiltered_tb\u001b[0m\u001b[0;34m\u001b[0m\u001b[0;34m\u001b[0m\u001b[0m\n",
            "\u001b[0;32m/usr/local/lib/python3.8/dist-packages/keras/engine/training.py\u001b[0m in \u001b[0;36mtf__train_function\u001b[0;34m(iterator)\u001b[0m\n\u001b[1;32m     13\u001b[0m                 \u001b[0;32mtry\u001b[0m\u001b[0;34m:\u001b[0m\u001b[0;34m\u001b[0m\u001b[0;34m\u001b[0m\u001b[0m\n\u001b[1;32m     14\u001b[0m                     \u001b[0mdo_return\u001b[0m \u001b[0;34m=\u001b[0m \u001b[0;32mTrue\u001b[0m\u001b[0;34m\u001b[0m\u001b[0;34m\u001b[0m\u001b[0m\n\u001b[0;32m---> 15\u001b[0;31m                     \u001b[0mretval_\u001b[0m \u001b[0;34m=\u001b[0m \u001b[0mag__\u001b[0m\u001b[0;34m.\u001b[0m\u001b[0mconverted_call\u001b[0m\u001b[0;34m(\u001b[0m\u001b[0mag__\u001b[0m\u001b[0;34m.\u001b[0m\u001b[0mld\u001b[0m\u001b[0;34m(\u001b[0m\u001b[0mstep_function\u001b[0m\u001b[0;34m)\u001b[0m\u001b[0;34m,\u001b[0m \u001b[0;34m(\u001b[0m\u001b[0mag__\u001b[0m\u001b[0;34m.\u001b[0m\u001b[0mld\u001b[0m\u001b[0;34m(\u001b[0m\u001b[0mself\u001b[0m\u001b[0;34m)\u001b[0m\u001b[0;34m,\u001b[0m \u001b[0mag__\u001b[0m\u001b[0;34m.\u001b[0m\u001b[0mld\u001b[0m\u001b[0;34m(\u001b[0m\u001b[0miterator\u001b[0m\u001b[0;34m)\u001b[0m\u001b[0;34m)\u001b[0m\u001b[0;34m,\u001b[0m \u001b[0;32mNone\u001b[0m\u001b[0;34m,\u001b[0m \u001b[0mfscope\u001b[0m\u001b[0;34m)\u001b[0m\u001b[0;34m\u001b[0m\u001b[0;34m\u001b[0m\u001b[0m\n\u001b[0m\u001b[1;32m     16\u001b[0m                 \u001b[0;32mexcept\u001b[0m\u001b[0;34m:\u001b[0m\u001b[0;34m\u001b[0m\u001b[0;34m\u001b[0m\u001b[0m\n\u001b[1;32m     17\u001b[0m                     \u001b[0mdo_return\u001b[0m \u001b[0;34m=\u001b[0m \u001b[0;32mFalse\u001b[0m\u001b[0;34m\u001b[0m\u001b[0;34m\u001b[0m\u001b[0m\n",
            "\u001b[0;32m/tmp/__autograph_generated_file490amai0.py\u001b[0m in \u001b[0;36mtf__call\u001b[0;34m(self, x, training)\u001b[0m\n\u001b[1;32m     10\u001b[0m                 \u001b[0mag__\u001b[0m\u001b[0;34m.\u001b[0m\u001b[0mld\u001b[0m\u001b[0;34m(\u001b[0m\u001b[0mprint\u001b[0m\u001b[0;34m)\u001b[0m\u001b[0;34m(\u001b[0m\u001b[0mag__\u001b[0m\u001b[0;34m.\u001b[0m\u001b[0mld\u001b[0m\u001b[0;34m(\u001b[0m\u001b[0mx\u001b[0m\u001b[0;34m)\u001b[0m\u001b[0;34m.\u001b[0m\u001b[0mshape\u001b[0m\u001b[0;34m)\u001b[0m\u001b[0;34m\u001b[0m\u001b[0;34m\u001b[0m\u001b[0m\n\u001b[1;32m     11\u001b[0m                 \u001b[0mx\u001b[0m \u001b[0;34m=\u001b[0m \u001b[0mag__\u001b[0m\u001b[0;34m.\u001b[0m\u001b[0mconverted_call\u001b[0m\u001b[0;34m(\u001b[0m\u001b[0mag__\u001b[0m\u001b[0;34m.\u001b[0m\u001b[0mld\u001b[0m\u001b[0;34m(\u001b[0m\u001b[0mself\u001b[0m\u001b[0;34m)\u001b[0m\u001b[0;34m.\u001b[0m\u001b[0mcnn\u001b[0m\u001b[0;34m,\u001b[0m \u001b[0;34m(\u001b[0m\u001b[0mag__\u001b[0m\u001b[0;34m.\u001b[0m\u001b[0mld\u001b[0m\u001b[0;34m(\u001b[0m\u001b[0mx\u001b[0m\u001b[0;34m)\u001b[0m\u001b[0;34m,\u001b[0m\u001b[0;34m)\u001b[0m\u001b[0;34m,\u001b[0m \u001b[0;32mNone\u001b[0m\u001b[0;34m,\u001b[0m \u001b[0mfscope\u001b[0m\u001b[0;34m)\u001b[0m\u001b[0;34m\u001b[0m\u001b[0;34m\u001b[0m\u001b[0m\n\u001b[0;32m---> 12\u001b[0;31m                 \u001b[0mx\u001b[0m \u001b[0;34m=\u001b[0m \u001b[0mag__\u001b[0m\u001b[0;34m.\u001b[0m\u001b[0mconverted_call\u001b[0m\u001b[0;34m(\u001b[0m\u001b[0mag__\u001b[0m\u001b[0;34m.\u001b[0m\u001b[0mld\u001b[0m\u001b[0;34m(\u001b[0m\u001b[0mself\u001b[0m\u001b[0;34m)\u001b[0m\u001b[0;34m.\u001b[0m\u001b[0mrnn_layer\u001b[0m\u001b[0;34m,\u001b[0m \u001b[0;34m(\u001b[0m\u001b[0mag__\u001b[0m\u001b[0;34m.\u001b[0m\u001b[0mld\u001b[0m\u001b[0;34m(\u001b[0m\u001b[0mx\u001b[0m\u001b[0;34m)\u001b[0m\u001b[0;34m,\u001b[0m\u001b[0;34m)\u001b[0m\u001b[0;34m,\u001b[0m \u001b[0;32mNone\u001b[0m\u001b[0;34m,\u001b[0m \u001b[0mfscope\u001b[0m\u001b[0;34m)\u001b[0m\u001b[0;34m\u001b[0m\u001b[0;34m\u001b[0m\u001b[0m\n\u001b[0m\u001b[1;32m     13\u001b[0m                 \u001b[0mx\u001b[0m \u001b[0;34m=\u001b[0m \u001b[0mag__\u001b[0m\u001b[0;34m.\u001b[0m\u001b[0mconverted_call\u001b[0m\u001b[0;34m(\u001b[0m\u001b[0mag__\u001b[0m\u001b[0;34m.\u001b[0m\u001b[0mld\u001b[0m\u001b[0;34m(\u001b[0m\u001b[0mself\u001b[0m\u001b[0;34m)\u001b[0m\u001b[0;34m.\u001b[0m\u001b[0moutput_layer\u001b[0m\u001b[0;34m,\u001b[0m \u001b[0;34m(\u001b[0m\u001b[0mag__\u001b[0m\u001b[0;34m.\u001b[0m\u001b[0mld\u001b[0m\u001b[0;34m(\u001b[0m\u001b[0mx\u001b[0m\u001b[0;34m)\u001b[0m\u001b[0;34m,\u001b[0m\u001b[0;34m)\u001b[0m\u001b[0;34m,\u001b[0m \u001b[0;32mNone\u001b[0m\u001b[0;34m,\u001b[0m \u001b[0mfscope\u001b[0m\u001b[0;34m)\u001b[0m\u001b[0;34m\u001b[0m\u001b[0;34m\u001b[0m\u001b[0m\n\u001b[1;32m     14\u001b[0m                 \u001b[0;32mtry\u001b[0m\u001b[0;34m:\u001b[0m\u001b[0;34m\u001b[0m\u001b[0;34m\u001b[0m\u001b[0m\n",
            "\u001b[0;31mValueError\u001b[0m: in user code:\n\n    File \"/usr/local/lib/python3.8/dist-packages/keras/engine/training.py\", line 1051, in train_function  *\n        return step_function(self, iterator)\n    File \"/usr/local/lib/python3.8/dist-packages/keras/engine/training.py\", line 1040, in step_function  **\n        outputs = model.distribute_strategy.run(run_step, args=(data,))\n    File \"/usr/local/lib/python3.8/dist-packages/keras/engine/training.py\", line 1030, in run_step  **\n        outputs = model.train_step(data)\n    File \"/usr/local/lib/python3.8/dist-packages/keras/engine/training.py\", line 889, in train_step\n        y_pred = self(x, training=True)\n    File \"/usr/local/lib/python3.8/dist-packages/keras/utils/traceback_utils.py\", line 67, in error_handler\n        raise e.with_traceback(filtered_tb) from None\n    File \"/tmp/__autograph_generated_file490amai0.py\", line 12, in tf__call\n        x = ag__.converted_call(ag__.ld(self).rnn_layer, (ag__.ld(x),), None, fscope)\n\n    ValueError: Exception encountered when calling layer \"rnn_4\" (type RNN).\n    \n    in user code:\n    \n        File \"<ipython-input-7-4421d92ce8fa>\", line 29, in call  *\n            x = self.rnn_layer(x)\n        File \"/usr/local/lib/python3.8/dist-packages/keras/layers/rnn/base_rnn.py\", line 515, in __call__  **\n            return super(RNN, self).__call__(inputs, **kwargs)\n        File \"/usr/local/lib/python3.8/dist-packages/keras/utils/traceback_utils.py\", line 67, in error_handler\n            raise e.with_traceback(filtered_tb) from None\n        File \"/usr/local/lib/python3.8/dist-packages/keras/layers/rnn/base_rnn.py\", line 607, in call\n            raise ValueError('Cannot unroll a RNN if the '\n    \n        ValueError: Exception encountered when calling layer \"rnn_5\" (type RNN).\n        \n        Cannot unroll a RNN if the time dimension is undefined. \n        - If using a Sequential model, specify the time dimension by passing an `input_shape` or `batch_input_shape` argument to your first layer. If your first layer is an Embedding, you can also use the `input_length` argument.\n        - If using the functional API, specify the time dimension by passing a `shape` or `batch_shape` argument to your Input layer.\n        \n        Call arguments received by layer \"rnn_5\" (type RNN):\n          • inputs=tf.Tensor(shape=(None, None, 128), dtype=float32)\n          • mask=None\n          • training=True\n          • initial_state=None\n          • constants=None\n    \n    \n    Call arguments received by layer \"rnn_4\" (type RNN):\n      • x=tf.Tensor(shape=(None, None, 28, 28, 1), dtype=float32)\n      • training=True\n"
          ]
        }
      ]
    },
    {
      "cell_type": "code",
      "source": [],
      "metadata": {
        "id": "lYSqvdNVFNL4"
      },
      "execution_count": null,
      "outputs": []
    }
  ],
  "metadata": {
    "kernelspec": {
      "display_name": "Python 3.9.10 64-bit",
      "language": "python",
      "name": "python3"
    },
    "language_info": {
      "codemirror_mode": {
        "name": "ipython",
        "version": 3
      },
      "file_extension": ".py",
      "mimetype": "text/x-python",
      "name": "python",
      "nbconvert_exporter": "python",
      "pygments_lexer": "ipython3",
      "version": "3.9.10"
    },
    "orig_nbformat": 4,
    "vscode": {
      "interpreter": {
        "hash": "fe9a959b20c1a11f0379d800fd04c0320f2dff6d2d0003a40f8f375949ccb47d"
      }
    },
    "colab": {
      "provenance": [],
      "include_colab_link": true
    },
    "gpuClass": "standard",
    "widgets": {
      "application/vnd.jupyter.widget-state+json": {
        "6c6d6b5a924744609033fdb0924c1df5": {
          "model_module": "@jupyter-widgets/controls",
          "model_name": "HBoxModel",
          "model_module_version": "1.5.0",
          "state": {
            "_dom_classes": [],
            "_model_module": "@jupyter-widgets/controls",
            "_model_module_version": "1.5.0",
            "_model_name": "HBoxModel",
            "_view_count": null,
            "_view_module": "@jupyter-widgets/controls",
            "_view_module_version": "1.5.0",
            "_view_name": "HBoxView",
            "box_style": "",
            "children": [
              "IPY_MODEL_19c8e4b8763c4548b33a06811ad68919",
              "IPY_MODEL_c016550bfdcd4a2cbd0303bb760bfaad",
              "IPY_MODEL_c821d47d48ce484ca99e015c75b8cd34"
            ],
            "layout": "IPY_MODEL_db1e6e2100084e91bf6c840d5709d0e4"
          }
        },
        "19c8e4b8763c4548b33a06811ad68919": {
          "model_module": "@jupyter-widgets/controls",
          "model_name": "HTMLModel",
          "model_module_version": "1.5.0",
          "state": {
            "_dom_classes": [],
            "_model_module": "@jupyter-widgets/controls",
            "_model_module_version": "1.5.0",
            "_model_name": "HTMLModel",
            "_view_count": null,
            "_view_module": "@jupyter-widgets/controls",
            "_view_module_version": "1.5.0",
            "_view_name": "HTMLView",
            "description": "",
            "description_tooltip": null,
            "layout": "IPY_MODEL_67819febb06045b7a62bc6b08aee49ea",
            "placeholder": "​",
            "style": "IPY_MODEL_845472679bb744599ca9f41ceeaea45b",
            "value": "Dl Completed...: 100%"
          }
        },
        "c016550bfdcd4a2cbd0303bb760bfaad": {
          "model_module": "@jupyter-widgets/controls",
          "model_name": "FloatProgressModel",
          "model_module_version": "1.5.0",
          "state": {
            "_dom_classes": [],
            "_model_module": "@jupyter-widgets/controls",
            "_model_module_version": "1.5.0",
            "_model_name": "FloatProgressModel",
            "_view_count": null,
            "_view_module": "@jupyter-widgets/controls",
            "_view_module_version": "1.5.0",
            "_view_name": "ProgressView",
            "bar_style": "success",
            "description": "",
            "description_tooltip": null,
            "layout": "IPY_MODEL_db9273a5bc5b4a7f96e93615bf4447ca",
            "max": 5,
            "min": 0,
            "orientation": "horizontal",
            "style": "IPY_MODEL_7f0c9ecebe2445f0a159ed8483aae410",
            "value": 5
          }
        },
        "c821d47d48ce484ca99e015c75b8cd34": {
          "model_module": "@jupyter-widgets/controls",
          "model_name": "HTMLModel",
          "model_module_version": "1.5.0",
          "state": {
            "_dom_classes": [],
            "_model_module": "@jupyter-widgets/controls",
            "_model_module_version": "1.5.0",
            "_model_name": "HTMLModel",
            "_view_count": null,
            "_view_module": "@jupyter-widgets/controls",
            "_view_module_version": "1.5.0",
            "_view_name": "HTMLView",
            "description": "",
            "description_tooltip": null,
            "layout": "IPY_MODEL_cf512164370441f7a8b5fedf54cb6da8",
            "placeholder": "​",
            "style": "IPY_MODEL_19835ebfddc74d3988695eeaa752deb4",
            "value": " 5/5 [00:04&lt;00:00,  1.28s/ file]"
          }
        },
        "db1e6e2100084e91bf6c840d5709d0e4": {
          "model_module": "@jupyter-widgets/base",
          "model_name": "LayoutModel",
          "model_module_version": "1.2.0",
          "state": {
            "_model_module": "@jupyter-widgets/base",
            "_model_module_version": "1.2.0",
            "_model_name": "LayoutModel",
            "_view_count": null,
            "_view_module": "@jupyter-widgets/base",
            "_view_module_version": "1.2.0",
            "_view_name": "LayoutView",
            "align_content": null,
            "align_items": null,
            "align_self": null,
            "border": null,
            "bottom": null,
            "display": null,
            "flex": null,
            "flex_flow": null,
            "grid_area": null,
            "grid_auto_columns": null,
            "grid_auto_flow": null,
            "grid_auto_rows": null,
            "grid_column": null,
            "grid_gap": null,
            "grid_row": null,
            "grid_template_areas": null,
            "grid_template_columns": null,
            "grid_template_rows": null,
            "height": null,
            "justify_content": null,
            "justify_items": null,
            "left": null,
            "margin": null,
            "max_height": null,
            "max_width": null,
            "min_height": null,
            "min_width": null,
            "object_fit": null,
            "object_position": null,
            "order": null,
            "overflow": null,
            "overflow_x": null,
            "overflow_y": null,
            "padding": null,
            "right": null,
            "top": null,
            "visibility": null,
            "width": null
          }
        },
        "67819febb06045b7a62bc6b08aee49ea": {
          "model_module": "@jupyter-widgets/base",
          "model_name": "LayoutModel",
          "model_module_version": "1.2.0",
          "state": {
            "_model_module": "@jupyter-widgets/base",
            "_model_module_version": "1.2.0",
            "_model_name": "LayoutModel",
            "_view_count": null,
            "_view_module": "@jupyter-widgets/base",
            "_view_module_version": "1.2.0",
            "_view_name": "LayoutView",
            "align_content": null,
            "align_items": null,
            "align_self": null,
            "border": null,
            "bottom": null,
            "display": null,
            "flex": null,
            "flex_flow": null,
            "grid_area": null,
            "grid_auto_columns": null,
            "grid_auto_flow": null,
            "grid_auto_rows": null,
            "grid_column": null,
            "grid_gap": null,
            "grid_row": null,
            "grid_template_areas": null,
            "grid_template_columns": null,
            "grid_template_rows": null,
            "height": null,
            "justify_content": null,
            "justify_items": null,
            "left": null,
            "margin": null,
            "max_height": null,
            "max_width": null,
            "min_height": null,
            "min_width": null,
            "object_fit": null,
            "object_position": null,
            "order": null,
            "overflow": null,
            "overflow_x": null,
            "overflow_y": null,
            "padding": null,
            "right": null,
            "top": null,
            "visibility": null,
            "width": null
          }
        },
        "845472679bb744599ca9f41ceeaea45b": {
          "model_module": "@jupyter-widgets/controls",
          "model_name": "DescriptionStyleModel",
          "model_module_version": "1.5.0",
          "state": {
            "_model_module": "@jupyter-widgets/controls",
            "_model_module_version": "1.5.0",
            "_model_name": "DescriptionStyleModel",
            "_view_count": null,
            "_view_module": "@jupyter-widgets/base",
            "_view_module_version": "1.2.0",
            "_view_name": "StyleView",
            "description_width": ""
          }
        },
        "db9273a5bc5b4a7f96e93615bf4447ca": {
          "model_module": "@jupyter-widgets/base",
          "model_name": "LayoutModel",
          "model_module_version": "1.2.0",
          "state": {
            "_model_module": "@jupyter-widgets/base",
            "_model_module_version": "1.2.0",
            "_model_name": "LayoutModel",
            "_view_count": null,
            "_view_module": "@jupyter-widgets/base",
            "_view_module_version": "1.2.0",
            "_view_name": "LayoutView",
            "align_content": null,
            "align_items": null,
            "align_self": null,
            "border": null,
            "bottom": null,
            "display": null,
            "flex": null,
            "flex_flow": null,
            "grid_area": null,
            "grid_auto_columns": null,
            "grid_auto_flow": null,
            "grid_auto_rows": null,
            "grid_column": null,
            "grid_gap": null,
            "grid_row": null,
            "grid_template_areas": null,
            "grid_template_columns": null,
            "grid_template_rows": null,
            "height": null,
            "justify_content": null,
            "justify_items": null,
            "left": null,
            "margin": null,
            "max_height": null,
            "max_width": null,
            "min_height": null,
            "min_width": null,
            "object_fit": null,
            "object_position": null,
            "order": null,
            "overflow": null,
            "overflow_x": null,
            "overflow_y": null,
            "padding": null,
            "right": null,
            "top": null,
            "visibility": null,
            "width": null
          }
        },
        "7f0c9ecebe2445f0a159ed8483aae410": {
          "model_module": "@jupyter-widgets/controls",
          "model_name": "ProgressStyleModel",
          "model_module_version": "1.5.0",
          "state": {
            "_model_module": "@jupyter-widgets/controls",
            "_model_module_version": "1.5.0",
            "_model_name": "ProgressStyleModel",
            "_view_count": null,
            "_view_module": "@jupyter-widgets/base",
            "_view_module_version": "1.2.0",
            "_view_name": "StyleView",
            "bar_color": null,
            "description_width": ""
          }
        },
        "cf512164370441f7a8b5fedf54cb6da8": {
          "model_module": "@jupyter-widgets/base",
          "model_name": "LayoutModel",
          "model_module_version": "1.2.0",
          "state": {
            "_model_module": "@jupyter-widgets/base",
            "_model_module_version": "1.2.0",
            "_model_name": "LayoutModel",
            "_view_count": null,
            "_view_module": "@jupyter-widgets/base",
            "_view_module_version": "1.2.0",
            "_view_name": "LayoutView",
            "align_content": null,
            "align_items": null,
            "align_self": null,
            "border": null,
            "bottom": null,
            "display": null,
            "flex": null,
            "flex_flow": null,
            "grid_area": null,
            "grid_auto_columns": null,
            "grid_auto_flow": null,
            "grid_auto_rows": null,
            "grid_column": null,
            "grid_gap": null,
            "grid_row": null,
            "grid_template_areas": null,
            "grid_template_columns": null,
            "grid_template_rows": null,
            "height": null,
            "justify_content": null,
            "justify_items": null,
            "left": null,
            "margin": null,
            "max_height": null,
            "max_width": null,
            "min_height": null,
            "min_width": null,
            "object_fit": null,
            "object_position": null,
            "order": null,
            "overflow": null,
            "overflow_x": null,
            "overflow_y": null,
            "padding": null,
            "right": null,
            "top": null,
            "visibility": null,
            "width": null
          }
        },
        "19835ebfddc74d3988695eeaa752deb4": {
          "model_module": "@jupyter-widgets/controls",
          "model_name": "DescriptionStyleModel",
          "model_module_version": "1.5.0",
          "state": {
            "_model_module": "@jupyter-widgets/controls",
            "_model_module_version": "1.5.0",
            "_model_name": "DescriptionStyleModel",
            "_view_count": null,
            "_view_module": "@jupyter-widgets/base",
            "_view_module_version": "1.2.0",
            "_view_name": "StyleView",
            "description_width": ""
          }
        }
      }
    }
  },
  "nbformat": 4,
  "nbformat_minor": 0
}