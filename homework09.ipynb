{
  "nbformat": 4,
  "nbformat_minor": 0,
  "metadata": {
    "colab": {
      "provenance": [],
      "include_colab_link": true
    },
    "kernelspec": {
      "name": "python3",
      "display_name": "Python 3"
    },
    "language_info": {
      "name": "python"
    },
    "gpuClass": "standard",
    "accelerator": "GPU"
  },
  "cells": [
    {
      "cell_type": "markdown",
      "metadata": {
        "id": "view-in-github",
        "colab_type": "text"
      },
      "source": [
        "<a href=\"https://colab.research.google.com/github/n-bzy/iannwtf/blob/main/homework09.ipynb\" target=\"_parent\"><img src=\"https://colab.research.google.com/assets/colab-badge.svg\" alt=\"Open In Colab\"/></a>"
      ]
    },
    {
      "cell_type": "markdown",
      "source": [
        "## Download data and preprocess"
      ],
      "metadata": {
        "id": "UHrqCv4buDh5"
      }
    },
    {
      "cell_type": "code",
      "source": [
        "import os\n",
        "import glob\n",
        "import imageio\n",
        "import matplotlib.pyplot as plt\n",
        "import numpy as np\n",
        "import PIL\n",
        "import tensorflow as tf\n",
        "import time\n",
        "\n",
        "from IPython import display"
      ],
      "metadata": {
        "id": "tI76e8GaK_5F"
      },
      "execution_count": 73,
      "outputs": []
    },
    {
      "cell_type": "code",
      "source": [
        "import urllib\n",
        "categories = [line.rstrip(b'\\n') for line in urllib.request.urlopen('https://raw.githubusercontent.com/googlecreativelab/quickdraw-dataset/master/categories.txt')]\n",
        "print(categories[:10])\n",
        "category = 'candle'"
      ],
      "metadata": {
        "colab": {
          "base_uri": "https://localhost:8080/"
        },
        "id": "Yk_9yXEg31wA",
        "outputId": "0e2d80ae-5eec-4dfc-de53-6b7e83e22d91"
      },
      "execution_count": 74,
      "outputs": [
        {
          "output_type": "stream",
          "name": "stdout",
          "text": [
            "[b'aircraft carrier', b'airplane', b'alarm clock', b'ambulance', b'angel', b'animal migration', b'ant', b'anvil', b'apple', b'arm']\n"
          ]
        }
      ]
    },
    {
      "cell_type": "code",
      "source": [
        "# Creates a folder to download the original drawings into.\n",
        "# We chose to use the numpy format : 1x784 pixel vectors, with values going from 0 (white) to 255 (black). \n",
        "# We reshape them later to 28x28 grids and normalize the pixel intensity to [-1, 1]\n",
        "\n",
        "if not os.path.isdir('npy_files'):\n",
        "    os.mkdir('npy_files')\n",
        "    \n",
        "url = f'https://storage.googleapis.com/quickdraw_dataset/full/numpy_bitmap/{category}.npy'  \n",
        "urllib.request.urlretrieve(url, f'npy_files/{category}.npy')\n",
        "\n",
        "images = np.load(f'npy_files/{category}.npy')\n",
        "print(f'{len(images)} images to train on')\n",
        "\n",
        "# You can limit the amount of images you use for training by setting :\n",
        "train_images = images[:10000]\n",
        "# You should also define a samller subset of the images for testing..\n",
        "test_images = images[10000:12500]\n",
        "\n",
        "# Notice that this to numpy format contains 1x784 pixel vectors, with values going from 0 (white) to 255 (black). \n",
        "# We reshape them later to 28x28 grids and normalize the pixel intensity to [-1, 1]"
      ],
      "metadata": {
        "colab": {
          "base_uri": "https://localhost:8080/"
        },
        "id": "pVCPuuR339LX",
        "outputId": "4bacc104-17aa-4e6f-cc19-324077785054"
      },
      "execution_count": 75,
      "outputs": [
        {
          "output_type": "stream",
          "name": "stdout",
          "text": [
            "141545 images to train on\n"
          ]
        }
      ]
    },
    {
      "cell_type": "code",
      "source": [
        "%matplotlib inline\n",
        "\n",
        "def preprocess(data):\n",
        "    \"\"\"Preprocess the data for use in the GAN\"\"\"\n",
        "    data = tf.data.Dataset.from_tensor_slices(data)\n",
        "    data = data.map(lambda x: tf.reshape(x, shape=(28,28,1)))\n",
        "    data = data.map(lambda x: tf.cast(x, tf.float32))\n",
        "    data = data.map(lambda x: (x/128.-1.))\n",
        "\n",
        "    data = data.shuffle(1028).batch(32).prefetch(tf.data.AUTOTUNE)\n",
        "\n",
        "    return data\n",
        "\n",
        "train_ds = preprocess(train_images)\n",
        "test_ds = preprocess(test_images)\n",
        "\n",
        "# Display one exampe image of a candle\n",
        "for x in train_ds.take(1):\n",
        "    img = tf.cast(tf.floor(x*128+1), tf.uint32)[-1,:,:,-1]\n",
        "    plt.imshow(img, cmap='gray')\n",
        "    plt.axis('off')"
      ],
      "metadata": {
        "colab": {
          "base_uri": "https://localhost:8080/",
          "height": 248
        },
        "id": "kr9HI6TkphI9",
        "outputId": "037fc4dc-dc21-4b09-c602-ff77335675aa"
      },
      "execution_count": 76,
      "outputs": [
        {
          "output_type": "display_data",
          "data": {
            "text/plain": [
              "<Figure size 432x288 with 1 Axes>"
            ],
            "image/png": "[encoded data removed]"
          },
          "metadata": {
            "needs_background": "light"
          }
        }
      ]
    },
    {
      "cell_type": "markdown",
      "source": [
        "## Models for Discriminator, Generator and GAN"
      ],
      "metadata": {
        "id": "lihnk1g6uLQN"
      }
    },
    {
      "cell_type": "code",
      "source": [
        "class Discriminator(tf.keras.Model):\n",
        "    \"\"\"Model for the discriminator, input = images with shape (batch,28,28,1), returns a 1d-laten-space-vector\"\"\"\n",
        "    def __init__(self): \n",
        "        super(Discriminator, self).__init__()\n",
        "        self.cnn = [tf.keras.layers.Conv2D(filters=64, kernel_size=3, strides=2, padding='same', activation='leaky_relu'),\n",
        "                    tf.keras.layers.BatchNormalization(),\n",
        "                    tf.keras.layers.Conv2D(filters=64, kernel_size=3, strides=2, padding='same', activation='leaky_relu'),\n",
        "                    tf.keras.layers.BatchNormalization(),\n",
        "                    tf.keras.layers.Conv2D(filters=64, kernel_size=3, strides=2, padding='same', activation='leaky_relu'),\n",
        "                    tf.keras.layers.BatchNormalization(),\n",
        "                    tf.keras.layers.GlobalMaxPool2D(),\n",
        "                    tf.keras.layers.Dense(1,activation='sigmoid')]\n",
        "\n",
        "    def __call__(self, x, training=False):\n",
        "        for layer in self.cnn:\n",
        "            x = layer(x, training=training)\n",
        "        return x"
      ],
      "metadata": {
        "id": "VdOKTD4NsSor"
      },
      "execution_count": 77,
      "outputs": []
    },
    {
      "cell_type": "code",
      "source": [
        "class Generator(tf.keras.Model):\n",
        "    \"\"\"Model for the generator, input = 1d-laten-space-vector, returns a generated image\"\"\"\n",
        "    def __init__(self):\n",
        "        super(Generator, self).__init__()\n",
        "        self.cnnT = [tf.keras.layers.Dense(98),\n",
        "                     tf.keras.layers.Reshape((7,7,2)),\n",
        "                     tf.keras.layers.BatchNormalization(),\n",
        "                     tf.keras.layers.Conv2DTranspose(filters=64, kernel_size=4, strides=2, padding='same', activation='relu'),\n",
        "                     tf.keras.layers.BatchNormalization(),\n",
        "                     #tf.keras.layers.Dropout(0.5), kernel_regularizer=tf.keras.regularizers.L2(0.001),\n",
        "                     tf.keras.layers.Conv2DTranspose(filters=64, kernel_size=4, strides=2, padding='same', activation='relu'),\n",
        "                     tf.keras.layers.BatchNormalization(),\n",
        "                     #tf.keras.layers.Dropout(0.5),\n",
        "                     tf.keras.layers.Conv2D(filters=1, kernel_size=3, strides=1, padding='same', activation='tanh')]\n",
        "    \n",
        "    def __call__(self, x, training=False):\n",
        "        for layer in self.cnnT:\n",
        "            x = layer(x, training=training)\n",
        "        return x"
      ],
      "metadata": {
        "id": "qSrLDgfwwWck"
      },
      "execution_count": 78,
      "outputs": []
    },
    {
      "cell_type": "code",
      "source": [
        "class GAN(tf.keras.Model):\n",
        "    \"\"\"Model for the GAN - consisting of Discriminator and Generator, \n",
        "    input = noise to create images from and real images\"\"\"\n",
        "    def __init__(self):\n",
        "        super(GAN, self).__init__()\n",
        "        self.disc = Discriminator()\n",
        "        self.gen = Generator()\n",
        "\n",
        "        self.loss = tf.keras.losses.BinaryCrossentropy()\n",
        "        # Initialize two optimizers to optimize both models separately\n",
        "        self.opt_disc = tf.keras.optimizers.Adam()\n",
        "        self.opt_gen = tf.keras.optimizers.Adam()\n",
        "\n",
        "        self.metrics_list = [tf.keras.metrics.Mean(name=\"loss discriminator\"), \n",
        "                             tf.keras.metrics.Mean(name=\"loss generator\")]\n",
        "\n",
        "    def __call__(self, noise, input, training=False):\n",
        "        # Generator creates fake images from input noise\n",
        "        out_gen = self.gen(noise, training=training) #gen_fake_img\n",
        "\n",
        "        # Discriminator gets fake and real images as input, \n",
        "        # returns result on if it is a real or fake image\n",
        "        fake = self.disc(out_gen, training=training)\n",
        "        real = self.disc(input, training=training)\n",
        "\n",
        "        return fake, real\n",
        "\n",
        "    def noise_f(self):\n",
        "        \"\"\"Function to create noise to use in creating fake images\"\"\"\n",
        "        return tf.random.normal(shape=(32,1,98))\n",
        "\n",
        "    @property\n",
        "    def metrics(self):\n",
        "        return self.metrics_list\n",
        "    \n",
        "    def reset_metrics(self):\n",
        "        for metric in self.metrics:\n",
        "            metric.reset_state()\n",
        "\n",
        "    @tf.function\n",
        "    def train(self,x):\n",
        "        # Initialize noise\n",
        "        noise = self.noise_f()\n",
        "\n",
        "        # Use two GradientTapes on discriminator and generator to optimize \n",
        "        # each model separately\n",
        "        with tf.GradientTape() as disc_tape, tf.GradientTape() as gen_tape:\n",
        "\n",
        "            # y1 = fake output, y2 = real output\n",
        "            y1,y2 = self(noise, x, training=True)\n",
        "            # Create targets for fake (=0) and real images (=1)\n",
        "            fake_t, real_t = tf.zeros_like(y1), tf.ones_like(y2)\n",
        "\n",
        "            # Calculate BCE loss for fake and real images,\n",
        "            # combination of both is the discriminator loss\n",
        "            loss_f = self.loss(fake_t, y1)\n",
        "            loss_r = self.loss(real_t, y2)\n",
        "            loss_disc = loss_f + loss_r\n",
        "\n",
        "            # Loss of Generator is calculated on how much fake images are\n",
        "            # rated as real (target=1)\n",
        "            loss_gen = self.loss(tf.ones_like(y1), y1)\n",
        "\n",
        "        # Optimize Discriminator and Generator separately\n",
        "        gradients_disc = disc_tape.gradient(loss_disc, self.disc.trainable_variables)\n",
        "        gradients_gen = gen_tape.gradient(loss_gen, self.gen.trainable_variables)\n",
        "        self.opt_disc.apply_gradients(zip(gradients_disc, self.disc.trainable_variables))\n",
        "        self.opt_gen.apply_gradients(zip(gradients_gen, self.gen.trainable_variables))\n",
        "\n",
        "        self.metrics[0].update_state(loss_disc)\n",
        "        self.metrics[1].update_state(loss_gen)\n",
        "\n",
        "        return {m.name : m.result() for m in self.metrics}\n",
        "    \n",
        "    @tf.function\n",
        "    def test(self,x):\n",
        "        # For additional comments look at train function\n",
        "        noise = self.noise_f()\n",
        "\n",
        "        y1,y2 = self(noise, x, training=True)\n",
        "        fake_t, real_t = tf.zeros_like(y1), tf.ones_like(y2)\n",
        "\n",
        "        loss_f = self.loss(fake_t, y1)\n",
        "        loss_r = self.loss(real_t, y2)\n",
        "        loss = loss_f + loss_r\n",
        "\n",
        "        loss_gen = self.loss(tf.ones_like(y1), y1)\n",
        "\n",
        "        self.metrics[0].update_state(loss)\n",
        "        self.metrics[1].update_state(loss_gen)\n",
        "\n",
        "        return {m.name : m.result() for m in self.metrics}"
      ],
      "metadata": {
        "id": "kA3hZrwo3tGi"
      },
      "execution_count": 79,
      "outputs": []
    },
    {
      "cell_type": "markdown",
      "source": [
        "## Training"
      ],
      "metadata": {
        "id": "ACEnV2cGuRGk"
      }
    },
    {
      "cell_type": "code",
      "source": [
        "# Initialize GAN\n",
        "model_test = GAN()\n",
        "# Test model structure with dummy input\n",
        "model_test(tf.ones((32,1,98)),tf.ones((32,28,28,1)));\n",
        "#model_test.summary()"
      ],
      "metadata": {
        "id": "M-kVOrORHyX1"
      },
      "execution_count": 80,
      "outputs": []
    },
    {
      "cell_type": "code",
      "source": [
        "# Create random 1d-latent-space vector for generating images while training\n",
        "lat_vec = np.random.normal(size=(1,98))"
      ],
      "metadata": {
        "id": "dgdDY4Cp8J7N"
      },
      "execution_count": 81,
      "outputs": []
    },
    {
      "cell_type": "code",
      "source": [
        "import tqdm\n",
        "\n",
        "def training_loop(model, train, val, epochs, lat_vec):\n",
        "    \"\"\"Train and test the RNN for given epochs on given data\"\"\"\n",
        "\n",
        "    # Save loss for Discriminator and Generator as dictionaries in a list for visualization\n",
        "    lists = []\n",
        "    # Save created images while training in list\n",
        "    img = []\n",
        "\n",
        "    for n in range(epochs):\n",
        "        print(f\"Epoch {n}:\")\n",
        "\n",
        "        for data in tqdm.tqdm(train, position=0, leave=True):\n",
        "            metrics = model.train(data)\n",
        "\n",
        "        # Add metrics to list\n",
        "        lists.append(metrics)\n",
        "        print([f\"{key}: {value.numpy()}\" for (key,value) in metrics.items()])\n",
        "        model.reset_metrics()\n",
        "\n",
        "        for data in tqdm.tqdm(val, position=0, leave=True):\n",
        "            metrics = model.test(data)\n",
        "\n",
        "        # Add metrics to list\n",
        "        lists.append(metrics)\n",
        "        print([f\"{key}: {value.numpy()}\" for (key,value) in metrics.items()])\n",
        "        model.reset_metrics()\n",
        "\n",
        "        # Create image from generator with random latent vector and save in list\n",
        "        img.append(model.gen(lat_vec))\n",
        "        \n",
        "    return lists, img\n",
        "\n",
        "li, img = training_loop(model_test, train_ds, test_ds, epochs=10, lat_vec=lat_vec)"
      ],
      "metadata": {
        "colab": {
          "base_uri": "https://localhost:8080/"
        },
        "id": "oQinF9GNJEIl",
        "outputId": "eb8f0274-fa99-44f9-b178-53baa5789c18"
      },
      "execution_count": 82,
      "outputs": [
        {
          "output_type": "stream",
          "name": "stdout",
          "text": [
            "Epoch 0:\n"
          ]
        },
        {
          "output_type": "stream",
          "name": "stderr",
          "text": [
            "100%|██████████| 313/313 [00:04<00:00, 75.55it/s]\n"
          ]
        },
        {
          "output_type": "stream",
          "name": "stdout",
          "text": [
            "['loss discriminator: 0.4835954010486603', 'loss generator: 2.935462713241577']\n"
          ]
        },
        {
          "output_type": "stream",
          "name": "stderr",
          "text": [
            "100%|██████████| 79/79 [00:00<00:00, 88.29it/s] \n"
          ]
        },
        {
          "output_type": "stream",
          "name": "stdout",
          "text": [
            "['loss discriminator: 0.08681119233369827', 'loss generator: 3.9842584133148193']\n",
            "Epoch 1:\n"
          ]
        },
        {
          "output_type": "stream",
          "name": "stderr",
          "text": [
            "100%|██████████| 313/313 [00:02<00:00, 154.57it/s]\n"
          ]
        },
        {
          "output_type": "stream",
          "name": "stdout",
          "text": [
            "['loss discriminator: 0.14891397953033447', 'loss generator: 3.4015660285949707']\n"
          ]
        },
        {
          "output_type": "stream",
          "name": "stderr",
          "text": [
            "100%|██████████| 79/79 [00:00<00:00, 257.41it/s]\n"
          ]
        },
        {
          "output_type": "stream",
          "name": "stdout",
          "text": [
            "['loss discriminator: 0.2280435860157013', 'loss generator: 3.3860573768615723']\n",
            "Epoch 2:\n"
          ]
        },
        {
          "output_type": "stream",
          "name": "stderr",
          "text": [
            "100%|██████████| 313/313 [00:01<00:00, 158.17it/s]\n"
          ]
        },
        {
          "output_type": "stream",
          "name": "stdout",
          "text": [
            "['loss discriminator: 0.2001023143529892', 'loss generator: 3.2280213832855225']\n"
          ]
        },
        {
          "output_type": "stream",
          "name": "stderr",
          "text": [
            "100%|██████████| 79/79 [00:00<00:00, 251.49it/s]\n"
          ]
        },
        {
          "output_type": "stream",
          "name": "stdout",
          "text": [
            "['loss discriminator: 0.2589714229106903', 'loss generator: 2.6727097034454346']\n",
            "Epoch 3:\n"
          ]
        },
        {
          "output_type": "stream",
          "name": "stderr",
          "text": [
            "100%|██████████| 313/313 [00:01<00:00, 157.05it/s]\n"
          ]
        },
        {
          "output_type": "stream",
          "name": "stdout",
          "text": [
            "['loss discriminator: 0.18910633027553558', 'loss generator: 3.3770575523376465']\n"
          ]
        },
        {
          "output_type": "stream",
          "name": "stderr",
          "text": [
            "100%|██████████| 79/79 [00:00<00:00, 234.75it/s]\n"
          ]
        },
        {
          "output_type": "stream",
          "name": "stdout",
          "text": [
            "['loss discriminator: 0.18638862669467926', 'loss generator: 4.216867446899414']\n",
            "Epoch 4:\n"
          ]
        },
        {
          "output_type": "stream",
          "name": "stderr",
          "text": [
            "100%|██████████| 313/313 [00:02<00:00, 151.60it/s]\n"
          ]
        },
        {
          "output_type": "stream",
          "name": "stdout",
          "text": [
            "['loss discriminator: 0.16940264403820038', 'loss generator: 3.6296305656433105']\n"
          ]
        },
        {
          "output_type": "stream",
          "name": "stderr",
          "text": [
            "100%|██████████| 79/79 [00:00<00:00, 245.57it/s]\n"
          ]
        },
        {
          "output_type": "stream",
          "name": "stdout",
          "text": [
            "['loss discriminator: 0.12744146585464478', 'loss generator: 3.3249638080596924']\n",
            "Epoch 5:\n"
          ]
        },
        {
          "output_type": "stream",
          "name": "stderr",
          "text": [
            "100%|██████████| 313/313 [00:01<00:00, 156.59it/s]\n"
          ]
        },
        {
          "output_type": "stream",
          "name": "stdout",
          "text": [
            "['loss discriminator: 0.22279581427574158', 'loss generator: 3.416400909423828']\n"
          ]
        },
        {
          "output_type": "stream",
          "name": "stderr",
          "text": [
            "100%|██████████| 79/79 [00:00<00:00, 245.35it/s]\n"
          ]
        },
        {
          "output_type": "stream",
          "name": "stdout",
          "text": [
            "['loss discriminator: 0.14948247373104095', 'loss generator: 3.6426379680633545']\n",
            "Epoch 6:\n"
          ]
        },
        {
          "output_type": "stream",
          "name": "stderr",
          "text": [
            "100%|██████████| 313/313 [00:02<00:00, 154.96it/s]\n"
          ]
        },
        {
          "output_type": "stream",
          "name": "stdout",
          "text": [
            "['loss discriminator: 0.21776936948299408', 'loss generator: 3.5400631427764893']\n"
          ]
        },
        {
          "output_type": "stream",
          "name": "stderr",
          "text": [
            "100%|██████████| 79/79 [00:00<00:00, 247.01it/s]\n"
          ]
        },
        {
          "output_type": "stream",
          "name": "stdout",
          "text": [
            "['loss discriminator: 0.1402549147605896', 'loss generator: 2.930347204208374']\n",
            "Epoch 7:\n"
          ]
        },
        {
          "output_type": "stream",
          "name": "stderr",
          "text": [
            "100%|██████████| 313/313 [00:01<00:00, 156.71it/s]\n"
          ]
        },
        {
          "output_type": "stream",
          "name": "stdout",
          "text": [
            "['loss discriminator: 0.1841619461774826', 'loss generator: 3.7136800289154053']\n"
          ]
        },
        {
          "output_type": "stream",
          "name": "stderr",
          "text": [
            "100%|██████████| 79/79 [00:00<00:00, 254.91it/s]\n"
          ]
        },
        {
          "output_type": "stream",
          "name": "stdout",
          "text": [
            "['loss discriminator: 0.1135658323764801', 'loss generator: 4.4444966316223145']\n",
            "Epoch 8:\n"
          ]
        },
        {
          "output_type": "stream",
          "name": "stderr",
          "text": [
            "100%|██████████| 313/313 [00:02<00:00, 154.88it/s]\n"
          ]
        },
        {
          "output_type": "stream",
          "name": "stdout",
          "text": [
            "['loss discriminator: 0.16103504598140717', 'loss generator: 3.884079933166504']\n"
          ]
        },
        {
          "output_type": "stream",
          "name": "stderr",
          "text": [
            "100%|██████████| 79/79 [00:00<00:00, 211.99it/s]\n"
          ]
        },
        {
          "output_type": "stream",
          "name": "stdout",
          "text": [
            "['loss discriminator: 0.15206772089004517', 'loss generator: 3.129424810409546']\n",
            "Epoch 9:\n"
          ]
        },
        {
          "output_type": "stream",
          "name": "stderr",
          "text": [
            "100%|██████████| 313/313 [00:02<00:00, 151.79it/s]\n"
          ]
        },
        {
          "output_type": "stream",
          "name": "stdout",
          "text": [
            "['loss discriminator: 0.21858207881450653', 'loss generator: 3.784379005432129']\n"
          ]
        },
        {
          "output_type": "stream",
          "name": "stderr",
          "text": [
            "100%|██████████| 79/79 [00:00<00:00, 244.67it/s]"
          ]
        },
        {
          "output_type": "stream",
          "name": "stdout",
          "text": [
            "['loss discriminator: 0.100962795317173', 'loss generator: 3.7750675678253174']\n"
          ]
        },
        {
          "output_type": "stream",
          "name": "stderr",
          "text": [
            "\n"
          ]
        }
      ]
    },
    {
      "cell_type": "markdown",
      "source": [
        "## Visualization"
      ],
      "metadata": {
        "id": "IFtNB4oJt22d"
      }
    },
    {
      "cell_type": "code",
      "source": [
        "# Display the images created by the Generator while training\n",
        "k = 1\n",
        "plt.figure(figsize=(25,10))\n",
        "\n",
        "for x in img:\n",
        "    # Reduce dimensionality of images for displaying to 2D (remove batch and color channel)\n",
        "    x = np.squeeze(x, axis=0)\n",
        "    x = np.squeeze(x, axis=-1)\n",
        "    plt.subplot(1, len(img), k)\n",
        "    plt.imshow(x, cmap='gray')\n",
        "    plt.axis('off')\n",
        "    k += 1\n",
        "\n",
        "plt.show()"
      ],
      "metadata": {
        "id": "XTxlJYt8KyKR",
        "colab": {
          "base_uri": "https://localhost:8080/",
          "height": 127
        },
        "outputId": "70affd3a-5f8b-43ab-b6af-acd6e07873a4"
      },
      "execution_count": 90,
      "outputs": [
        {
          "output_type": "display_data",
          "data": {
            "text/plain": [
              "<Figure size 1800x720 with 10 Axes>"
            ],
            "image/png": "[encoded data removed]"
          },
          "metadata": {}
        }
      ]
    },
    {
      "cell_type": "code",
      "source": [
        "import seaborn as sns\n",
        "%matplotlib inline\n",
        "\n",
        "def visualization(lists):\n",
        "    \"\"\"Visualizes accuracy and loss for training and test data \"\"\"\n",
        "\n",
        "    # Create lists for each visualized metric\n",
        "    epochs = np.array([*range(10)])\n",
        "    train_loss_disc = np.zeros(epochs.size)\n",
        "    train_loss_gen = np.zeros(epochs.size)\n",
        "    test_loss_disc = np.zeros(epochs.size)\n",
        "    test_loss_gen = np.zeros(epochs.size) \n",
        "\n",
        "    # Counter used for splitting the input\n",
        "    c,i = 0,0\n",
        "    # Split up the metrics to the corresponding arrays\n",
        "    for k in range(len(lists)):\n",
        "        if k%2 == 1:\n",
        "            test_loss_disc[i] = lists[k]['loss discriminator'].numpy()\n",
        "            test_loss_gen[i] = lists[k]['loss generator'].numpy()\n",
        "            i += 1\n",
        "        else:\n",
        "            train_loss_disc[c] = lists[k]['loss discriminator'].numpy()\n",
        "            train_loss_gen[c] = lists[k]['loss generator'].numpy()\n",
        "            c += 1\n",
        "    \n",
        "    # Create dictionary with all 4 metrics\n",
        "    data= {'Train_Loss_Disc':train_loss_disc, 'Train_Loss_Gen':train_loss_gen, 'Test_Loss_Disc':test_loss_disc, 'Test_Loss_Gen':test_loss_gen}\n",
        "\n",
        "    # Plot the metrics\n",
        "    sns.set_theme()\n",
        "    sns.relplot(data=data, kind='line').set(title='Visualization of loss for discriminator and generator',xlabel='Epochs', ylabel='Loss')\n",
        "\n",
        "visualization(li)"
      ],
      "metadata": {
        "id": "rBM3RdUF-giO",
        "colab": {
          "base_uri": "https://localhost:8080/",
          "height": 381
        },
        "outputId": "04832ba0-7d5f-4461-8bc9-c704d6d59e3a"
      },
      "execution_count": 103,
      "outputs": [
        {
          "output_type": "display_data",
          "data": {
            "text/plain": [
              "<Figure size 484.85x360 with 1 Axes>"
            ],
            "image/png": "[encoded data removed]"
          },
          "metadata": {}
        }
      ]
    },
    {
      "cell_type": "markdown",
      "source": [
        "## Outstanding"
      ],
      "metadata": {
        "id": "NsChLeCzw5SR"
      }
    },
    {
      "cell_type": "code",
      "source": [
        "import datetime \n",
        "\n",
        "def is_it_christmas(model, datum):\n",
        "    year = datum.year\n",
        "    day = datum.day\n",
        "    # Determine weekday of \n",
        "    xmas = datetime.date(year, 12, 24).isoweekday()\n",
        "    # List to save created images\n",
        "    img = []\n",
        "\n",
        "    # If the 24th is Sunday -> 24th = 4th advent, \n",
        "    # otherwise subtract days until sunday (=7)\n",
        "    if xmas == 7:\n",
        "        vier = datetime.date(2022, 12, 24).day\n",
        "    else:\n",
        "        vier = datetime.date(2022, 12, 24-xmas).day\n",
        "\n",
        "    # Depending on the date, create 3,4 or 5 candles\n",
        "    if day < vier:\n",
        "        for _ in range(3):\n",
        "            img.append(model.gen(np.random.normal(size=(1,98))))\n",
        "    if day >= vier and day < vier+7:\n",
        "        for _ in range(4):\n",
        "            img.append(model.gen(np.random.normal(size=(1,98))))\n",
        "    if day > vier+7:\n",
        "        for _ in range(5):\n",
        "            img.append(model.gen(np.random.normal(size=(1,98))))\n",
        "    \n",
        "    # PLot the candles\n",
        "    k=1\n",
        "    for x in img:\n",
        "        # Reduce dimensionality of images for displaying to 2D (remove batch and color channel)\n",
        "        x = np.squeeze(x, axis=0)\n",
        "        x = np.squeeze(x, axis=-1)\n",
        "        plt.subplot(1, len(img),k)\n",
        "        # 1-x to invert colors\n",
        "        plt.imshow(1-x, cmap='gray')\n",
        "        plt.axis('off')\n",
        "        k += 1\n",
        "    return\n",
        "\n",
        "# Date of advent wreath\n",
        "date = datetime.date(2022, 12, 16)\n",
        "\n",
        "plt.figure(figsize=(10,5))\n",
        "is_it_christmas(model_test, date)\n",
        "plt.show()"
      ],
      "metadata": {
        "id": "8m106-C5knJR",
        "colab": {
          "base_uri": "https://localhost:8080/",
          "height": 195
        },
        "outputId": "4c4def0c-db37-4cd9-cdee-192dd0cdb7ca"
      },
      "execution_count": 102,
      "outputs": [
        {
          "output_type": "display_data",
          "data": {
            "text/plain": [
              "<Figure size 720x360 with 3 Axes>"
            ],
            "image/png": "[encoded data removed]"
          },
          "metadata": {}
        }
      ]
    },
    {
      "cell_type": "code",
      "source": [],
      "metadata": {
        "id": "zp4j7RN7__MZ"
      },
      "execution_count": 101,
      "outputs": []
    }
  ]
}