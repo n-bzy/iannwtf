{
  "cells": [
    {
      "cell_type": "markdown",
      "metadata": {
        "id": "view-in-github",
        "colab_type": "text"
      },
      "source": [
        "<a href=\"https://colab.research.google.com/github/n-bzy/iannwtf/blob/main/homework05.ipynb\" target=\"_parent\"><img src=\"https://colab.research.google.com/assets/colab-badge.svg\" alt=\"Open In Colab\"/></a>"
      ]
    },
    {
      "cell_type": "markdown",
      "metadata": {
        "id": "aJcFuYlkRRDp"
      },
      "source": [
        "# Prepare dataset CIFAR-10"
      ]
    },
    {
      "cell_type": "code",
      "execution_count": 58,
      "metadata": {
        "colab": {
          "base_uri": "https://localhost:8080/"
        },
        "id": "ahz_0o0SH56z",
        "outputId": "63eb1d07-b30f-4bdc-bbf5-6bfdb086a454"
      },
      "outputs": [
        {
          "output_type": "stream",
          "name": "stdout",
          "text": [
            "(256, 32, 32, 3) (256, 10)\n"
          ]
        }
      ],
      "source": [
        "import numpy as np\n",
        "import tensorflow as tf\n",
        "import tensorflow_datasets as tfds\n",
        "\n",
        "train_ds, val_ds = tfds.load('cifar10', split=['train', 'test'], as_supervised=True)\n",
        "\n",
        "def preprocessing(data):\n",
        "    \"\"\"Preparing data sets for use in CNN\"\"\"\n",
        "    data = data.map(lambda x,t : (tf.cast(x, tf.float32), t))\n",
        "    data = data.map(lambda x,t : ((x/255.), t))\n",
        "    data = data.map(lambda x,t : (x, tf.one_hot(t, depth=10)))\n",
        "\n",
        "    data = data.cache()\n",
        "    data = data.shuffle(1000)\n",
        "    data = data.batch(256)\n",
        "    data = data.prefetch(tf.data.AUTOTUNE)\n",
        "\n",
        "    return data\n",
        "\n",
        "# Test preprocessing and check for value and target shapes \n",
        "# (important for initializing of model with input values)\n",
        "train_test = preprocessing(train_ds)\n",
        "\n",
        "for x, t in train_test.take(1):\n",
        "    print(x.shape, t.shape)"
      ]
    },
    {
      "cell_type": "markdown",
      "metadata": {
        "id": "JMSNd9C-RQhM"
      },
      "source": [
        "# The CNN Model"
      ]
    },
    {
      "cell_type": "code",
      "execution_count": 63,
      "metadata": {
        "id": "vV1xo45GV3JJ"
      },
      "outputs": [],
      "source": [
        "class ResCNNBlock(tf.keras.layers.Layer):\n",
        "    \"\"\"Combine several conv2D-layers with use of bottleneck to a block\"\"\"\n",
        "    def __init__(self, n_filters, b_filters, layers):\n",
        "        \"\"\"Initialize a first layer, bottleneck and Conv2D layers\"\"\"\n",
        "        super().__init__()\n",
        "        # First layer to get the input size match the output size\n",
        "        self.deeper_layer = tf.keras.layers.Conv2D(filters=n_filters, kernel_size=3, padding='same', activation='relu')\n",
        "        # Use Bottleneck_in to reduce the depth of convolutional layers (b_filters << n_filters)\n",
        "        self.bottleneck_in = tf.keras.layers.Conv2D(filters=b_filters, kernel_size=1, padding='same')\n",
        "        self.layers = [tf.keras.layers.Conv2D(filters=b_filters, kernel_size=3, \n",
        "                        padding='same', activation='relu') for _ in range(layers)]\n",
        "        # Use bottleneck_out to increase the depth back to the original size\n",
        "        self.bottleneck_out = tf.keras.layers.Conv2D(filters=n_filters, kernel_size=1, padding='same')\n",
        "\n",
        "    def call(self, x):\n",
        "        \"\"\"Add the input to the output of the block for ResNet\"\"\"\n",
        "        z = self.deeper_layer(x)\n",
        "        c = self.bottleneck_in(z)\n",
        "        for layer in self.layers:\n",
        "            c = layer(c)\n",
        "        c = self.bottleneck_out(c)\n",
        "        # Add the (addapted) input to the output for Residual Learning\n",
        "        x = z+c\n",
        "        return x\n",
        "\n",
        "class CNN(tf.keras.Model):\n",
        "    \"\"\"Combine several CNN blocks with pooling to a Convolutional Neuronal Network\"\"\"\n",
        "    def __init__(self):\n",
        "        \"\"\"Initialize CNN blocks, pooling, optimizer, loss function and metrics\"\"\"\n",
        "        super().__init__()\n",
        "\n",
        "        self.block1 = ResCNNBlock(64, 16, 3)\n",
        "        self.pool1 = tf.keras.layers.MaxPool2D(pool_size=2, strides=2)\n",
        "        # After pooling image size 16x16\n",
        "\n",
        "        self.block2 = ResCNNBlock(128, 32, 4)\n",
        "        self.pool2 = tf.keras.layers.MaxPool2D(pool_size=2, strides=2)\n",
        "        # After pooling image size 8x8\n",
        "\n",
        "        # More layers lead to overfitting of training data\n",
        "\n",
        "        self.block3 = ResCNNBlock(256, 64, 20)\n",
        "        self.pool3 = tf.keras.layers.GlobalAvgPool2D()\n",
        "        # After global pooling img size 1x1 for dense layer\n",
        "\n",
        "        self.out = tf.keras.layers.Dense(10, activation='softmax')\n",
        "\n",
        "        self.optimizer = tf.keras.optimizers.Adam()\n",
        "        self.loss_function = tf.keras.losses.CategoricalCrossentropy()\n",
        "        self.metrics_list = [\n",
        "            tf.keras.metrics.Mean(name='loss'),\n",
        "            tf.keras.metrics.CategoricalAccuracy(name='accuracy')\n",
        "            ]\n",
        "    \n",
        "    def call(self, x, training=False):\n",
        "        \"\"\"Pass the input trough the CNN\"\"\"\n",
        "        x = self.block1(x)\n",
        "        x = self.pool1(x)\n",
        "\n",
        "        x = self.block2(x)\n",
        "        x = self.pool2(x)\n",
        "\n",
        "        x = self.block3(x)\n",
        "        x = self.pool3(x) \n",
        "\n",
        "        y = self.out(x)\n",
        "        return y\n",
        "\n",
        "    def reset_metrics(self):\n",
        "        \"\"\"Function to reset every metric. Necessary for train_loop\"\"\"\n",
        "        for metric in self.metrics_list:\n",
        "            metric.reset_states()\n",
        "\n",
        "    @tf.function\n",
        "    def train(self, input):\n",
        "        \"\"\"Training step for CNN\"\"\"\n",
        "        x,t = input\n",
        "\n",
        "        with tf.GradientTape() as tape:\n",
        "            output = self(x, training=True)\n",
        "            loss = self.loss_function(t, output) + tf.reduce_sum(self.losses)\n",
        "        gradients = tape.gradient(loss, self.trainable_variables)\n",
        "        self.optimizer.apply_gradients(zip(gradients, self.trainable_variables))\n",
        "\n",
        "        self.metrics_list[0].update_state(values=loss)\n",
        "        self.metrics_list[1].update_state(t, output)\n",
        "        \n",
        "        return {m.name:m.result() for m in self.metrics_list}\n",
        "    \n",
        "    @tf.function\n",
        "    def test(self, input):\n",
        "        \"\"\"Testing step for CNN\"\"\"\n",
        "        x,t = input\n",
        "        output = self(x, training=False)\n",
        "        loss = self.loss_function(t, output) + tf.reduce_sum(self.losses)\n",
        "\n",
        "        self.metrics_list[0].update_state(values=loss)\n",
        "        self.metrics_list[1].update_state(t, output)\n",
        "        \n",
        "        return {m.name:m.result() for m in self.metrics_list}"
      ]
    },
    {
      "cell_type": "markdown",
      "metadata": {
        "id": "7EuNdFusDos1"
      },
      "source": [
        "# Training the network"
      ]
    },
    {
      "cell_type": "code",
      "execution_count": 64,
      "metadata": {
        "id": "gza3PQccDtAW"
      },
      "outputs": [],
      "source": [
        "import tqdm\n",
        "\n",
        "def training_loop(model, train_ds, val_ds, epochs):\n",
        "    \"\"\"Train and test the CNN for given epochs on given data\"\"\"\n",
        "\n",
        "    train = preprocessing(train_ds)\n",
        "    val = preprocessing(val_ds)\n",
        "\n",
        "    # Save loss and accuracy as dictionaries in a list for visualization\n",
        "    lists = []\n",
        "\n",
        "    for n in range(epochs):\n",
        "        print(f\"Epoch {n}:\")\n",
        "\n",
        "        for data in tqdm.tqdm(train, position=0, leave=True):\n",
        "            metrics = model.train(data)\n",
        "\n",
        "        # Add metrics to list\n",
        "        lists.append(metrics)\n",
        "        print([f\"{key}: {value.numpy()}\" for (key,value) in metrics.items()])\n",
        "        model.reset_metrics()\n",
        "\n",
        "        for data in tqdm.tqdm(val, position=0, leave=True):\n",
        "            metrics = model.test(data)\n",
        "\n",
        "        # Add metrics to list\n",
        "        lists.append(metrics)\n",
        "        print([f\"{key}: {value.numpy()}\" for (key,value) in metrics.items()])\n",
        "        model.reset_metrics()\n",
        "        \n",
        "    return lists"
      ]
    },
    {
      "cell_type": "code",
      "execution_count": 65,
      "metadata": {
        "id": "9qeNX1T3fykx"
      },
      "outputs": [],
      "source": [
        "# Initiate model CNN\n",
        "model = CNN()\n",
        "model(tf.keras.Input((32,32,3)));"
      ]
    },
    {
      "cell_type": "code",
      "execution_count": 66,
      "metadata": {
        "colab": {
          "base_uri": "https://localhost:8080/"
        },
        "id": "HQqrrRVPfykz",
        "outputId": "8dd16545-0849-49bf-de44-edf863fecbf3"
      },
      "outputs": [
        {
          "output_type": "stream",
          "name": "stdout",
          "text": [
            "Epoch 0:\n"
          ]
        },
        {
          "output_type": "stream",
          "name": "stderr",
          "text": [
            "100%|██████████| 196/196 [00:15<00:00, 12.46it/s]\n"
          ]
        },
        {
          "output_type": "stream",
          "name": "stdout",
          "text": [
            "['loss: 1.8148301839828491', 'accuracy: 0.3091199994087219']\n"
          ]
        },
        {
          "output_type": "stream",
          "name": "stderr",
          "text": [
            "100%|██████████| 40/40 [00:02<00:00, 15.56it/s]\n"
          ]
        },
        {
          "output_type": "stream",
          "name": "stdout",
          "text": [
            "['loss: 1.5804206132888794', 'accuracy: 0.41200000047683716']\n",
            "Epoch 1:\n"
          ]
        },
        {
          "output_type": "stream",
          "name": "stderr",
          "text": [
            "100%|██████████| 196/196 [00:12<00:00, 15.22it/s]\n"
          ]
        },
        {
          "output_type": "stream",
          "name": "stdout",
          "text": [
            "['loss: 1.4509608745574951', 'accuracy: 0.46601998805999756']\n"
          ]
        },
        {
          "output_type": "stream",
          "name": "stderr",
          "text": [
            "100%|██████████| 40/40 [00:00<00:00, 47.40it/s]\n"
          ]
        },
        {
          "output_type": "stream",
          "name": "stdout",
          "text": [
            "['loss: 1.3722286224365234', 'accuracy: 0.49619999527931213']\n",
            "Epoch 2:\n"
          ]
        },
        {
          "output_type": "stream",
          "name": "stderr",
          "text": [
            "100%|██████████| 196/196 [00:12<00:00, 15.18it/s]\n"
          ]
        },
        {
          "output_type": "stream",
          "name": "stdout",
          "text": [
            "['loss: 1.2672476768493652', 'accuracy: 0.5367799997329712']\n"
          ]
        },
        {
          "output_type": "stream",
          "name": "stderr",
          "text": [
            "100%|██████████| 40/40 [00:00<00:00, 47.32it/s]\n"
          ]
        },
        {
          "output_type": "stream",
          "name": "stdout",
          "text": [
            "['loss: 1.2194182872772217', 'accuracy: 0.550000011920929']\n",
            "Epoch 3:\n"
          ]
        },
        {
          "output_type": "stream",
          "name": "stderr",
          "text": [
            "100%|██████████| 196/196 [00:12<00:00, 15.24it/s]\n"
          ]
        },
        {
          "output_type": "stream",
          "name": "stdout",
          "text": [
            "['loss: 1.127926230430603', 'accuracy: 0.593280017375946']\n"
          ]
        },
        {
          "output_type": "stream",
          "name": "stderr",
          "text": [
            "100%|██████████| 40/40 [00:00<00:00, 46.78it/s]\n"
          ]
        },
        {
          "output_type": "stream",
          "name": "stdout",
          "text": [
            "['loss: 1.0698506832122803', 'accuracy: 0.609499990940094']\n",
            "Epoch 4:\n"
          ]
        },
        {
          "output_type": "stream",
          "name": "stderr",
          "text": [
            "100%|██████████| 196/196 [00:12<00:00, 15.47it/s]\n"
          ]
        },
        {
          "output_type": "stream",
          "name": "stdout",
          "text": [
            "['loss: 1.0273398160934448', 'accuracy: 0.6317800283432007']\n"
          ]
        },
        {
          "output_type": "stream",
          "name": "stderr",
          "text": [
            "100%|██████████| 40/40 [00:00<00:00, 47.85it/s]\n"
          ]
        },
        {
          "output_type": "stream",
          "name": "stdout",
          "text": [
            "['loss: 1.0389937162399292', 'accuracy: 0.6215000152587891']\n",
            "Epoch 5:\n"
          ]
        },
        {
          "output_type": "stream",
          "name": "stderr",
          "text": [
            "100%|██████████| 196/196 [00:12<00:00, 15.53it/s]\n"
          ]
        },
        {
          "output_type": "stream",
          "name": "stdout",
          "text": [
            "['loss: 0.9442078471183777', 'accuracy: 0.6635800004005432']\n"
          ]
        },
        {
          "output_type": "stream",
          "name": "stderr",
          "text": [
            "100%|██████████| 40/40 [00:00<00:00, 47.70it/s]\n"
          ]
        },
        {
          "output_type": "stream",
          "name": "stdout",
          "text": [
            "['loss: 0.9140409231185913', 'accuracy: 0.6743999719619751']\n",
            "Epoch 6:\n"
          ]
        },
        {
          "output_type": "stream",
          "name": "stderr",
          "text": [
            "100%|██████████| 196/196 [00:12<00:00, 15.45it/s]\n"
          ]
        },
        {
          "output_type": "stream",
          "name": "stdout",
          "text": [
            "['loss: 0.8750666379928589', 'accuracy: 0.6877599954605103']\n"
          ]
        },
        {
          "output_type": "stream",
          "name": "stderr",
          "text": [
            "100%|██████████| 40/40 [00:00<00:00, 47.58it/s]\n"
          ]
        },
        {
          "output_type": "stream",
          "name": "stdout",
          "text": [
            "['loss: 0.8802773356437683', 'accuracy: 0.6845999956130981']\n",
            "Epoch 7:\n"
          ]
        },
        {
          "output_type": "stream",
          "name": "stderr",
          "text": [
            "100%|██████████| 196/196 [00:12<00:00, 15.46it/s]\n"
          ]
        },
        {
          "output_type": "stream",
          "name": "stdout",
          "text": [
            "['loss: 0.8165959119796753', 'accuracy: 0.7076600193977356']\n"
          ]
        },
        {
          "output_type": "stream",
          "name": "stderr",
          "text": [
            "100%|██████████| 40/40 [00:00<00:00, 47.61it/s]\n"
          ]
        },
        {
          "output_type": "stream",
          "name": "stdout",
          "text": [
            "['loss: 0.8737746477127075', 'accuracy: 0.6861000061035156']\n",
            "Epoch 8:\n"
          ]
        },
        {
          "output_type": "stream",
          "name": "stderr",
          "text": [
            "100%|██████████| 196/196 [00:12<00:00, 15.41it/s]\n"
          ]
        },
        {
          "output_type": "stream",
          "name": "stdout",
          "text": [
            "['loss: 0.7642714977264404', 'accuracy: 0.7267799973487854']\n"
          ]
        },
        {
          "output_type": "stream",
          "name": "stderr",
          "text": [
            "100%|██████████| 40/40 [00:00<00:00, 47.61it/s]\n"
          ]
        },
        {
          "output_type": "stream",
          "name": "stdout",
          "text": [
            "['loss: 0.8293611407279968', 'accuracy: 0.7045999765396118']\n",
            "Epoch 9:\n"
          ]
        },
        {
          "output_type": "stream",
          "name": "stderr",
          "text": [
            "100%|██████████| 196/196 [00:12<00:00, 15.43it/s]\n"
          ]
        },
        {
          "output_type": "stream",
          "name": "stdout",
          "text": [
            "['loss: 0.7291078567504883', 'accuracy: 0.7404199838638306']\n"
          ]
        },
        {
          "output_type": "stream",
          "name": "stderr",
          "text": [
            "100%|██████████| 40/40 [00:00<00:00, 47.62it/s]\n"
          ]
        },
        {
          "output_type": "stream",
          "name": "stdout",
          "text": [
            "['loss: 0.7952278852462769', 'accuracy: 0.718500018119812']\n",
            "Epoch 10:\n"
          ]
        },
        {
          "output_type": "stream",
          "name": "stderr",
          "text": [
            "100%|██████████| 196/196 [00:12<00:00, 15.45it/s]\n"
          ]
        },
        {
          "output_type": "stream",
          "name": "stdout",
          "text": [
            "['loss: 0.6936420798301697', 'accuracy: 0.7524999976158142']\n"
          ]
        },
        {
          "output_type": "stream",
          "name": "stderr",
          "text": [
            "100%|██████████| 40/40 [00:00<00:00, 47.38it/s]\n"
          ]
        },
        {
          "output_type": "stream",
          "name": "stdout",
          "text": [
            "['loss: 0.7351962327957153', 'accuracy: 0.7396000027656555']\n",
            "Epoch 11:\n"
          ]
        },
        {
          "output_type": "stream",
          "name": "stderr",
          "text": [
            "100%|██████████| 196/196 [00:12<00:00, 15.47it/s]\n"
          ]
        },
        {
          "output_type": "stream",
          "name": "stdout",
          "text": [
            "['loss: 0.659771203994751', 'accuracy: 0.766219973564148']\n"
          ]
        },
        {
          "output_type": "stream",
          "name": "stderr",
          "text": [
            "100%|██████████| 40/40 [00:00<00:00, 47.78it/s]\n"
          ]
        },
        {
          "output_type": "stream",
          "name": "stdout",
          "text": [
            "['loss: 0.7580637335777283', 'accuracy: 0.7324000000953674']\n",
            "Epoch 12:\n"
          ]
        },
        {
          "output_type": "stream",
          "name": "stderr",
          "text": [
            "100%|██████████| 196/196 [00:12<00:00, 15.48it/s]\n"
          ]
        },
        {
          "output_type": "stream",
          "name": "stdout",
          "text": [
            "['loss: 0.6147303581237793', 'accuracy: 0.7820600271224976']\n"
          ]
        },
        {
          "output_type": "stream",
          "name": "stderr",
          "text": [
            "100%|██████████| 40/40 [00:00<00:00, 47.74it/s]\n"
          ]
        },
        {
          "output_type": "stream",
          "name": "stdout",
          "text": [
            "['loss: 0.7111777067184448', 'accuracy: 0.7531999945640564']\n",
            "Epoch 13:\n"
          ]
        },
        {
          "output_type": "stream",
          "name": "stderr",
          "text": [
            "100%|██████████| 196/196 [00:12<00:00, 15.49it/s]\n"
          ]
        },
        {
          "output_type": "stream",
          "name": "stdout",
          "text": [
            "['loss: 0.5933763980865479', 'accuracy: 0.7875199913978577']\n"
          ]
        },
        {
          "output_type": "stream",
          "name": "stderr",
          "text": [
            "100%|██████████| 40/40 [00:00<00:00, 47.63it/s]\n"
          ]
        },
        {
          "output_type": "stream",
          "name": "stdout",
          "text": [
            "['loss: 0.7276114225387573', 'accuracy: 0.739799976348877']\n",
            "Epoch 14:\n"
          ]
        },
        {
          "output_type": "stream",
          "name": "stderr",
          "text": [
            "100%|██████████| 196/196 [00:12<00:00, 15.47it/s]\n"
          ]
        },
        {
          "output_type": "stream",
          "name": "stdout",
          "text": [
            "['loss: 0.5537529587745667', 'accuracy: 0.8046200275421143']\n"
          ]
        },
        {
          "output_type": "stream",
          "name": "stderr",
          "text": [
            "100%|██████████| 40/40 [00:00<00:00, 47.70it/s]\n"
          ]
        },
        {
          "output_type": "stream",
          "name": "stdout",
          "text": [
            "['loss: 0.6478726863861084', 'accuracy: 0.7746000289916992']\n"
          ]
        }
      ],
      "source": [
        "# IMPORTANT: Run ONLY with GPU Runtime\n",
        "# Training loop\n",
        "lists = training_loop(model, train_ds, val_ds, epochs=15)"
      ]
    },
    {
      "cell_type": "markdown",
      "source": [
        "# Visualization"
      ],
      "metadata": {
        "id": "-HSlJQDfdwHe"
      }
    },
    {
      "cell_type": "code",
      "source": [
        "import matplotlib.pyplot as plt\n",
        "\n",
        "def visualization(lists):\n",
        "    \"\"\"Visualizes accuracy and loss for training and test data \"\"\"\n",
        "\n",
        "    # Create lists for each visualized metric\n",
        "    train_loss = []\n",
        "    train_accuracy = []\n",
        "    test_loss = []\n",
        "    test_accuracy = []\n",
        "\n",
        "    # Split up the metrics to the corresponding lists\n",
        "    for k in range(len(lists)):\n",
        "        if k%2 == 1:\n",
        "            test_loss.append(lists[k]['loss'].numpy())\n",
        "            test_accuracy.append(lists[k]['accuracy'].numpy())\n",
        "        else:\n",
        "            train_loss.append(lists[k]['loss'].numpy())\n",
        "            train_accuracy.append(lists[k]['accuracy'].numpy())\n",
        "\n",
        "    # Plot the metrics\n",
        "    plt.figure ()\n",
        "    line1, = plt.plot(train_loss, \"b-\")\n",
        "    line2, = plt.plot(test_loss, \"r-\")\n",
        "    line3, = plt.plot(train_accuracy, \"b:\")\n",
        "    line4, = plt.plot(test_accuracy, \"r:\")\n",
        "    plt.xlabel(\"Training steps\")\n",
        "    plt.ylabel(\"Loss / Accuracy\")\n",
        "    plt.legend((line1 , line2 , line3 , line4), (\"training loss\", \"test loss\", \"train accuracy\", \"test accuracy\"))\n",
        "    plt.show()\n",
        "\n",
        "visualization(lists)"
      ],
      "metadata": {
        "colab": {
          "base_uri": "https://localhost:8080/",
          "height": 279
        },
        "id": "slt6c4rqYiec",
        "outputId": "ac4b8fff-53a7-4870-93bb-9b5b12b5bcf0"
      },
      "execution_count": 68,
      "outputs": [
        {
          "output_type": "display_data",
          "data": {
            "text/plain": [
              "<Figure size 432x288 with 1 Axes>"
            ],
            "image/png": "[encoded data removed]"
          },
          "metadata": {
            "needs_background": "light"
          }
        }
      ]
    }
  ],
  "metadata": {
    "colab": {
      "provenance": [],
      "include_colab_link": true
    },
    "kernelspec": {
      "display_name": "Python 3.9.10 64-bit",
      "language": "python",
      "name": "python3"
    },
    "language_info": {
      "codemirror_mode": {
        "name": "ipython",
        "version": 3
      },
      "file_extension": ".py",
      "mimetype": "text/x-python",
      "name": "python",
      "nbconvert_exporter": "python",
      "pygments_lexer": "ipython3",
      "version": "3.9.10"
    },
    "orig_nbformat": 4,
    "vscode": {
      "interpreter": {
        "hash": "fe9a959b20c1a11f0379d800fd04c0320f2dff6d2d0003a40f8f375949ccb47d"
      }
    },
    "accelerator": "GPU",
    "gpuClass": "standard"
  },
  "nbformat": 4,
  "nbformat_minor": 0
}