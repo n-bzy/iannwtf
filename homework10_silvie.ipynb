{
  "nbformat": 4,
  "nbformat_minor": 0,
  "metadata": {
    "colab": {
      "provenance": [],
      "authorship_tag": "ABX9TyMm7m4+DeR49RAhxPyvHEza",
      "include_colab_link": true
    },
    "kernelspec": {
      "name": "python3",
      "display_name": "Python 3"
    },
    "language_info": {
      "name": "python"
    }
  },
  "cells": [
    {
      "cell_type": "markdown",
      "metadata": {
        "id": "view-in-github",
        "colab_type": "text"
      },
      "source": [
        "<a href=\"https://colab.research.google.com/github/n-bzy/iannwtf/blob/main/Homework_10_silvie.ipynb\" target=\"_parent\"><img src=\"https://colab.research.google.com/assets/colab-badge.svg\" alt=\"Open In Colab\"/></a>"
      ]
    },
    {
      "cell_type": "markdown",
      "source": [
        "Our model tries to predict the context (words) given an input word."
      ],
      "metadata": {
        "id": "DxJ78IjY8wSp"
      }
    },
    {
      "cell_type": "code",
      "source": [
        "!pip install -U tensorflow\n",
        "!pip install -U tensorflow-text"
      ],
      "metadata": {
        "id": "WGDudBjfrPF5"
      },
      "execution_count": null,
      "outputs": []
    },
    {
      "cell_type": "code",
      "execution_count": 1,
      "metadata": {
        "id": "f_2mDRkfe0O8"
      },
      "outputs": [],
      "source": [
        "import os\n",
        "from google.colab import drive\n",
        "import re\n",
        "import numpy as np\n",
        "import tensorflow as tf\n",
        "import tensorflow_text as tf_text\n",
        "from collections import Counter"
      ]
    },
    {
      "cell_type": "code",
      "source": [
        "#bash code to mount the drive\n",
        "drive.mount(\"/content/drive\")\n",
        "os.chdir(\"drive/MyDrive\")"
      ],
      "metadata": {
        "id": "XoPGwvJn7A4Q"
      },
      "execution_count": null,
      "outputs": []
    },
    {
      "cell_type": "code",
      "source": [
        "#load the text data (for reading purposes)\n",
        "with open(\"bible.txt\", \"r\") as f:\n",
        "  text = f.read()\n",
        "\n",
        "#convert to lower case + replace all characters that aren't letters or spaces with a space\n",
        "#we replace by a space to avoid forming new words by accident, e.g. end.Start -> endStart\n",
        "text = re.sub(\"[^a-z ]+\",\" \",text.lower()) \n",
        "#we remove possible accumulation of spaces \n",
        "text = re.sub(\" +\", \" \", text)\n",
        "\n",
        "#tokenize string into word-tokens\n",
        "words = tf_text.WhitespaceTokenizer().split(text) #tokenizer splits at spaces\n",
        "#indexing over tf.tensors is slow, so we convert all numpy array\n",
        "words = list(words.numpy())\n",
        "\n",
        "\"\"\" Simple alternative to using tf_text Tokenizer\n",
        "words = text.split()\n",
        "\"\"\"\n",
        "\n",
        "#for performance purposes, we will work with a subset (10000 most common words) of all words in the corpus\n",
        "#get unique counts of every word in text data\n",
        "word_counts = Counter(words)\n",
        "#get 10000 most common words\n",
        "mc_word_counts = word_counts.most_common(10000) #list of tuples (word,frequency)\n",
        "mc_words = [i[0] for i in mc_word_counts]   #list of most frequent words\n",
        "#remove all less frequent words from text by list comprehensions\n",
        "tokens = [x for x in words if x in mc_words]\n",
        "\n",
        "#convert string tokens to their (token-type) unique integer id\n",
        "vocabulary = {x: i for i,x in enumerate(np.unique(tokens))} #stores word (key) with its respective id (value)\n",
        "print(vocabulary)\n",
        "#replacing each word with its respective id \n",
        "id_tokens = [vocabulary[t] for t in tokens]\n"
      ],
      "metadata": {
        "id": "zLoBj4l-feq-"
      },
      "execution_count": null,
      "outputs": []
    },
    {
      "cell_type": "code",
      "source": [
        "#split long sequence of integers into many smaller sequences, using a data pipeline\n",
        "context_window = 4\n",
        "sequence_length = context_window + 1\n",
        "\n",
        "id_tokens = [0,1,2,3,4,5,6,7] #JUST FOR TESTING !!!!!!!!!!!!!!!\n",
        "\n",
        "dataset = tf.data.Dataset.from_tensor_slices(id_tokens)\n",
        "\n",
        "#dataset is a list of all windows\n",
        "dataset = dataset.window(sequence_length, shift=1, drop_remainder=True) \n",
        "\"\"\"\n",
        "EXAMPLE: \n",
        "sequence_length = 5\n",
        "id_tokens = [0,1,2,3,4,5,6,7]\n",
        "dataset = [ [0,1,2,3,4], [1,2,3,4,5], [2,3,4,5,6], [3,4,5,6,7] ]\n",
        "\"\"\"\n",
        "\n",
        "\"\"\"\n",
        "#get input(center word)-target(context word) pairs\n",
        "for window in dataset:\n",
        "  for token in window:\n",
        "    #get int token\n",
        "\n",
        "    print(token.numpy())\n",
        "\"\"\"\n",
        "\n",
        "#THIS DOES NOT WORK YET!!!!!!!!!!!!!!!!!!!!!!!!!!!!!!\n",
        "#create input(word)-target(context word) pairs\n",
        "dataset = dataset.flat_map(lambda window: window.batch(sequence_length))\n",
        "dataset = dataset.map(lambda window: (window[:], window[2]))\n",
        "\n",
        "for X, y in dataset:\n",
        "    print(\"Input:\", X.numpy(), \"Target:\", y.numpy())\n",
        "\"\"\"\n",
        "batch_windows = lambda x: x.batch(sequence_length).get_single_element()\n",
        "#generate input-target pairs\n",
        "split_sequence = lambda x: (x[:-1], x[-1])\n",
        "dataset = dataset.map(batch_windows).map(split_sequence)\n",
        "\n",
        "\n",
        "#shuffle,batch,prefetch\n",
        "dataset = dataset.shuffle(10000).batch(64).prefetch(tf.data.AUTOTUNE)\n",
        "\n",
        "#check first dataset element (must be an int list of size = sequence_length)\n",
        "for seq in dataset.take(1):\n",
        "  tf.print(seq)\n",
        "\"\"\""
      ],
      "metadata": {
        "colab": {
          "base_uri": "https://localhost:8080/",
          "height": 145
        },
        "id": "CU3lw1ePGoKv",
        "outputId": "a95af751-2463-4cb4-f615-458b6ed5eceb"
      },
      "execution_count": 46,
      "outputs": [
        {
          "output_type": "stream",
          "name": "stdout",
          "text": [
            "Input: [0 1 2 3 4] Target: 2\n",
            "Input: [1 2 3 4 5] Target: 3\n",
            "Input: [2 3 4 5 6] Target: 4\n",
            "Input: [3 4 5 6 7] Target: 5\n"
          ]
        },
        {
          "output_type": "execute_result",
          "data": {
            "text/plain": [
              "'\\nbatch_windows = lambda x: x.batch(sequence_length).get_single_element()\\n#generate input-target pairs\\nsplit_sequence = lambda x: (x[:-1], x[-1])\\ndataset = dataset.map(batch_windows).map(split_sequence)\\n\\n\\n#shuffle,batch,prefetch\\ndataset = dataset.shuffle(10000).batch(64).prefetch(tf.data.AUTOTUNE)\\n\\n#check first dataset element (must be an int list of size = sequence_length)\\nfor seq in dataset.take(1):\\n  tf.print(seq)\\n'"
            ],
            "application/vnd.google.colaboratory.intrinsic+json": {
              "type": "string"
            }
          },
          "metadata": {},
          "execution_count": 46
        }
      ]
    },
    {
      "cell_type": "markdown",
      "source": [
        "# SkipGram Model"
      ],
      "metadata": {
        "id": "G5KFQq1dbn5d"
      }
    },
    {
      "cell_type": "code",
      "source": [
        "class SkipGram(tf.keras.layers.Layer):\n",
        "  \"\"\"SkipGram Model to create word embeddings\"\"\"\n",
        "\n",
        "  def __init__(self,embedding_size,vocabulary_size):\n",
        "    \"\"\"Constructor sets embedding and vocab size\"\"\"\n",
        "\n",
        "    super(SkipGram,self).__init__()\n",
        "    self.embedding_size = embedding_size\n",
        "    self.vocabulary_size = vocabulary_size #number of words\n",
        "  \n",
        "\n",
        "  def build(self,input_shape):\n",
        "    \"\"\"Initializes the embedding and score matrices\"\"\"\n",
        "\n",
        "    self.embedding_matrix = self.add_weight(shape=(self.vocabulary_size,self.embedding_size))\n",
        "    self.score_matrix = self.add_weight(shape=(self.vocabulary_size,self.embedding_size))\n",
        "    self.score_bias = self.add_weight(shape=self.vocabulary_size, initializer=\"zeros\")\n",
        "\n",
        "\n",
        "  def call(self, inputs, labels):\n",
        "    \"\"\"Our forward step in which we get the embeddings (using embedding_lookup)\n",
        "    and directly calculate + return the loss (using nce_loss)\"\"\"\n",
        "\n",
        "    embeddings = tf.nn.embedding_lookup(self.embedding_matrix, inputs)\n",
        "    labels = tf.expand_dims(labels, axis=1)\n",
        "\n",
        "    loss = tf.nn.nce_loss(\n",
        "        weights = self.score_matrix, \n",
        "        biases = self.score_bias,\n",
        "        labels = labels,\n",
        "        inputs = embeddings,\n",
        "        num_sampled = 256, #we chose 256 negative sampled words\n",
        "        num_classes = self.vocabulary_size\n",
        "        )\n",
        "    \n",
        "    #take the mean over all batches\n",
        "    loss = tf.reduce_mean(loss)\n",
        "    \n",
        "    return loss\n"
      ],
      "metadata": {
        "id": "TPyq_W1kUZtx"
      },
      "execution_count": null,
      "outputs": []
    },
    {
      "cell_type": "markdown",
      "source": [
        "# Nearest Neighbor of a token\n",
        "INCOMPLETE CODE: Calculate cosine similarity to get nearest neighbor"
      ],
      "metadata": {
        "id": "lF1UTWjPecT_"
      }
    },
    {
      "cell_type": "code",
      "source": [
        "def get_nearest_neighbor(model,vocabulary,tokens_of_interest):\n",
        "  \"\"\"Returns the nearest neighbor that the model characterized\n",
        "  (using cosine similarity + for each token of interest)\n",
        "  \"\"\"\n",
        "  \n",
        "  for token in tokens_of_interest:\n",
        "\n",
        "    #get id of token\n",
        "    id = vocabulary[token]\n",
        "\n",
        "    #get id of nearest neighbor by choosing the toke with highest cosine similarity (smallest angle between vectors)\n",
        "    nearest_neighbor_id = \n",
        "\n",
        "    #get token from id\n",
        "    key_list = list(vocabulary.keys())\n",
        "    val_list = list(vocabulary.values())\n",
        "    position = val_list.index(nearest_neighbor_id)\n",
        "    nearest_token = key_list[position]\n",
        "\n",
        "    #print token with its closest neighbor\n",
        "    print(f\"Closest to {token} is {nearest_token}\")\n"
      ],
      "metadata": {
        "id": "MfeygdSgenxJ"
      },
      "execution_count": null,
      "outputs": []
    },
    {
      "cell_type": "markdown",
      "source": [
        "# Training"
      ],
      "metadata": {
        "id": "Ai4uxbs-bwDd"
      }
    },
    {
      "cell_type": "code",
      "source": [
        "def train_step(model, data, optimizer):\n",
        "  \"\"\"Training step that returns the current loss/error of model\"\"\"\n",
        "  input,target = data\n",
        "\n",
        "  with tf.GradientTape() as tape:\n",
        "    loss = model(input,target)\n",
        "    gradients = tape.gradient(loss, model.trainable_variables)\n",
        "\n",
        "  optimizer.apply_gradients(zip(gradients,model.trainable_variables))\n",
        "\n",
        "  return loss"
      ],
      "metadata": {
        "id": "t2F-SHGlacgI"
      },
      "execution_count": null,
      "outputs": []
    },
    {
      "cell_type": "code",
      "source": [
        "tokens_of_interest = [\"holy\", \"father\", \"wine\", \"poison\", \"love\", \"strong\", \"day\"]\n",
        "learning_rate = tf.constant(0.01, dtype=tf.float32)\n",
        "optimizer = tf.optimizers.Adam(learning_rate) \n",
        "num_epochs = 10\n",
        "embedding_size = 64\n",
        "vocabulary_size = len(vocabulary)\n",
        "\n",
        "#create model\n",
        "model = SkipGram(embedding_size,vocabulary_size)\n",
        "\n",
        "#train model for num_epochs \n",
        "for epoch in range(num_epochs):\n",
        "  #conduct training step\n",
        "  loss = train_step(model,data,optimizer) #DATA IS THE PREPROCESSED INPUT-TARGET PAIRS !!!!!!\n",
        "  #print current loss\n",
        "  print(f\"Epoch {epoch} has a loss of {loss}\")\n",
        "  #print current nearest neighbor assumptions\n",
        "  get_nearest_neighbor(model,vocabulary,tokens_of_interest)\n"
      ],
      "metadata": {
        "id": "t02i7IKHfx3o"
      },
      "execution_count": null,
      "outputs": []
    }
  ]
}
