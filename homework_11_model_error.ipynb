{
  "nbformat": 4,
  "nbformat_minor": 0,
  "metadata": {
    "colab": {
      "provenance": [],
      "authorship_tag": "ABX9TyNLaw7gOAYl8SBB6ga74i8W",
      "include_colab_link": true
    },
    "kernelspec": {
      "name": "python3",
      "display_name": "Python 3"
    },
    "language_info": {
      "name": "python"
    },
    "accelerator": "GPU",
    "gpuClass": "standard"
  },
  "cells": [
    {
      "cell_type": "markdown",
      "metadata": {
        "id": "view-in-github",
        "colab_type": "text"
      },
      "source": [
        "<a href=\"https://colab.research.google.com/github/n-bzy/iannwtf/blob/main/homework_11_model_error.ipynb\" target=\"_parent\"><img src=\"https://colab.research.google.com/assets/colab-badge.svg\" alt=\"Open In Colab\"/></a>"
      ]
    },
    {
      "cell_type": "code",
      "source": [
        "!pip install sentencepiece\n",
        "!pip install tensorflow_text"
      ],
      "metadata": {
        "id": "pDpMoNrSimPV"
      },
      "execution_count": null,
      "outputs": []
    },
    {
      "cell_type": "code",
      "source": [
        "import tensorflow as tf\n",
        "import tensorflow_text as tf_text\n",
        "from tensorflow.keras.layers import Layer\n",
        "from tensorflow.keras import Model\n",
        "import sentencepiece as sp\n",
        "import math\n",
        "from google.colab import drive\n",
        "import os\n",
        "import io\n",
        "import re\n",
        "import datetime\n",
        "import tqdm"
      ],
      "metadata": {
        "id": "99OY2-OLfxLP"
      },
      "execution_count": 2,
      "outputs": []
    },
    {
      "cell_type": "code",
      "source": [
        "#bash code to mount the drive\n",
        "drive.mount(\"/content/drive\")\n",
        "os.chdir(\"drive/MyDrive\")"
      ],
      "metadata": {
        "id": "XwqdnehSga-f"
      },
      "execution_count": null,
      "outputs": []
    },
    {
      "cell_type": "code",
      "source": [
        "#load the text file to which the model is fitted as a string\n",
        "with open(\"bible.txt\", \"r\") as f:\n",
        "  text = f.read()"
      ],
      "metadata": {
        "id": "U_EMn2r2gMci"
      },
      "execution_count": 4,
      "outputs": []
    },
    {
      "cell_type": "code",
      "source": [
        "print(text[:100])"
      ],
      "metadata": {
        "colab": {
          "base_uri": "https://localhost:8080/"
        },
        "id": "aZjv2v8EP4jo",
        "outputId": "514d70fe-2a12-4acc-b8e4-412486eef869"
      },
      "execution_count": 5,
      "outputs": [
        {
          "output_type": "stream",
          "name": "stdout",
          "text": [
            "The First Book of Moses:  Called Genesis\n",
            "\n",
            "\n",
            "1:1 In the beginning God created the heaven and the earth\n"
          ]
        }
      ]
    },
    {
      "cell_type": "markdown",
      "source": [
        "# Hyperparameters"
      ],
      "metadata": {
        "id": "o_CrIxlMX3-t"
      }
    },
    {
      "cell_type": "code",
      "source": [
        "WINDOW_SIZE = 128 #sequence length, try between 32-256\n",
        "VOCAB_SIZE = 2000 #try between 2000-7000\n",
        "EMBEDDING_DIM = 64 #try between 64-256\n",
        "BATCH_SIZE = 128"
      ],
      "metadata": {
        "id": "95NE7uL9X54M"
      },
      "execution_count": 6,
      "outputs": []
    },
    {
      "cell_type": "markdown",
      "source": [
        "# Data Preprocessing\n"
      ],
      "metadata": {
        "id": "bfBXcSdAfsa_"
      }
    },
    {
      "cell_type": "code",
      "execution_count": 7,
      "metadata": {
        "id": "wdYkR6qCfpR9"
      },
      "outputs": [],
      "source": [
        "def tokenize(text):\n",
        "    #data cleaning: convert to lower case + remove all characters that aren't letters or spaces\n",
        "    text = re.sub(\"[^a-z]+\",\" \",text.lower()) \n",
        "    #train sentence-piece tokenizer on text data\n",
        "    sp.SentencePieceTrainer.train(input=\"bible.txt\", model_prefix='tokenizer_model', model_type=\"unigram\", vocab_size=VOCAB_SIZE)\n",
        "    #deserialize the trained model file to load it in the correct format\n",
        "    trained_tokenizer_model = tf.io.gfile.GFile('tokenizer_model.model', \"rb\").read()\n",
        "    #load the model as a tokenizer that can be used inside a tensorflow model\n",
        "    tokenizer = tf_text.SentencepieceTokenizer(\n",
        "        model=trained_tokenizer_model, out_type=tf.int32, nbest_size=-1, alpha=1, reverse=False,\n",
        "        add_bos=False, add_eos=False, return_nbest=False, name=None)\n",
        "    #tokenize text data with trained Sentence Piece tokenizer\n",
        "    tokens = tokenizer.tokenize(text)\n",
        "    return tokens, tokenizer"
      ]
    },
    {
      "cell_type": "code",
      "source": [
        "tokens, tokenizer = tokenize(text)"
      ],
      "metadata": {
        "id": "3rYBWTyF13fe"
      },
      "execution_count": 8,
      "outputs": []
    },
    {
      "cell_type": "code",
      "source": [
        "print(tokens)"
      ],
      "metadata": {
        "colab": {
          "base_uri": "https://localhost:8080/"
        },
        "id": "Flyl1_rX7Iet",
        "outputId": "8d1b1bc1-1f3b-4913-ed9e-a90c3abe1177"
      },
      "execution_count": 9,
      "outputs": [
        {
          "output_type": "stream",
          "name": "stdout",
          "text": [
            "tf.Tensor([  4 345 739 ...  35 196 122], shape=(1056835,), dtype=int32)\n"
          ]
        }
      ]
    },
    {
      "cell_type": "code",
      "source": [
        "def preprocess(tokens):\n",
        "    \"\"\"Data preprocessing on the tokenized text\"\"\"\n",
        "\n",
        "    # create sliding window inputs of length m+1 \n",
        "    data = tf_text.sliding_window(data=tokens, width=WINDOW_SIZE+1)\n",
        "\n",
        "    \"\"\"\n",
        "    #create input seq and target seq for each token window\n",
        "    inputs = []\n",
        "    targets = []\n",
        "    for n in range(len(data)):\n",
        "        inputs.append(data[n][:WINDOW_SIZE])\n",
        "        targets.append(data[n][-WINDOW_SIZE:])\n",
        "    \"\"\"\n",
        "\n",
        "    #create a tensorflow dataset\n",
        "    data = tf.data.Dataset.from_tensor_slices(data)\n",
        "    # cache the dataset\n",
        "    data = data.cache()\n",
        "    #shuffle, batch, prefetch\n",
        "    data = data.shuffle(1000).batch(BATCH_SIZE).prefetch(tf.data.AUTOTUNE)\n",
        "    \n",
        "    return data"
      ],
      "metadata": {
        "id": "mZj-QRcnI_T9"
      },
      "execution_count": 10,
      "outputs": []
    },
    {
      "cell_type": "code",
      "source": [
        "#create train and validation data sets\n",
        "train_ds = preprocess(tokens[:math.ceil(len(tokens)*0.9)])\n",
        "val_ds = preprocess(tokens[math.ceil(len(tokens)*0.9):])\n",
        "\n",
        "for x in train_ds.take(1):\n",
        "  print(x.shape)"
      ],
      "metadata": {
        "colab": {
          "base_uri": "https://localhost:8080/"
        },
        "id": "c0c6GHYCz-RQ",
        "outputId": "08e6d052-b074-4e3c-932c-41cc0a3cfda4"
      },
      "execution_count": 11,
      "outputs": [
        {
          "output_type": "stream",
          "name": "stdout",
          "text": [
            "(128, 129)\n"
          ]
        }
      ]
    },
    {
      "cell_type": "markdown",
      "source": [
        "# The model"
      ],
      "metadata": {
        "id": "lJCSxJozWSer"
      }
    },
    {
      "cell_type": "code",
      "source": [
        "class EmbeddingBlock(Layer):\n",
        "    \"\"\"Embedding layer that embeds the individual token indices + their position in the input\"\"\"\n",
        "\n",
        "    def __init__(self):\n",
        "        \"\"\"Constructor contains 2 embedding layers, one for token indices, one for token positions\"\"\"\n",
        "        super().__init__()\n",
        "        self.idx_embedding = tf.keras.layers.Embedding(input_dim = VOCAB_SIZE, output_dim = EMBEDDING_DIM)\n",
        "        self.pos_embedding = tf.keras.layers.Embedding(input_dim = WINDOW_SIZE, output_dim = EMBEDDING_DIM)\n",
        "        \n",
        "\n",
        "    def call(self, input):\n",
        "        \"\"\"Forward step\"\"\"\n",
        "        #construct a tensor, where its elements are used as indices to look up the positional code for each sub-word\n",
        "        tensor = tf.range(0, len(input))\n",
        "        tensor = tf.expand_dims(tensor,-1)\n",
        "        #feed the token index embedding layer with the input sequence\n",
        "        e1 = self.idx_embedding(input)\n",
        "        #feed the positional embedding layer with the  range tensor\n",
        "        e2 = self.pos_embedding(tensor)\n",
        "        #add the two embeddings\n",
        "        sum = e1 + e2\n",
        "        return sum"
      ],
      "metadata": {
        "id": "x-NGtsT9WS92"
      },
      "execution_count": 12,
      "outputs": []
    },
    {
      "cell_type": "code",
      "source": [
        "class TransformerBlock(Layer):\n",
        "    \"\"\" \"\"\"\n",
        "    def __init__(self):\n",
        "        \"\"\"Contructor that works with 2-4 attention heads\"\"\"\n",
        "        super().__init__()\n",
        "        self.mha = tf.keras.layers.MultiHeadAttention(num_heads = 3, key_dim = EMBEDDING_DIM)\n",
        "        self.dense1 = tf.keras.layers.Dense(units = 128, activation = tf.nn.relu)\n",
        "        self.dense2 = tf.keras.layers.Dense(units = EMBEDDING_DIM)\n",
        "        self.dropOut1 = tf.keras.layers.Dropout(rate = 0.1)\n",
        "        self.dropOut2 = tf.keras.layers.Dropout(rate = 0.1)\n",
        "        self.norm1 = tf.keras.layers.LayerNormalization(epsilon = 0.000001)\n",
        "        self.norm2 = tf.keras.layers.LayerNormalization(epsilon = 0.000001)\n",
        "\n",
        "    def call(self, input, training=False):\n",
        "        \"\"\"Forward step\"\"\"\n",
        "        #give input to MHA-layer as both value and query arguments\n",
        "        #causal mask is True such that model does not attend to future tokens\n",
        "        mha_out = self.mha(query=input, value=input, use_causal_mask=True) \n",
        "        #use dropout on the output of MHA layer \n",
        "        drop_out = self.dropOut1(mha_out,training=training)\n",
        "        #add result to layer input\n",
        "        drop_out += input\n",
        "        #apply layer normalization\n",
        "        ln_out = self.norm1(drop_out)\n",
        "\n",
        "        #use normalized output for another residual connection\n",
        "        x = self.dense1(ln_out)\n",
        "        x = self.dense2(x)\n",
        "        x = self.dropOut2(x,training=training)\n",
        "        x += ln_out\n",
        "        x = self.norm2(x)       \n",
        "\n",
        "        return x\n",
        "     "
      ],
      "metadata": {
        "id": "upaRMKL2aalk"
      },
      "execution_count": 13,
      "outputs": []
    },
    {
      "cell_type": "code",
      "source": [
        "def Transformer(Model):\n",
        "  \"\"\"Model contains methods for initialization, calling, metric reset, trainstep, and text generation\"\"\"\n",
        "\n",
        "  def __init__(self, tokenizer):\n",
        "      \"\"\"Initialization method sets up all parameters that will be used by other methodsMy\n",
        "        - tokenizer: sentence piece tokenizer to output text, not just token IDs\n",
        "        - optimizer: Adam with a learning rate of 0.001\n",
        "        - loss_function: SparseCategoricalCrossentropy -> targets aren't one-hot encoded, but indices\n",
        "        - metrics: Mean Loss, Categorical Accuracy, Top K Categorical Accuracy\n",
        "      \"\"\"\n",
        "      super().__init__()\n",
        "      self.tokenizer = tokenizer \n",
        "      self.optimizer = tf.keras.optimizers.Adam(learning_rate=0.001)\n",
        "      self.loss_function = tf.keras.losses.SparseCategoricalCrossentropy(from_logits=True)\n",
        "      \n",
        "      self.metrics_list = [\n",
        "                      tf.keras.metrics.Mean(name=\"loss\"),\n",
        "                      tf.keras.metrics.CategoricalAccuracy(name=\"acc\"),\n",
        "                      tf.keras.metrics.TopKCategoricalAccuracy(3,name=\"top-3-acc\") \n",
        "                      ]\n",
        "      \n",
        "      self.layerList = [\n",
        "                        EmbeddingBlock(),\n",
        "                        TransformerBlock(),\n",
        "                        tf.keras.layers.Dense(units=VOCAB_SIZE)\n",
        "                        ]\n",
        "    \n",
        "  def call(self, x):\n",
        "      \"\"\"Forward step through all layers\"\"\"\n",
        "      for layer in self.layerList.layers:\n",
        "          x = layer(x)\n",
        "      return x\n",
        "  \n",
        "  def reset_metrics(self):\n",
        "      for metric in self.metrics:\n",
        "        metric.reset_states()\n",
        "  \n",
        "  @tf.function\n",
        "  def train_step(self, data):\n",
        "      #split data into input and target sequences\n",
        "      x = data[:,:WINDOW_SIZE]\n",
        "      targets = data[:,1:]\n",
        "      #tape loss and prediction\n",
        "      with tf.GradientTape() as tape:\n",
        "          predictions = self(x, training=True)\n",
        "          loss = self.loss_function(targets, predictions) + tf.reduce_sum(self.losses)\n",
        "      gradients = tape.gradient(loss, self.trainable_variables)\n",
        "      self.optimizer.apply_gradients(zip(gradients, self.trainable_variables))\n",
        "      #update loss metric\n",
        "      self.metrics[0].update_state(loss)\n",
        "      #update the two accuracy metrics\n",
        "      for metric in self.metrics[1:]:\n",
        "          metric.update_state(targets,predictions)\n",
        "      #return a dictionary mapping metric names to current value\n",
        "      return {m.name: m.result() for m in self.metrics}\n",
        "\n",
        "  @tf.function\n",
        "  def test_step(self, data):\n",
        "      #split data into input and target sequences\n",
        "      x = data[:,:WINDOW_SIZE]\n",
        "      targets = data[:,1:]\n",
        "      #get loss and prediction\n",
        "      predictions = self(x, training=False)\n",
        "      loss = self.loss_function(targets, predictions) + tf.reduce_sum(self.losses)\n",
        "      #update loss metric\n",
        "      self.metrics[0].update_state(loss)\n",
        "      #update the two accuracy metrics\n",
        "      for metric in self.metrics[1:]:\n",
        "          metric.update_state(targets,predictions)\n",
        "      #return a dictionary mapping metric names to current value\n",
        "      return {m.name: m.result() for m in self.metrics}\n",
        "  \n",
        "  def generate_text(self, prompt, length, top_k=100):\n",
        "      \"\"\"Method \n",
        "        - prompt: the text (string)\n",
        "        - length: the desired output length \n",
        "        - top_k: specifies the amount of most likely (sub-)words we want to sample from\n",
        "        - returns a continuation of the input prompt of a specified length\"\"\"\n",
        "      \n",
        "      #tokenize prompt\n",
        "      prompt = self.tokenizer.tokenize(prompt)\n",
        "\n",
        "      #generate next token of current prompt until requested output length is reached\n",
        "      while len(prompt) <= length:\n",
        "        #add batch dimension\n",
        "        prompt = tf.expand_dims(prompt, axis=0)\n",
        "        #create padded prompt\n",
        "        paddings = tf.constant([[0, 0, ], [WINDOW_SIZE-len(prompt), 0 ]])\n",
        "        pad_prompt = tf.pad(prompt, paddings, mode=\"CONSTANT\", constant_values=0)\n",
        "        #obtain the logits from the model by calling it on the padded prompt\n",
        "        #logits = unnormalized scores for likelihood of each token in vocabulary to be next\n",
        "        logits = self.call(pad_prompt)\n",
        "\n",
        "        #apply top_k to find the k most likely next tokens based on their logit scores\n",
        "        top_k_logits, indices = tf.math.top_k(logits, top_k, sorted=True)\n",
        "        #indices = tf.cast(indices, tf.float32)\n",
        "        #sample next token from top_k tokens\n",
        "        next_token = tf.random.categorical(indices, num_samples=1)\n",
        "        #add new token to prompt\n",
        "        prompt = tf.concat((prompt,next_token), axis=1)\n",
        "        #truncate length of input by cutting of beginning of prompt\n",
        "        prompt = prompt[-len(prompt)-1:]\n",
        "  \n",
        "      #use tokenizer to detokenize the result\n",
        "      out = self.tokenizer.detokenize(prompt)\n",
        "\n",
        "      return out"
      ],
      "metadata": {
        "id": "Wb-VVPLQgq3A"
      },
      "execution_count": 14,
      "outputs": []
    },
    {
      "cell_type": "markdown",
      "source": [
        "# Training"
      ],
      "metadata": {
        "id": "5fvGy926w2ja"
      }
    },
    {
      "cell_type": "markdown",
      "source": [
        "CREATE TENSORBOARD"
      ],
      "metadata": {
        "id": "6JuryxhDzL36"
      }
    },
    {
      "cell_type": "code",
      "source": [
        "#clean all the logs\n",
        "!rm -rf ./logs/"
      ],
      "metadata": {
        "id": "luyOdwBhxcDf"
      },
      "execution_count": 15,
      "outputs": []
    },
    {
      "cell_type": "code",
      "source": [
        "# load tensorboard extension\n",
        "%load_ext tensorboard\n",
        "\n",
        "# Define where to save the log\n",
        "config_name = \"Homework11\"\n",
        "current_time = datetime.datetime.now().strftime(\"%Y%m%d-%H%M%S\")\n",
        "\n",
        "#we create a train and validation writer\n",
        "train_log_path = f\"logs/{config_name}/{current_time}/train\"\n",
        "train_summary_writer = tf.summary.create_file_writer(train_log_path)\n",
        "#val_log_path = f\"logs/{config_name}/{current_time}/val\"\n",
        "#val_summary_writer = tf.summary.create_file_writer(val_log_path)"
      ],
      "metadata": {
        "id": "07fwshvqw3ve"
      },
      "execution_count": 16,
      "outputs": []
    },
    {
      "cell_type": "markdown",
      "source": [
        "TRAINING LOOP"
      ],
      "metadata": {
        "id": "zC2ne3X-zPRD"
      }
    },
    {
      "cell_type": "code",
      "source": [
        "num_heads = 2 #normally 2-4\n",
        "starting_prompt = \"What is\"\n",
        "length = 30 #length of generated text\n",
        "\n",
        "#instantiate model\n",
        "model = Transformer(tokenizer=tokenizer)\n",
        "\n",
        "#run model on input once so the layers are built\n",
        "model(tf.keras.Input((129)))\n",
        "model.summary()"
      ],
      "metadata": {
        "colab": {
          "base_uri": "https://localhost:8080/",
          "height": 226
        },
        "id": "jh_h8vLe2WAd",
        "outputId": "9cd1ef90-f25d-4813-dd25-5b2f47387698"
      },
      "execution_count": 17,
      "outputs": [
        {
          "output_type": "error",
          "ename": "TypeError",
          "evalue": "ignored",
          "traceback": [
            "\u001b[0;31m---------------------------------------------------------------------------\u001b[0m",
            "\u001b[0;31mTypeError\u001b[0m                                 Traceback (most recent call last)",
            "\u001b[0;32m<ipython-input-17-89937ed1a2e9>\u001b[0m in \u001b[0;36m<module>\u001b[0;34m\u001b[0m\n\u001b[1;32m      7\u001b[0m \u001b[0;34m\u001b[0m\u001b[0m\n\u001b[1;32m      8\u001b[0m \u001b[0;31m#run model on input once so the layers are built\u001b[0m\u001b[0;34m\u001b[0m\u001b[0;34m\u001b[0m\u001b[0;34m\u001b[0m\u001b[0m\n\u001b[0;32m----> 9\u001b[0;31m \u001b[0mmodel\u001b[0m\u001b[0;34m(\u001b[0m\u001b[0mtf\u001b[0m\u001b[0;34m.\u001b[0m\u001b[0mkeras\u001b[0m\u001b[0;34m.\u001b[0m\u001b[0mInput\u001b[0m\u001b[0;34m(\u001b[0m\u001b[0;34m(\u001b[0m\u001b[0;36m129\u001b[0m\u001b[0;34m)\u001b[0m\u001b[0;34m)\u001b[0m\u001b[0;34m)\u001b[0m\u001b[0;34m\u001b[0m\u001b[0;34m\u001b[0m\u001b[0m\n\u001b[0m\u001b[1;32m     10\u001b[0m \u001b[0mmodel\u001b[0m\u001b[0;34m.\u001b[0m\u001b[0msummary\u001b[0m\u001b[0;34m(\u001b[0m\u001b[0;34m)\u001b[0m\u001b[0;34m\u001b[0m\u001b[0;34m\u001b[0m\u001b[0m\n",
            "\u001b[0;31mTypeError\u001b[0m: 'NoneType' object is not callable"
          ]
        }
      ]
    },
    {
      "cell_type": "code",
      "source": [
        "#we will train 100 epochs (recommended are 100-600 epochs)\n",
        "for epoch in range(100):\n",
        "\n",
        "    #TRAINING DATASET\n",
        "    for data in train_ds:\n",
        "        metrics = model.train_step(data)\n",
        "\n",
        "        with train_summary_writer.as_default():\n",
        "            #insert metrics into tensorboard log of current epoch\n",
        "            for metric in model.metrics:\n",
        "                tf.summary.scalar(metric.name, metric.result(), step=epoch)\n",
        "            #insert generated text into tensorboard log of current epoch\n",
        "            generated_text = model.generate_text(starting_prompt, length)\n",
        "            tf.summary.text(\"generated_text\", generated_text, step = epoch)\n",
        "    \n",
        "    #print generated text of each epoch\n",
        "    print(\"Epoch: \" + str(epoch))\n",
        "    print(model.generate_text(starting_prompt, length))\n",
        "    # reset all metrics (requires a reset_metrics method in the model)\n",
        "    model.reset_metrics() \n",
        "\n",
        "    \"\"\"\n",
        "    #VALIDATION DATASET\n",
        "    for data in val_ds:\n",
        "        metrics = model.test_step(data)\n",
        "\n",
        "        with val_summary_writer.as_default():\n",
        "              for metric in model.metrics:\n",
        "                  tf.summary.scalar(metric.name,metric.result(),step=epoch)\n",
        "\n",
        "    # reset all metrics\n",
        "    model.reset_metrics()\n",
        "    \"\"\""
      ],
      "metadata": {
        "colab": {
          "base_uri": "https://localhost:8080/",
          "height": 244
        },
        "id": "ic6RlRdpxrYH",
        "outputId": "b49d6ff6-437f-4076-87d8-1a5048ea270b"
      },
      "execution_count": null,
      "outputs": [
        {
          "output_type": "error",
          "ename": "AttributeError",
          "evalue": "ignored",
          "traceback": [
            "\u001b[0;31m---------------------------------------------------------------------------\u001b[0m",
            "\u001b[0;31mAttributeError\u001b[0m                            Traceback (most recent call last)",
            "\u001b[0;32m<ipython-input-18-a5871ec05224>\u001b[0m in \u001b[0;36m<module>\u001b[0;34m\u001b[0m\n\u001b[1;32m      4\u001b[0m     \u001b[0;31m#TRAINING DATASET\u001b[0m\u001b[0;34m\u001b[0m\u001b[0;34m\u001b[0m\u001b[0;34m\u001b[0m\u001b[0m\n\u001b[1;32m      5\u001b[0m     \u001b[0;32mfor\u001b[0m \u001b[0mdata\u001b[0m \u001b[0;32min\u001b[0m \u001b[0mtrain_ds\u001b[0m\u001b[0;34m:\u001b[0m\u001b[0;34m\u001b[0m\u001b[0;34m\u001b[0m\u001b[0m\n\u001b[0;32m----> 6\u001b[0;31m         \u001b[0mmetrics\u001b[0m \u001b[0;34m=\u001b[0m \u001b[0mmodel\u001b[0m\u001b[0;34m.\u001b[0m\u001b[0mtrain_step\u001b[0m\u001b[0;34m(\u001b[0m\u001b[0mdata\u001b[0m\u001b[0;34m)\u001b[0m\u001b[0;34m\u001b[0m\u001b[0;34m\u001b[0m\u001b[0m\n\u001b[0m\u001b[1;32m      7\u001b[0m \u001b[0;34m\u001b[0m\u001b[0m\n\u001b[1;32m      8\u001b[0m         \u001b[0;32mwith\u001b[0m \u001b[0mtrain_summary_writer\u001b[0m\u001b[0;34m.\u001b[0m\u001b[0mas_default\u001b[0m\u001b[0;34m(\u001b[0m\u001b[0;34m)\u001b[0m\u001b[0;34m:\u001b[0m\u001b[0;34m\u001b[0m\u001b[0;34m\u001b[0m\u001b[0m\n",
            "\u001b[0;31mAttributeError\u001b[0m: 'NoneType' object has no attribute 'train_step'"
          ]
        }
      ]
    },
    {
      "cell_type": "markdown",
      "source": [
        "VISUALIZATION"
      ],
      "metadata": {
        "id": "3GrWCZ6p2sfG"
      }
    },
    {
      "cell_type": "code",
      "source": [
        "%tensorboard --logdir logs/"
      ],
      "metadata": {
        "id": "X6yhu3u22wM9"
      },
      "execution_count": null,
      "outputs": []
    }
  ]
}