{
  "nbformat": 4,
  "nbformat_minor": 0,
  "metadata": {
    "colab": {
      "provenance": [],
      "authorship_tag": "ABX9TyN4ASc+T2MJpsJlTcmRUj7q",
      "include_colab_link": true
    },
    "kernelspec": {
      "name": "python3",
      "display_name": "Python 3"
    },
    "language_info": {
      "name": "python"
    },
    "accelerator": "GPU",
    "gpuClass": "standard"
  },
  "cells": [
    {
      "cell_type": "markdown",
      "metadata": {
        "id": "view-in-github",
        "colab_type": "text"
      },
      "source": [
        "<a href=\"https://colab.research.google.com/github/n-bzy/iannwtf/blob/main/homework_11_notworking.ipynb\" target=\"_parent\"><img src=\"https://colab.research.google.com/assets/colab-badge.svg\" alt=\"Open In Colab\"/></a>"
      ]
    },
    {
      "cell_type": "code",
      "source": [
        "!pip install sentencepiece"
      ],
      "metadata": {
        "id": "pDpMoNrSimPV"
      },
      "execution_count": null,
      "outputs": []
    },
    {
      "cell_type": "code",
      "source": [
        "!pip install -U tensorflow-text"
      ],
      "metadata": {
        "id": "O29ZqDoHKTLY"
      },
      "execution_count": null,
      "outputs": []
    },
    {
      "cell_type": "code",
      "source": [
        "import tensorflow as tf\n",
        "import tensorflow_text as tf_text\n",
        "from tensorflow.keras.layers import Layer\n",
        "from tensorflow.keras import Model\n",
        "import sentencepiece as sp\n",
        "from google.colab import drive\n",
        "import os\n",
        "import io\n",
        "import re\n",
        "import datetime\n",
        "import tqdm"
      ],
      "metadata": {
        "id": "99OY2-OLfxLP"
      },
      "execution_count": 13,
      "outputs": []
    },
    {
      "cell_type": "code",
      "source": [
        "#bash code to mount the drive\n",
        "drive.mount(\"/content/drive\")\n",
        "os.chdir(\"drive/MyDrive\")"
      ],
      "metadata": {
        "id": "XwqdnehSga-f"
      },
      "execution_count": null,
      "outputs": []
    },
    {
      "cell_type": "code",
      "source": [
        "#load the text file to which the model is fitted as a string\n",
        "with open(\"bible.txt\", \"r\") as f:\n",
        "  text = f.read()"
      ],
      "metadata": {
        "id": "U_EMn2r2gMci"
      },
      "execution_count": 5,
      "outputs": []
    },
    {
      "cell_type": "markdown",
      "source": [
        "# Hyperparameters"
      ],
      "metadata": {
        "id": "o_CrIxlMX3-t"
      }
    },
    {
      "cell_type": "code",
      "source": [
        "WINDOW_SIZE = 120 #try between 32-256\n",
        "VOCAB_SIZE = 2000 #try between 2000-7000\n",
        "EMBEDDING_DIM = 64 #try between 64-256\n",
        "BATCH_SIZE = 32"
      ],
      "metadata": {
        "id": "95NE7uL9X54M"
      },
      "execution_count": 6,
      "outputs": []
    },
    {
      "cell_type": "markdown",
      "source": [
        "# Data Preprocessing\n",
        "CLEANING\n",
        "- convert to lower case\n",
        "- remove all characters that aren't letters or spaces"
      ],
      "metadata": {
        "id": "bfBXcSdAfsa_"
      }
    },
    {
      "cell_type": "code",
      "execution_count": 7,
      "metadata": {
        "id": "wdYkR6qCfpR9"
      },
      "outputs": [],
      "source": [
        "#convert to lower case + replace all characters that aren't letters or spaces with a space\n",
        "#we replace by a space to avoid forming new words by accident, e.g. end.Start -> endStart\n",
        "text = re.sub(\"[^a-z ]+\",\" \",text.lower()) \n",
        "#we remove possible accumulation of spaces \n",
        "text = re.sub(\" +\", \" \", text)"
      ]
    },
    {
      "cell_type": "markdown",
      "source": [
        "TOKENIZATION\n",
        "- train sentencePiece tokenizer on text\n",
        "- split data into sub-word tokens by applying the trained tokenizer"
      ],
      "metadata": {
        "id": "aWRnQMvciQsn"
      }
    },
    {
      "cell_type": "code",
      "source": [
        "#train sentencepiece tokenizer on text data\n",
        "sp.SentencePieceTrainer.train(input=\"bible.txt\", model_prefix='tokenizer_model', model_type=\"unigram\", vocab_size=VOCAB_SIZE)"
      ],
      "metadata": {
        "id": "l0fpu8Klife0"
      },
      "execution_count": 8,
      "outputs": []
    },
    {
      "cell_type": "code",
      "source": [
        "# deserialize the trained model file to load it in the correct format\n",
        "trained_tokenizer_model = tf.io.gfile.GFile('tokenizer_model.model', \"rb\").read()\n",
        "\n",
        "# load the model as a tokenizer that can be used inside a tensorflow model\n",
        "tokenizer = tf_text.SentencepieceTokenizer(\n",
        "    model=trained_tokenizer_model, out_type=tf.int32, nbest_size=-1, alpha=1, reverse=False,\n",
        "    add_bos=False, add_eos=False, return_nbest=False, name=None\n",
        ")"
      ],
      "metadata": {
        "id": "q8aRoKPLiYpb"
      },
      "execution_count": 9,
      "outputs": []
    },
    {
      "cell_type": "code",
      "source": [
        "def preprocessing_pipeline(text):\n",
        "    \"\"\"Data preprocessing that takes the tokenized text and a window_size as inputs\"\"\"\n",
        "\n",
        "    #tokenize text data with trained Sentence Piece tokenizer\n",
        "    tokens = tokenizer.tokenize(text)\n",
        "    # create sliding window inputs of length m+1 \n",
        "    data = tf_text.sliding_window(data=tokens, width=WINDOW_SIZE+1, axis=0)\n",
        "    #create a tensorflow dataset\n",
        "    data = tf.data.Dataset.from_tensor_slices(data)\n",
        "    #create inputs and targets, where targets are input sequence shifted by 1 element\n",
        "    data = data.map(lambda data: (data[:WINDOW_SIZE],data[1:]) )\n",
        "    # cache the dataset\n",
        "    data = data.cache()\n",
        "    #shuffle, batch, prefetch\n",
        "    data = data.shuffle(1000).batch(BATCH_SIZE).prefetch(tf.data.AUTOTUNE)\n",
        "    \n",
        "    return data"
      ],
      "metadata": {
        "id": "mZj-QRcnI_T9"
      },
      "execution_count": 10,
      "outputs": []
    },
    {
      "cell_type": "code",
      "source": [
        "#NOTE: We only train and validate on a smaller part of the text (original length: 4 016 014)\n",
        "#create train and validation data sets\n",
        "train_ds = preprocessing_pipeline(text[:1000000])\n",
        "val_ds = preprocessing_pipeline(text[1000000:1500000])"
      ],
      "metadata": {
        "colab": {
          "base_uri": "https://localhost:8080/"
        },
        "id": "c0c6GHYCz-RQ",
        "outputId": "67a8ea88-9f1e-4bba-9892-dd4744ada474"
      },
      "execution_count": 11,
      "outputs": [
        {
          "output_type": "stream",
          "name": "stderr",
          "text": [
            "WARNING:tensorflow:From /usr/local/lib/python3.8/dist-packages/tensorflow/python/autograph/pyct/static_analysis/liveness.py:83: Analyzer.lamba_check (from tensorflow.python.autograph.pyct.static_analysis.liveness) is deprecated and will be removed after 2023-09-23.\n",
            "Instructions for updating:\n",
            "Lambda fuctions will be no more assumed to be used in the statement where they are used, or at least in the same block. https://github.com/tensorflow/tensorflow/issues/56089\n"
          ]
        }
      ]
    },
    {
      "cell_type": "markdown",
      "source": [
        "# The model"
      ],
      "metadata": {
        "id": "lJCSxJozWSer"
      }
    },
    {
      "cell_type": "code",
      "source": [
        "class EmbeddingBlock(Layer):\n",
        "    \"\"\"Embedding layer that embeds the individual token indices + their position in the input\"\"\"\n",
        "\n",
        "    def __init__(self):\n",
        "        \"\"\"Constructor contains 2 embedding layers, one for token indices, one for token positions\"\"\"\n",
        "        super(EmbeddingBlock, self).__init__()\n",
        "        self.idx_embedding = tf.keras.layers.Embedding(input_dim = VOCAB_SIZE, output_dim = EMBEDDING_DIM)\n",
        "        self.pos_embedding = tf.keras.layers.Embedding(input_dim = WINDOW_SIZE, output_dim = EMBEDDING_DIM)\n",
        "        \n",
        "\n",
        "    def call(self, i_seq):\n",
        "        \"\"\"Forward step\"\"\"\n",
        "        #construct a tensor, where its elements are used as indices to look up the positional code for each sub-word\n",
        "        tensor = tf.range(0, WINDOW_SIZE)\n",
        "        #feed the token index embedding layer with the input sequence\n",
        "        e1 = self.idx_embedding(i_seq)\n",
        "        #feed the positional embedding layer with the  range tensor\n",
        "        e2 = self.pos_embedding(tensor)\n",
        "        #add the two embeddings\n",
        "        sum = e1 + e2\n",
        "        return sum"
      ],
      "metadata": {
        "id": "x-NGtsT9WS92"
      },
      "execution_count": 14,
      "outputs": []
    },
    {
      "cell_type": "code",
      "source": [
        "class TransformerBlock(Layer):\n",
        "    \"\"\" \"\"\"\n",
        "    def __init__(self, num_heads):\n",
        "        \"\"\"Contructor that works with 2-4 attention heads\"\"\"\n",
        "        super(TransformerBlock, self).__init__()\n",
        "        self.num_heads = num_heads\n",
        "        self.mha = tf.keras.layers.MultiHeadAttention(num_heads= self.num_heads, key_dim = EMBEDDING_DIM)\n",
        "        self.dense1 = tf.keras.layers.Dense(units = 256, activation = tf.nn.relu)\n",
        "        self.dense2 = tf.keras.layers.Dense(units = EMBEDDING_DIM)\n",
        "        self.dropOut1 = tf.keras.layers.Dropout(rate = 0.1)\n",
        "        self.dropOut2 = tf.keras.layers.Dropout(rate = 0.1)\n",
        "        self.norm1 = tf.keras.layers.LayerNormalization(epsilon = 0.000001)\n",
        "        self.norm2 = tf.keras.layers.LayerNormalization(epsilon = 0.000001)\n",
        "\n",
        "    def call(self, input):\n",
        "        \"\"\"Forward step\"\"\"\n",
        "        #give input to MHA-layer as both value and query arguments\n",
        "        #causal mask is True such that model does not attend to future tokens\n",
        "        mha_out = self.mha(input, input,use_causal_mask=True) \n",
        "        #use dropout on the output of MHA layer \n",
        "        drop_out = self.dropOut1(mha_out,training=True)\n",
        "        #add result to layer input\n",
        "        drop_out += input\n",
        "        #apply layer normalization\n",
        "        ln_out = self.norm1(drop_out)\n",
        "\n",
        "        #use normalized output for another residual connection\n",
        "        x = self.dense1(ln_out)\n",
        "        x = self.dense2(x)\n",
        "        x = self.dropOut2(x,training=True)\n",
        "        x += ln_out\n",
        "        x = self.norm2(x)       \n",
        "\n",
        "        return x\n",
        "     "
      ],
      "metadata": {
        "id": "upaRMKL2aalk"
      },
      "execution_count": 15,
      "outputs": []
    },
    {
      "cell_type": "code",
      "source": [
        "def MyModel(Model):\n",
        "  \"\"\"Model contains methods for initialization, calling, metric reset, trainstep, and text generation\"\"\"\n",
        "\n",
        "  def __init__(self, tokenizer, num_heads=2):\n",
        "      \"\"\"Initialization method sets up all parameters that will be used by other methodsMy\n",
        "        - tokenizer: sentence piece tokenizer to output text, not just token IDs\n",
        "        - optimizer: Adam with a learning rate of 0.001\n",
        "        - loss_function: SparseCategoricalCrossentropy -> targets aren't one-hot encoded, but indices\n",
        "        - metrics: Mean Loss, Categorical Accuracy, Top K Categorical Accuracy\n",
        "      \"\"\"\n",
        "      super(Model, self).__init__()\n",
        "      self.tokenizer = tokenizer \n",
        "      self.num_heads = num_heads\n",
        "      self.optimizer = tf.keras.optimizers.Adam(learning_rate=0.001)\n",
        "      self.loss_function = tf.keras.losses.SparseCategoricalCrossentropy(from_logits=True)\n",
        "      \n",
        "      self.metrics_list = [\n",
        "                      tf.keras.metrics.Mean(name=\"loss\"),\n",
        "                      tf.keras.metrics.CategoricalAccuracy(name=\"acc\"),\n",
        "                      tf.keras.metrics.TopKCategoricalAccuracy(3,name=\"top-3-acc\") \n",
        "                      ]\n",
        "      \n",
        "      self.layerList = [\n",
        "                        EmbeddingBlock(),\n",
        "                        TransformerBlock(self.num_heads),\n",
        "                        #tf.keras.layers.GlobalAveragePooling1D(),\n",
        "                        tf.keras.layers.Dense(units=VOCAB_SIZE)\n",
        "                        ]\n",
        "    \n",
        "  def call(self, x):\n",
        "      \"\"\"Forward step through all layers\"\"\"\n",
        "      for layer in self.layerList.layers:\n",
        "          x = layer(x)\n",
        "      return x\n",
        "  \n",
        "  def reset_metrics(self):\n",
        "      for metric in self.metrics:\n",
        "        metric.reset_states()\n",
        "  \n",
        "  @tf.function\n",
        "  def train_step(self, data):\n",
        "      x, targets = data\n",
        "      with tf.GradientTape() as tape:\n",
        "          predictions = self(x, training=True)\n",
        "          loss = self.loss_function(targets, predictions) + tf.reduce_sum(self.losses)\n",
        "      gradients = tape.gradient(loss, self.trainable_variables)\n",
        "      self.optimizer.apply_gradients(zip(gradients, self.trainable_variables))\n",
        "      # update loss metric\n",
        "      self.metrics[0].update_state(loss)\n",
        "      # for all metrics except loss, update states (accuracy etc.)\n",
        "      for metric in self.metrics[1:]:\n",
        "          metric.update_state(targets,predictions)\n",
        "      # Return a dictionary mapping metric names to current value\n",
        "      return {m.name: m.result() for m in self.metrics}\n",
        "\n",
        "  def generate_text(self, prompt, length, top_k=100):\n",
        "      \"\"\"Method \n",
        "        - prompt: the text (string)\n",
        "        - length: the desired output length \n",
        "        - top_k: specifies the amount of most likely (sub-)words we want to sample from\n",
        "        - returns a continuation of the input prompt of a specified length\"\"\"\n",
        "      \n",
        "      #tokenize prompt\n",
        "      prompt = tokenizer.tokenize(prompt)\n",
        "\n",
        "      #generate next token of current prompt until requested output length is reached\n",
        "      while len(prompt) <= length:\n",
        "        #add batch dimension\n",
        "        prompt = tf.expand_dims(prompt, axis=0)\n",
        "        #create padded prompt\n",
        "        paddings = tf.constant([[0, 0, ], [WINDOW_SIZE-len(prompt), 0 ]])\n",
        "        pad_prompt = tf.pad(prompt, paddings, mode=\"CONSTANT\", constant_values=0)\n",
        "        #obtain the logits from the model by calling it on the padded prompt\n",
        "        #logits = unnormalized scores for likelihood of each token in vocabulary to be next\n",
        "        logits = self.call(pad_prompt)\n",
        "\n",
        "        #apply top_k to find the k most likely next tokens based on their logit scores\n",
        "        top_k_logits, indices = tf.math.top_k(logits, top_k, sorted=True)\n",
        "        #indices = tf.cast(indices, tf.float32)\n",
        "        #sample next token from top_k tokens\n",
        "        next_token = tf.random.categorical(indices, num_samples=1)\n",
        "        #add new token to prompt\n",
        "        prompt = tf.concat((prompt,next_token), axis=1)\n",
        "        #truncate length of input by cutting of beginning of prompt\n",
        "        prompt = prompt[-len(prompt)-1:]\n",
        "\n",
        "      #use tokenizer to detokenize the result\n",
        "      out = tokenizer.detokenize(prompt)\n",
        "\n",
        "      return out"
      ],
      "metadata": {
        "id": "Wb-VVPLQgq3A"
      },
      "execution_count": 22,
      "outputs": []
    },
    {
      "cell_type": "markdown",
      "source": [
        "# Training"
      ],
      "metadata": {
        "id": "5fvGy926w2ja"
      }
    },
    {
      "cell_type": "markdown",
      "source": [
        "CREATE TENSORBOARD"
      ],
      "metadata": {
        "id": "6JuryxhDzL36"
      }
    },
    {
      "cell_type": "code",
      "source": [
        "#clean all the logs\n",
        "!rm -rf ./logs/"
      ],
      "metadata": {
        "id": "luyOdwBhxcDf"
      },
      "execution_count": 17,
      "outputs": []
    },
    {
      "cell_type": "code",
      "source": [
        "# load tensorboard extension\n",
        "%load_ext tensorboard\n",
        "\n",
        "# Define where to save the log\n",
        "config_name = \"Homework11\"\n",
        "current_time = datetime.datetime.now().strftime(\"%Y%m%d-%H%M%S\")\n",
        "\n",
        "#we create a train and validation writer\n",
        "train_log_path = f\"logs/{config_name}/{current_time}/train\"\n",
        "train_summary_writer = tf.summary.create_file_writer(train_log_path)\n",
        "#val_log_path = f\"logs/{config_name}/{current_time}/val\"\n",
        "#val_summary_writer = tf.summary.create_file_writer(val_log_path)"
      ],
      "metadata": {
        "id": "07fwshvqw3ve"
      },
      "execution_count": 18,
      "outputs": []
    },
    {
      "cell_type": "markdown",
      "source": [
        "TRAINING LOOP"
      ],
      "metadata": {
        "id": "zC2ne3X-zPRD"
      }
    },
    {
      "cell_type": "code",
      "source": [
        "num_heads = 2 #normally 2-4\n",
        "starting_prompt = \"What is\"\n",
        "length = 30 #length of generated text\n",
        "\n",
        "#instantiate model\n",
        "model = MyModel(tokenizer)"
      ],
      "metadata": {
        "id": "jh_h8vLe2WAd"
      },
      "execution_count": 24,
      "outputs": []
    },
    {
      "cell_type": "markdown",
      "source": [
        "NOTE: Test_step for validation dataset is not implemented in model yet (necessary?!)"
      ],
      "metadata": {
        "id": "SvnfRTEI4bhE"
      }
    },
    {
      "cell_type": "code",
      "source": [
        "#we will train 100 epochs (recommended are 100-600 epochs)\n",
        "for epoch in range(100):\n",
        "\n",
        "    #TRAINING DATASET\n",
        "    for data in train_ds:\n",
        "        metrics = model.train_step(data)\n",
        "\n",
        "        with train_summary_writer.as_default():\n",
        "            #insert metrics into tensorboard log of current epoch\n",
        "            for metric in model.metrics:\n",
        "                tf.summary.scalar(metric.name, metric.result(), step=epoch)\n",
        "            #insert generated text into tensorboard log of current epoch\n",
        "            generated_text = model.generate_text(starting_prompt, length)\n",
        "            tf.summary.text(\"generated_text\", generated_text, step = epoch)\n",
        "    \n",
        "    #print generated text of each epoch\n",
        "    print(\"Epoch: \" + str(epoch))\n",
        "    print(model.generate_text(starting_prompt, length))\n",
        "    print()\n",
        "    \n",
        "    # reset all metrics (requires a reset_metrics method in the model)\n",
        "    model.reset_metrics() \n",
        "\n",
        "    \"\"\"\n",
        "    #VALIDATION DATASET\n",
        "    for data in val_ds:\n",
        "        metrics = model.test_step(data)\n",
        "\n",
        "        with val_summary_writer.as_default():\n",
        "              for metric in model.metrics:\n",
        "                  tf.summary.scalar(metric.name,metric.result(),step=epoch)\n",
        "\n",
        "    # reset all metrics\n",
        "    model.reset_metrics()\n",
        "    \"\"\""
      ],
      "metadata": {
        "colab": {
          "base_uri": "https://localhost:8080/",
          "height": 244
        },
        "id": "ic6RlRdpxrYH",
        "outputId": "41692165-e763-4e5d-b5f9-3bee354ce00d"
      },
      "execution_count": 25,
      "outputs": [
        {
          "output_type": "error",
          "ename": "AttributeError",
          "evalue": "ignored",
          "traceback": [
            "\u001b[0;31m---------------------------------------------------------------------------\u001b[0m",
            "\u001b[0;31mAttributeError\u001b[0m                            Traceback (most recent call last)",
            "\u001b[0;32m<ipython-input-25-5f061bc54c20>\u001b[0m in \u001b[0;36m<module>\u001b[0;34m\u001b[0m\n\u001b[1;32m      4\u001b[0m     \u001b[0;31m#TRAINING DATASET\u001b[0m\u001b[0;34m\u001b[0m\u001b[0;34m\u001b[0m\u001b[0;34m\u001b[0m\u001b[0m\n\u001b[1;32m      5\u001b[0m     \u001b[0;32mfor\u001b[0m \u001b[0mdata\u001b[0m \u001b[0;32min\u001b[0m \u001b[0mtrain_ds\u001b[0m\u001b[0;34m:\u001b[0m\u001b[0;34m\u001b[0m\u001b[0;34m\u001b[0m\u001b[0m\n\u001b[0;32m----> 6\u001b[0;31m         \u001b[0mmetrics\u001b[0m \u001b[0;34m=\u001b[0m \u001b[0mmodel\u001b[0m\u001b[0;34m.\u001b[0m\u001b[0mtrain_step\u001b[0m\u001b[0;34m(\u001b[0m\u001b[0mdata\u001b[0m\u001b[0;34m)\u001b[0m\u001b[0;34m\u001b[0m\u001b[0;34m\u001b[0m\u001b[0m\n\u001b[0m\u001b[1;32m      7\u001b[0m \u001b[0;34m\u001b[0m\u001b[0m\n\u001b[1;32m      8\u001b[0m         \u001b[0;32mwith\u001b[0m \u001b[0mtrain_summary_writer\u001b[0m\u001b[0;34m.\u001b[0m\u001b[0mas_default\u001b[0m\u001b[0;34m(\u001b[0m\u001b[0;34m)\u001b[0m\u001b[0;34m:\u001b[0m\u001b[0;34m\u001b[0m\u001b[0;34m\u001b[0m\u001b[0m\n",
            "\u001b[0;31mAttributeError\u001b[0m: 'NoneType' object has no attribute 'train_step'"
          ]
        }
      ]
    },
    {
      "cell_type": "markdown",
      "source": [
        "VISUALIZATION"
      ],
      "metadata": {
        "id": "3GrWCZ6p2sfG"
      }
    },
    {
      "cell_type": "code",
      "source": [
        "%tensorboard --logdir logs/"
      ],
      "metadata": {
        "id": "X6yhu3u22wM9"
      },
      "execution_count": null,
      "outputs": []
    }
  ]
}