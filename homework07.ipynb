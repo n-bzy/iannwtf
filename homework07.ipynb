{
  "cells": [
    {
      "cell_type": "markdown",
      "metadata": {
        "id": "view-in-github",
        "colab_type": "text"
      },
      "source": [
        "<a href=\"https://colab.research.google.com/github/n-bzy/iannwtf/blob/main/homework07.ipynb\" target=\"_parent\"><img src=\"https://colab.research.google.com/assets/colab-badge.svg\" alt=\"Open In Colab\"/></a>"
      ]
    },
    {
      "cell_type": "markdown",
      "metadata": {
        "id": "GUiwj6q6per9"
      },
      "source": [
        "# Prepare Dataset"
      ]
    },
    {
      "cell_type": "code",
      "execution_count": 1,
      "metadata": {
        "colab": {
          "base_uri": "https://localhost:8080/",
          "height": 101,
          "referenced_widgets": [
            "ece99cf0aa4f4f79bfa2f4ce91153bbc",
            "5e2cb2d75d634f0195a44e91ca090f63",
            "79ad9b41b563463b83e925caa02587e6",
            "16c20554b6b64b84a217be1daffbdaad",
            "7f9fc90c41484346ae84a6ce2ac872b6",
            "740b0bbd42424282a00759edfe45e51b",
            "739a18cb2c8b4868abee572b237193e5",
            "70e0b12b85874e42940998b8942efbd6",
            "d8e6fc88c4e04ffd8dc3e9e915134f9b",
            "e0bc940769314d53bca92d7c2d7a0a04",
            "cb7b0e4c2d704aa590582e4fe99518b8"
          ]
        },
        "id": "aTzsUT7QpesC",
        "outputId": "0c871a6f-6b74-4b81-b0dc-047374c024e8"
      },
      "outputs": [
        {
          "output_type": "stream",
          "name": "stdout",
          "text": [
            "Downloading and preparing dataset 11.06 MiB (download: 11.06 MiB, generated: 21.00 MiB, total: 32.06 MiB) to ~/tensorflow_datasets/mnist/3.0.1...\n"
          ]
        },
        {
          "output_type": "display_data",
          "data": {
            "text/plain": [
              "Dl Completed...:   0%|          | 0/5 [00:00<?, ? file/s]"
            ],
            "application/vnd.jupyter.widget-view+json": {
              "version_major": 2,
              "version_minor": 0,
              "model_id": "ece99cf0aa4f4f79bfa2f4ce91153bbc"
            }
          },
          "metadata": {}
        },
        {
          "output_type": "stream",
          "name": "stdout",
          "text": [
            "Dataset mnist downloaded and prepared to ~/tensorflow_datasets/mnist/3.0.1. Subsequent calls will reuse this data.\n",
            "(32, 4, 28, 28, 1) (32, 4)\n"
          ]
        }
      ],
      "source": [
        "import numpy as np\n",
        "import tensorflow as tf\n",
        "import tensorflow_datasets as tfds\n",
        "\n",
        "train_ds, val_ds = tfds.load('mnist', split=['train','test'], as_supervised=True)\n",
        "\n",
        "def preprocess(data, seq):\n",
        "    \"\"\"Preprocessing the training and testing data for the LSTM network\"\"\"\n",
        "\n",
        "    # Add first digit, subtract second, add third, subtract fourth\n",
        "    l = list()\n",
        "    for i, elem in enumerate(data):\n",
        "        if (i% seq) == 0:\n",
        "            l.append(int(elem[1]))\n",
        "        else:\n",
        "            if (i%2)==0:\n",
        "                l.append(int(l[i-1] + elem[1]))\n",
        "            else:\n",
        "                l.append(int(l[i-1] - elem[1]))\n",
        "    \n",
        "    # Convert list of new targets to dataset            \n",
        "    new_t = tf.data.Dataset.from_tensor_slices(l)\n",
        "    # Zip old dataset and new targets\n",
        "    data = tf.data.Dataset.zip((data, new_t))\n",
        "    # Replace old with new targets\n",
        "    data = data.map(lambda x, t: (x[0], t))\n",
        "\n",
        "    data = data.map(lambda x, t: (tf.cast(x, tf.float32), t))\n",
        "    data = data.map(lambda x, t: ((x/128.)-1., t))\n",
        "\n",
        "    # Create sequences\n",
        "    data = data.window(seq)\n",
        "\n",
        "    data = data.cache()\n",
        "    data = data.shuffle(1000)\n",
        "    data = data.map(lambda x,t: (x.batch(seq).get_single_element(), t.batch(seq).get_single_element()))\n",
        "    data = data.batch(32)\n",
        "    data = data.prefetch(tf.data.AUTOTUNE)\n",
        "\n",
        "    return data\n",
        "\n",
        "train = preprocess(train_ds, seq=4)\n",
        "val = preprocess(val_ds, seq=4)\n",
        "\n",
        "# Check shape of inputs and targets\n",
        "for x,t in train.take(1):\n",
        "    print(x.shape, t.shape)"
      ]
    },
    {
      "cell_type": "markdown",
      "source": [
        "# Basic CNN"
      ],
      "metadata": {
        "id": "dYFg16Fv1O4m"
      }
    },
    {
      "cell_type": "code",
      "execution_count": 2,
      "metadata": {
        "id": "0iNJ51Y0pesP"
      },
      "outputs": [],
      "source": [
        "class CNN(tf.keras.Model):\n",
        "    \"\"\"Basic CNN structure for processing of mnist images\"\"\"\n",
        "    def __init__(self):\n",
        "        super().__init__()\n",
        "\n",
        "        self.layer1 = tf.keras.layers.Conv2D(filters=64, kernel_size=3, padding='same', activation='relu')\n",
        "        self.pool1 = tf.keras.layers.TimeDistributed(tf.keras.layers.MaxPool2D(pool_size=2, strides=2))\n",
        "        # Image size 14x14\n",
        "        self.layer2 = tf.keras.layers.Conv2D(filters=128, kernel_size=3, padding='same', activation='relu')\n",
        "        self.pool2 = tf.keras.layers.TimeDistributed(tf.keras.layers.MaxPool2D(pool_size=2, strides=2))\n",
        "        # Image size 7x7\n",
        "        self.layer3 = tf.keras.layers.Conv2D(filters=128, kernel_size=3, padding='same', activation='relu')\n",
        "        self.pool3 = tf.keras.layers.TimeDistributed(tf.keras.layers.GlobalAveragePooling2D())\n",
        "\n",
        "    def __call__(self, x):\n",
        "        x = self.layer1(x)\n",
        "        x = self.pool1(x)\n",
        "        x = self.layer2(x)\n",
        "        x = self.pool2(x)\n",
        "        x = self.layer3(x)\n",
        "        x = self.pool3(x)\n",
        "        return x"
      ]
    },
    {
      "cell_type": "markdown",
      "source": [
        "# LSTM Cell"
      ],
      "metadata": {
        "id": "HpKjqgbIx34u"
      }
    },
    {
      "cell_type": "code",
      "source": [
        "class LSTMCell(tf.keras.layers.AbstractRNNCell):\n",
        "    \"\"\"Create a LSTM Cell\"\"\"\n",
        "    def __init__(self, hidden_state, cell_state):\n",
        "        \"\"\"Initialize LSTM Cell with Forget Gate, Input Gate, Cell State\n",
        "        Candidate Gate and Output Gate\"\"\"\n",
        "        super().__init__()\n",
        "\n",
        "        self.hidden_state = hidden_state\n",
        "        self.cell_state = cell_state\n",
        "\n",
        "        self.linear = tf.keras.layers.Dense(hidden_state)\n",
        "\n",
        "        self.forget_gate = tf.keras.layers.Dense(cell_state, \n",
        "                                             kernel_initializer= tf.keras.initializers.Orthogonal(gain=1.0, seed=None),\n",
        "                                             activation=tf.nn.sigmoid)\n",
        "        self.input_gate = tf.keras.layers.Dense(cell_state, \n",
        "                                             kernel_initializer= tf.keras.initializers.Orthogonal(gain=1.0, seed=None),\n",
        "                                             activation=tf.nn.sigmoid)\n",
        "        self.candidate_gate = tf.keras.layers.Dense(cell_state, \n",
        "                                             kernel_initializer= tf.keras.initializers.Orthogonal(gain=1.0, seed=None),\n",
        "                                             activation=tf.nn.tanh)\n",
        "        self.output_gate = tf.keras.layers.Dense(hidden_state, \n",
        "                                             kernel_initializer= tf.keras.initializers.Orthogonal(gain=1.0, seed=None),\n",
        "                                             activation=tf.nn.sigmoid)\n",
        "\n",
        "    @property\n",
        "    def state_size(self):\n",
        "        return [tf.TensorShape([self.hidden_state]), \n",
        "                tf.TensorShape([self.cell_state])]\n",
        "    @property\n",
        "    def output_size(self):\n",
        "        return [tf.TensorShape([self.hidden_state])]\n",
        "    \n",
        "    def get_initial_state(self, inputs=None, batch_size=None, dtype=None):\n",
        "        return [tf.zeros([self.hidden_state]), \n",
        "                tf.zeros([self.cell_state])]\n",
        "\n",
        "    def __call__(self, x, states):\n",
        "        hidden = states[0]\n",
        "        cell = states[1]\n",
        "        x = hidden + self.linear(x)\n",
        "\n",
        "        f = self.forget_gate(x)\n",
        "        i = self.input_gate(x)\n",
        "        c_hat = self.candidate_gate(x)\n",
        "\n",
        "        new_cell_state = f*cell + i*c_hat\n",
        "\n",
        "        y = self.output_gate(x)*tf.math.tanh(new_cell_state)\n",
        "        new_hidden_state = y\n",
        "\n",
        "        return y, [new_hidden_state, new_cell_state]"
      ],
      "metadata": {
        "id": "XoY9OchI1S5o"
      },
      "execution_count": 3,
      "outputs": []
    },
    {
      "cell_type": "markdown",
      "source": [
        "# RNN"
      ],
      "metadata": {
        "id": "B-ZHQCvDx7BI"
      }
    },
    {
      "cell_type": "code",
      "source": [
        "class RNN(tf.keras.Model):\n",
        "    \"\"\"Create a RNN out of LSTM cells with additional CNN\"\"\"\n",
        "    def __init__(self):\n",
        "        \"\"\"Initialize the CNN, RNN and output layer\"\"\"\n",
        "        super().__init__()\n",
        "\n",
        "        self.cnn = CNN()\n",
        "\n",
        "        self.lstm_cell = LSTMCell(hidden_state=24, cell_state=24)\n",
        "        self.rnn_layer = tf.keras.layers.RNN(self.lstm_cell, return_sequences=True, unroll=True)\n",
        "        \n",
        "        self.output_layer = tf.keras.layers.Dense(1, activation=None)\n",
        "        \n",
        "        self.metrics_list = [tf.keras.metrics.Mean(name=\"loss\")]\n",
        "\n",
        "        self.optimizer = tf.keras.optimizers.Adam()\n",
        "        self.loss = tf.keras.losses.MeanSquaredError()\n",
        "\n",
        "    @property\n",
        "    def metrics(self):\n",
        "        return self.metrics_list\n",
        "    \n",
        "    def reset_metrics(self):\n",
        "        for metric in self.metrics:\n",
        "            metric.reset_state()\n",
        "        \n",
        "    def call(self, x, training=False):\n",
        "        x = self.cnn(x)\n",
        "        x = self.rnn_layer(x)\n",
        "        x = self.output_layer(x)\n",
        "        return x\n",
        "\n",
        "    @tf.function\n",
        "    def train(self, data):\n",
        "        x,t = data\n",
        "        with tf.GradientTape() as tape:\n",
        "            y = self(x, training=True)\n",
        "            loss = self.loss(t, y)\n",
        "        gradients = tape.gradient(loss, self.trainable_variables)\n",
        "        \n",
        "        self.optimizer.apply_gradients(zip(gradients, self.trainable_variables))\n",
        "        \n",
        "        self.metrics[0].update_state(loss)\n",
        "        \n",
        "        return {m.name : m.result() for m in self.metrics}\n",
        "    \n",
        "    @tf.function\n",
        "    def test(self, data):\n",
        "        \n",
        "        x,t = data\n",
        "        y = self(x, training=False)\n",
        "        loss = self.loss(t, y)\n",
        "                \n",
        "        self.metrics[0].update_state(loss)\n",
        "        \n",
        "        return {m.name : m.result() for m in self.metrics} "
      ],
      "metadata": {
        "id": "H1LMKNWHpsku"
      },
      "execution_count": 4,
      "outputs": []
    },
    {
      "cell_type": "code",
      "source": [
        "# Initialize model\n",
        "model_test = RNN()\n",
        "model_test(tf.keras.Input((4,28,28,1)));\n",
        "model_test.summary()"
      ],
      "metadata": {
        "id": "47fpKb9v1bxC",
        "colab": {
          "base_uri": "https://localhost:8080/"
        },
        "outputId": "08f2345b-9278-42d1-d9f7-71bb3f518be7"
      },
      "execution_count": 5,
      "outputs": [
        {
          "output_type": "stream",
          "name": "stdout",
          "text": [
            "Model: \"rnn\"\n",
            "_________________________________________________________________\n",
            " Layer (type)                Output Shape              Param #   \n",
            "=================================================================\n",
            " cnn (CNN)                   multiple                  0 (unused)\n",
            "                                                                 \n",
            " lstm_cell (LSTMCell)        multiple                  5496      \n",
            "                                                                 \n",
            " rnn_1 (RNN)                 multiple                  5496      \n",
            "                                                                 \n",
            " dense_5 (Dense)             multiple                  25        \n",
            "                                                                 \n",
            "=================================================================\n",
            "Total params: 227,603\n",
            "Trainable params: 227,601\n",
            "Non-trainable params: 2\n",
            "_________________________________________________________________\n"
          ]
        }
      ]
    },
    {
      "cell_type": "markdown",
      "source": [
        "# Training loop"
      ],
      "metadata": {
        "id": "TaiAJ_IubCBV"
      }
    },
    {
      "cell_type": "code",
      "source": [
        "import tqdm\n",
        "\n",
        "def training_loop(model, train, val, epochs):\n",
        "    \"\"\"Train and test the RNN for given epochs on given data\"\"\"\n",
        "\n",
        "    # Save loss and accuracy as dictionaries in a list for visualization\n",
        "    lists = []\n",
        "\n",
        "    for n in range(epochs):\n",
        "        print(f\"Epoch {n}:\")\n",
        "\n",
        "        for data in tqdm.tqdm(train, position=0, leave=True):\n",
        "            metrics = model.train(data)\n",
        "\n",
        "        # Add metrics to list\n",
        "        lists.append(metrics)\n",
        "        print([f\"{key}: {value.numpy()}\" for (key,value) in metrics.items()])\n",
        "        model.reset_metrics()\n",
        "\n",
        "        for data in tqdm.tqdm(val, position=0, leave=True):\n",
        "            metrics = model.test(data)\n",
        "\n",
        "        # Add metrics to list\n",
        "        lists.append(metrics)\n",
        "        print([f\"{key}: {value.numpy()}\" for (key,value) in metrics.items()])\n",
        "        model.reset_metrics()\n",
        "        \n",
        "    return lists\n",
        "\n",
        "li = training_loop(model_test, train, val, epochs=15)"
      ],
      "metadata": {
        "colab": {
          "base_uri": "https://localhost:8080/"
        },
        "id": "nO7MOFwac4f6",
        "outputId": "b2bdd630-662b-46b2-c987-5f057b14eaa7"
      },
      "execution_count": 6,
      "outputs": [
        {
          "output_type": "stream",
          "name": "stdout",
          "text": [
            "Epoch 0:\n"
          ]
        },
        {
          "output_type": "stream",
          "name": "stderr",
          "text": [
            "100%|██████████| 469/469 [00:16<00:00, 28.68it/s]\n"
          ]
        },
        {
          "output_type": "stream",
          "name": "stdout",
          "text": [
            "['loss: 23.085275650024414']\n"
          ]
        },
        {
          "output_type": "stream",
          "name": "stderr",
          "text": [
            "100%|██████████| 79/79 [00:01<00:00, 58.03it/s]\n"
          ]
        },
        {
          "output_type": "stream",
          "name": "stdout",
          "text": [
            "['loss: 19.30060577392578']\n",
            "Epoch 1:\n"
          ]
        },
        {
          "output_type": "stream",
          "name": "stderr",
          "text": [
            "100%|██████████| 469/469 [00:04<00:00, 114.00it/s]\n"
          ]
        },
        {
          "output_type": "stream",
          "name": "stdout",
          "text": [
            "['loss: 12.509130477905273']\n"
          ]
        },
        {
          "output_type": "stream",
          "name": "stderr",
          "text": [
            "100%|██████████| 79/79 [00:00<00:00, 185.00it/s]\n"
          ]
        },
        {
          "output_type": "stream",
          "name": "stdout",
          "text": [
            "['loss: 5.0360331535339355']\n",
            "Epoch 2:\n"
          ]
        },
        {
          "output_type": "stream",
          "name": "stderr",
          "text": [
            "100%|██████████| 469/469 [00:04<00:00, 113.28it/s]\n"
          ]
        },
        {
          "output_type": "stream",
          "name": "stdout",
          "text": [
            "['loss: 3.8201780319213867']\n"
          ]
        },
        {
          "output_type": "stream",
          "name": "stderr",
          "text": [
            "100%|██████████| 79/79 [00:00<00:00, 125.57it/s]\n"
          ]
        },
        {
          "output_type": "stream",
          "name": "stdout",
          "text": [
            "['loss: 2.782270669937134']\n",
            "Epoch 3:\n"
          ]
        },
        {
          "output_type": "stream",
          "name": "stderr",
          "text": [
            "100%|██████████| 469/469 [00:04<00:00, 98.81it/s]\n"
          ]
        },
        {
          "output_type": "stream",
          "name": "stdout",
          "text": [
            "['loss: 2.371634006500244']\n"
          ]
        },
        {
          "output_type": "stream",
          "name": "stderr",
          "text": [
            "100%|██████████| 79/79 [00:00<00:00, 112.83it/s]\n"
          ]
        },
        {
          "output_type": "stream",
          "name": "stdout",
          "text": [
            "['loss: 2.435502767562866']\n",
            "Epoch 4:\n"
          ]
        },
        {
          "output_type": "stream",
          "name": "stderr",
          "text": [
            "100%|██████████| 469/469 [00:04<00:00, 111.41it/s]\n"
          ]
        },
        {
          "output_type": "stream",
          "name": "stdout",
          "text": [
            "['loss: 1.7870687246322632']\n"
          ]
        },
        {
          "output_type": "stream",
          "name": "stderr",
          "text": [
            "100%|██████████| 79/79 [00:00<00:00, 125.36it/s]\n"
          ]
        },
        {
          "output_type": "stream",
          "name": "stdout",
          "text": [
            "['loss: 1.689123272895813']\n",
            "Epoch 5:\n"
          ]
        },
        {
          "output_type": "stream",
          "name": "stderr",
          "text": [
            "100%|██████████| 469/469 [00:04<00:00, 112.95it/s]\n"
          ]
        },
        {
          "output_type": "stream",
          "name": "stdout",
          "text": [
            "['loss: 1.4694336652755737']\n"
          ]
        },
        {
          "output_type": "stream",
          "name": "stderr",
          "text": [
            "100%|██████████| 79/79 [00:00<00:00, 188.97it/s]\n"
          ]
        },
        {
          "output_type": "stream",
          "name": "stdout",
          "text": [
            "['loss: 1.603351354598999']\n",
            "Epoch 6:\n"
          ]
        },
        {
          "output_type": "stream",
          "name": "stderr",
          "text": [
            "100%|██████████| 469/469 [00:05<00:00, 91.77it/s] \n"
          ]
        },
        {
          "output_type": "stream",
          "name": "stdout",
          "text": [
            "['loss: 1.2637848854064941']\n"
          ]
        },
        {
          "output_type": "stream",
          "name": "stderr",
          "text": [
            "100%|██████████| 79/79 [00:00<00:00, 125.03it/s]\n"
          ]
        },
        {
          "output_type": "stream",
          "name": "stdout",
          "text": [
            "['loss: 1.2622135877609253']\n",
            "Epoch 7:\n"
          ]
        },
        {
          "output_type": "stream",
          "name": "stderr",
          "text": [
            "100%|██████████| 469/469 [00:04<00:00, 112.48it/s]\n"
          ]
        },
        {
          "output_type": "stream",
          "name": "stdout",
          "text": [
            "['loss: 1.1368260383605957']\n"
          ]
        },
        {
          "output_type": "stream",
          "name": "stderr",
          "text": [
            "100%|██████████| 79/79 [00:00<00:00, 124.90it/s]\n"
          ]
        },
        {
          "output_type": "stream",
          "name": "stdout",
          "text": [
            "['loss: 1.2089147567749023']\n",
            "Epoch 8:\n"
          ]
        },
        {
          "output_type": "stream",
          "name": "stderr",
          "text": [
            "100%|██████████| 469/469 [00:05<00:00, 91.76it/s] \n"
          ]
        },
        {
          "output_type": "stream",
          "name": "stdout",
          "text": [
            "['loss: 1.0006747245788574']\n"
          ]
        },
        {
          "output_type": "stream",
          "name": "stderr",
          "text": [
            "100%|██████████| 79/79 [00:00<00:00, 175.30it/s]\n"
          ]
        },
        {
          "output_type": "stream",
          "name": "stdout",
          "text": [
            "['loss: 1.1794605255126953']\n",
            "Epoch 9:\n"
          ]
        },
        {
          "output_type": "stream",
          "name": "stderr",
          "text": [
            "100%|██████████| 469/469 [00:05<00:00, 91.74it/s] \n"
          ]
        },
        {
          "output_type": "stream",
          "name": "stdout",
          "text": [
            "['loss: 0.8701530694961548']\n"
          ]
        },
        {
          "output_type": "stream",
          "name": "stderr",
          "text": [
            "100%|██████████| 79/79 [00:00<00:00, 125.31it/s]\n"
          ]
        },
        {
          "output_type": "stream",
          "name": "stdout",
          "text": [
            "['loss: 1.1298469305038452']\n",
            "Epoch 10:\n"
          ]
        },
        {
          "output_type": "stream",
          "name": "stderr",
          "text": [
            "100%|██████████| 469/469 [00:04<00:00, 112.30it/s]\n"
          ]
        },
        {
          "output_type": "stream",
          "name": "stdout",
          "text": [
            "['loss: 0.783440887928009']\n"
          ]
        },
        {
          "output_type": "stream",
          "name": "stderr",
          "text": [
            "100%|██████████| 79/79 [00:00<00:00, 177.13it/s]\n"
          ]
        },
        {
          "output_type": "stream",
          "name": "stdout",
          "text": [
            "['loss: 1.0702201128005981']\n",
            "Epoch 11:\n"
          ]
        },
        {
          "output_type": "stream",
          "name": "stderr",
          "text": [
            "100%|██████████| 469/469 [00:04<00:00, 111.94it/s]\n"
          ]
        },
        {
          "output_type": "stream",
          "name": "stdout",
          "text": [
            "['loss: 0.7015368342399597']\n"
          ]
        },
        {
          "output_type": "stream",
          "name": "stderr",
          "text": [
            "100%|██████████| 79/79 [00:00<00:00, 125.80it/s]\n"
          ]
        },
        {
          "output_type": "stream",
          "name": "stdout",
          "text": [
            "['loss: 0.931515634059906']\n",
            "Epoch 12:\n"
          ]
        },
        {
          "output_type": "stream",
          "name": "stderr",
          "text": [
            "100%|██████████| 469/469 [00:04<00:00, 111.26it/s]\n"
          ]
        },
        {
          "output_type": "stream",
          "name": "stdout",
          "text": [
            "['loss: 0.6561833620071411']\n"
          ]
        },
        {
          "output_type": "stream",
          "name": "stderr",
          "text": [
            "100%|██████████| 79/79 [00:00<00:00, 202.35it/s]\n"
          ]
        },
        {
          "output_type": "stream",
          "name": "stdout",
          "text": [
            "['loss: 0.8867912888526917']\n",
            "Epoch 13:\n"
          ]
        },
        {
          "output_type": "stream",
          "name": "stderr",
          "text": [
            "100%|██████████| 469/469 [00:05<00:00, 91.68it/s] \n"
          ]
        },
        {
          "output_type": "stream",
          "name": "stdout",
          "text": [
            "['loss: 0.5854371190071106']\n"
          ]
        },
        {
          "output_type": "stream",
          "name": "stderr",
          "text": [
            "100%|██████████| 79/79 [00:00<00:00, 125.25it/s]\n"
          ]
        },
        {
          "output_type": "stream",
          "name": "stdout",
          "text": [
            "['loss: 0.8770574331283569']\n",
            "Epoch 14:\n"
          ]
        },
        {
          "output_type": "stream",
          "name": "stderr",
          "text": [
            "100%|██████████| 469/469 [00:04<00:00, 111.50it/s]\n"
          ]
        },
        {
          "output_type": "stream",
          "name": "stdout",
          "text": [
            "['loss: 0.5255376696586609']\n"
          ]
        },
        {
          "output_type": "stream",
          "name": "stderr",
          "text": [
            "100%|██████████| 79/79 [00:00<00:00, 124.80it/s]"
          ]
        },
        {
          "output_type": "stream",
          "name": "stdout",
          "text": [
            "['loss: 0.8552876710891724']\n"
          ]
        },
        {
          "output_type": "stream",
          "name": "stderr",
          "text": [
            "\n"
          ]
        }
      ]
    },
    {
      "cell_type": "markdown",
      "source": [
        "# Visualization"
      ],
      "metadata": {
        "id": "b70E1_1lzwJP"
      }
    },
    {
      "cell_type": "code",
      "source": [
        "import seaborn as sns\n",
        "import matplotlib.pyplot as plt\n",
        "%matplotlib inline\n",
        "\n",
        "def visualization(lists):\n",
        "    \"\"\"Visualizes accuracy and loss for training and test data \"\"\"\n",
        "\n",
        "    # Create lists for each visualized metric\n",
        "    epochs = np.array([*range(15)])\n",
        "    train_loss = np.zeros(epochs.size)\n",
        "    test_loss = np.zeros(epochs.size)\n",
        "\n",
        "    # Counter used for splitting the input\n",
        "    c,i = 0,0\n",
        "    # Split up the metrics to the corresponding arrays\n",
        "    for k in range(len(lists)):\n",
        "        if k%2 == 1:\n",
        "            test_loss[i] = lists[k]['loss'].numpy()\n",
        "            i += 1\n",
        "        else:\n",
        "            train_loss[c] = lists[k]['loss'].numpy()\n",
        "            c += 1\n",
        "    \n",
        "    # Create dictionary with all metrics\n",
        "    data= {'Train_Loss':train_loss, 'Test_Loss':test_loss}\n",
        "\n",
        "    # Plot the metrics\n",
        "    sns.set_theme()\n",
        "    sns.relplot(data=data, kind='line').set(title='Visualization of loss',xlabel='Epochs', ylabel='Loss')\n",
        "\n",
        "visualization(li)"
      ],
      "metadata": {
        "id": "lYSqvdNVFNL4",
        "colab": {
          "base_uri": "https://localhost:8080/",
          "height": 381
        },
        "outputId": "0eb01b45-cad2-43af-a353-79affc3a6111"
      },
      "execution_count": 8,
      "outputs": [
        {
          "output_type": "display_data",
          "data": {
            "text/plain": [
              "<Figure size 455.85x360 with 1 Axes>"
            ],
            "image/png": "[encoded data removed]"
          },
          "metadata": {}
        }
      ]
    },
    {
      "cell_type": "code",
      "source": [],
      "metadata": {
        "id": "3-nzkcNVW4pb"
      },
      "execution_count": null,
      "outputs": []
    }
  ],
  "metadata": {
    "kernelspec": {
      "display_name": "Python 3.9.10 64-bit",
      "language": "python",
      "name": "python3"
    },
    "language_info": {
      "codemirror_mode": {
        "name": "ipython",
        "version": 3
      },
      "file_extension": ".py",
      "mimetype": "text/x-python",
      "name": "python",
      "nbconvert_exporter": "python",
      "pygments_lexer": "ipython3",
      "version": "3.9.10"
    },
    "orig_nbformat": 4,
    "vscode": {
      "interpreter": {
        "hash": "fe9a959b20c1a11f0379d800fd04c0320f2dff6d2d0003a40f8f375949ccb47d"
      }
    },
    "colab": {
      "provenance": [],
      "include_colab_link": true
    },
    "gpuClass": "standard",
    "accelerator": "GPU",
    "widgets": {
      "application/vnd.jupyter.widget-state+json": {
        "ece99cf0aa4f4f79bfa2f4ce91153bbc": {
          "model_module": "@jupyter-widgets/controls",
          "model_name": "HBoxModel",
          "model_module_version": "1.5.0",
          "state": {
            "_dom_classes": [],
            "_model_module": "@jupyter-widgets/controls",
            "_model_module_version": "1.5.0",
            "_model_name": "HBoxModel",
            "_view_count": null,
            "_view_module": "@jupyter-widgets/controls",
            "_view_module_version": "1.5.0",
            "_view_name": "HBoxView",
            "box_style": "",
            "children": [
              "IPY_MODEL_5e2cb2d75d634f0195a44e91ca090f63",
              "IPY_MODEL_79ad9b41b563463b83e925caa02587e6",
              "IPY_MODEL_16c20554b6b64b84a217be1daffbdaad"
            ],
            "layout": "IPY_MODEL_7f9fc90c41484346ae84a6ce2ac872b6"
          }
        },
        "5e2cb2d75d634f0195a44e91ca090f63": {
          "model_module": "@jupyter-widgets/controls",
          "model_name": "HTMLModel",
          "model_module_version": "1.5.0",
          "state": {
            "_dom_classes": [],
            "_model_module": "@jupyter-widgets/controls",
            "_model_module_version": "1.5.0",
            "_model_name": "HTMLModel",
            "_view_count": null,
            "_view_module": "@jupyter-widgets/controls",
            "_view_module_version": "1.5.0",
            "_view_name": "HTMLView",
            "description": "",
            "description_tooltip": null,
            "layout": "IPY_MODEL_740b0bbd42424282a00759edfe45e51b",
            "placeholder": "​",
            "style": "IPY_MODEL_739a18cb2c8b4868abee572b237193e5",
            "value": "Dl Completed...: 100%"
          }
        },
        "79ad9b41b563463b83e925caa02587e6": {
          "model_module": "@jupyter-widgets/controls",
          "model_name": "FloatProgressModel",
          "model_module_version": "1.5.0",
          "state": {
            "_dom_classes": [],
            "_model_module": "@jupyter-widgets/controls",
            "_model_module_version": "1.5.0",
            "_model_name": "FloatProgressModel",
            "_view_count": null,
            "_view_module": "@jupyter-widgets/controls",
            "_view_module_version": "1.5.0",
            "_view_name": "ProgressView",
            "bar_style": "success",
            "description": "",
            "description_tooltip": null,
            "layout": "IPY_MODEL_70e0b12b85874e42940998b8942efbd6",
            "max": 5,
            "min": 0,
            "orientation": "horizontal",
            "style": "IPY_MODEL_d8e6fc88c4e04ffd8dc3e9e915134f9b",
            "value": 5
          }
        },
        "16c20554b6b64b84a217be1daffbdaad": {
          "model_module": "@jupyter-widgets/controls",
          "model_name": "HTMLModel",
          "model_module_version": "1.5.0",
          "state": {
            "_dom_classes": [],
            "_model_module": "@jupyter-widgets/controls",
            "_model_module_version": "1.5.0",
            "_model_name": "HTMLModel",
            "_view_count": null,
            "_view_module": "@jupyter-widgets/controls",
            "_view_module_version": "1.5.0",
            "_view_name": "HTMLView",
            "description": "",
            "description_tooltip": null,
            "layout": "IPY_MODEL_e0bc940769314d53bca92d7c2d7a0a04",
            "placeholder": "​",
            "style": "IPY_MODEL_cb7b0e4c2d704aa590582e4fe99518b8",
            "value": " 5/5 [00:02&lt;00:00,  2.12 file/s]"
          }
        },
        "7f9fc90c41484346ae84a6ce2ac872b6": {
          "model_module": "@jupyter-widgets/base",
          "model_name": "LayoutModel",
          "model_module_version": "1.2.0",
          "state": {
            "_model_module": "@jupyter-widgets/base",
            "_model_module_version": "1.2.0",
            "_model_name": "LayoutModel",
            "_view_count": null,
            "_view_module": "@jupyter-widgets/base",
            "_view_module_version": "1.2.0",
            "_view_name": "LayoutView",
            "align_content": null,
            "align_items": null,
            "align_self": null,
            "border": null,
            "bottom": null,
            "display": null,
            "flex": null,
            "flex_flow": null,
            "grid_area": null,
            "grid_auto_columns": null,
            "grid_auto_flow": null,
            "grid_auto_rows": null,
            "grid_column": null,
            "grid_gap": null,
            "grid_row": null,
            "grid_template_areas": null,
            "grid_template_columns": null,
            "grid_template_rows": null,
            "height": null,
            "justify_content": null,
            "justify_items": null,
            "left": null,
            "margin": null,
            "max_height": null,
            "max_width": null,
            "min_height": null,
            "min_width": null,
            "object_fit": null,
            "object_position": null,
            "order": null,
            "overflow": null,
            "overflow_x": null,
            "overflow_y": null,
            "padding": null,
            "right": null,
            "top": null,
            "visibility": null,
            "width": null
          }
        },
        "740b0bbd42424282a00759edfe45e51b": {
          "model_module": "@jupyter-widgets/base",
          "model_name": "LayoutModel",
          "model_module_version": "1.2.0",
          "state": {
            "_model_module": "@jupyter-widgets/base",
            "_model_module_version": "1.2.0",
            "_model_name": "LayoutModel",
            "_view_count": null,
            "_view_module": "@jupyter-widgets/base",
            "_view_module_version": "1.2.0",
            "_view_name": "LayoutView",
            "align_content": null,
            "align_items": null,
            "align_self": null,
            "border": null,
            "bottom": null,
            "display": null,
            "flex": null,
            "flex_flow": null,
            "grid_area": null,
            "grid_auto_columns": null,
            "grid_auto_flow": null,
            "grid_auto_rows": null,
            "grid_column": null,
            "grid_gap": null,
            "grid_row": null,
            "grid_template_areas": null,
            "grid_template_columns": null,
            "grid_template_rows": null,
            "height": null,
            "justify_content": null,
            "justify_items": null,
            "left": null,
            "margin": null,
            "max_height": null,
            "max_width": null,
            "min_height": null,
            "min_width": null,
            "object_fit": null,
            "object_position": null,
            "order": null,
            "overflow": null,
            "overflow_x": null,
            "overflow_y": null,
            "padding": null,
            "right": null,
            "top": null,
            "visibility": null,
            "width": null
          }
        },
        "739a18cb2c8b4868abee572b237193e5": {
          "model_module": "@jupyter-widgets/controls",
          "model_name": "DescriptionStyleModel",
          "model_module_version": "1.5.0",
          "state": {
            "_model_module": "@jupyter-widgets/controls",
            "_model_module_version": "1.5.0",
            "_model_name": "DescriptionStyleModel",
            "_view_count": null,
            "_view_module": "@jupyter-widgets/base",
            "_view_module_version": "1.2.0",
            "_view_name": "StyleView",
            "description_width": ""
          }
        },
        "70e0b12b85874e42940998b8942efbd6": {
          "model_module": "@jupyter-widgets/base",
          "model_name": "LayoutModel",
          "model_module_version": "1.2.0",
          "state": {
            "_model_module": "@jupyter-widgets/base",
            "_model_module_version": "1.2.0",
            "_model_name": "LayoutModel",
            "_view_count": null,
            "_view_module": "@jupyter-widgets/base",
            "_view_module_version": "1.2.0",
            "_view_name": "LayoutView",
            "align_content": null,
            "align_items": null,
            "align_self": null,
            "border": null,
            "bottom": null,
            "display": null,
            "flex": null,
            "flex_flow": null,
            "grid_area": null,
            "grid_auto_columns": null,
            "grid_auto_flow": null,
            "grid_auto_rows": null,
            "grid_column": null,
            "grid_gap": null,
            "grid_row": null,
            "grid_template_areas": null,
            "grid_template_columns": null,
            "grid_template_rows": null,
            "height": null,
            "justify_content": null,
            "justify_items": null,
            "left": null,
            "margin": null,
            "max_height": null,
            "max_width": null,
            "min_height": null,
            "min_width": null,
            "object_fit": null,
            "object_position": null,
            "order": null,
            "overflow": null,
            "overflow_x": null,
            "overflow_y": null,
            "padding": null,
            "right": null,
            "top": null,
            "visibility": null,
            "width": null
          }
        },
        "d8e6fc88c4e04ffd8dc3e9e915134f9b": {
          "model_module": "@jupyter-widgets/controls",
          "model_name": "ProgressStyleModel",
          "model_module_version": "1.5.0",
          "state": {
            "_model_module": "@jupyter-widgets/controls",
            "_model_module_version": "1.5.0",
            "_model_name": "ProgressStyleModel",
            "_view_count": null,
            "_view_module": "@jupyter-widgets/base",
            "_view_module_version": "1.2.0",
            "_view_name": "StyleView",
            "bar_color": null,
            "description_width": ""
          }
        },
        "e0bc940769314d53bca92d7c2d7a0a04": {
          "model_module": "@jupyter-widgets/base",
          "model_name": "LayoutModel",
          "model_module_version": "1.2.0",
          "state": {
            "_model_module": "@jupyter-widgets/base",
            "_model_module_version": "1.2.0",
            "_model_name": "LayoutModel",
            "_view_count": null,
            "_view_module": "@jupyter-widgets/base",
            "_view_module_version": "1.2.0",
            "_view_name": "LayoutView",
            "align_content": null,
            "align_items": null,
            "align_self": null,
            "border": null,
            "bottom": null,
            "display": null,
            "flex": null,
            "flex_flow": null,
            "grid_area": null,
            "grid_auto_columns": null,
            "grid_auto_flow": null,
            "grid_auto_rows": null,
            "grid_column": null,
            "grid_gap": null,
            "grid_row": null,
            "grid_template_areas": null,
            "grid_template_columns": null,
            "grid_template_rows": null,
            "height": null,
            "justify_content": null,
            "justify_items": null,
            "left": null,
            "margin": null,
            "max_height": null,
            "max_width": null,
            "min_height": null,
            "min_width": null,
            "object_fit": null,
            "object_position": null,
            "order": null,
            "overflow": null,
            "overflow_x": null,
            "overflow_y": null,
            "padding": null,
            "right": null,
            "top": null,
            "visibility": null,
            "width": null
          }
        },
        "cb7b0e4c2d704aa590582e4fe99518b8": {
          "model_module": "@jupyter-widgets/controls",
          "model_name": "DescriptionStyleModel",
          "model_module_version": "1.5.0",
          "state": {
            "_model_module": "@jupyter-widgets/controls",
            "_model_module_version": "1.5.0",
            "_model_name": "DescriptionStyleModel",
            "_view_count": null,
            "_view_module": "@jupyter-widgets/base",
            "_view_module_version": "1.2.0",
            "_view_name": "StyleView",
            "description_width": ""
          }
        }
      }
    }
  },
  "nbformat": 4,
  "nbformat_minor": 0
}