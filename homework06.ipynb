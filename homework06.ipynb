{
  "cells": [
    {
      "cell_type": "markdown",
      "metadata": {
        "id": "view-in-github",
        "colab_type": "text"
      },
      "source": [
        "<a href=\"https://colab.research.google.com/github/n-bzy/iannwtf/blob/main/homework06.ipynb\" target=\"_parent\"><img src=\"https://colab.research.google.com/assets/colab-badge.svg\" alt=\"Open In Colab\"/></a>"
      ]
    },
    {
      "cell_type": "markdown",
      "source": [
        "# Homework 06: Optimization of network\n",
        "\n",
        "Transforming from standard CCN to ResNet CNN <br>\n",
        "    \n",
        "\n",
        "> Effect <br>\n",
        "> Before: training loss from 1.96 to 1.09, test loss from 1.85 to 1.10 <br>\n",
        "> After: training loss from 1.75 to 0.55, test loss from 1.7 to 0.7\n",
        "\n",
        "---\n",
        "    \n",
        "1. Simplify the model<br>\n",
        "    how: Removing the last layer (from 4 layers {64, 128, 256, 512 filters respectively} to 3 layers {64, 128, 256 filters respectively}\n",
        "    <br>why: Model was overfitting after appr. 5 epochs (test loss after epoch 5: 0.7, test loss after epoch 14: 0.99)\n",
        "    <br>result: model is not overfitting anymore\n",
        "2. Use BatchNormalization<br>\n",
        "    how: `tf.keras.BatchNormalization()` as additional layers\n",
        "    <br>why: Should help with learnability\n",
        "    <br>result: Does not work in our case, test_loss is still increasing\n",
        "3. Use Dropout<br>\n",
        "    how: `tf.keras.Dropout()` as additional layers.\n",
        "    <br>why: Helps with overfitting\n",
        "    <br>result: Works well, no more overfitting, test_loss of 0.59\n",
        "4. Kernel regularizer<br>\n",
        "    how: `kernel_regularizer=tf.keras.reguralizers.L2(0.001)`\n",
        "    <br>why: Use regularization to prevent overfitting.\n",
        "    <br>result: Improves the overfitting but not as good as dropout\n",
        "5. Reduce batch size<br>\n",
        "    how:`data.batch(256)` -> `data.batch(64)`\n",
        "    <br>why: Adding stochasticity\n",
        "    <br>result: Loss is decreasing faster, but test loss at the end stays the same."
      ],
      "metadata": {
        "id": "AjyEK3vpG_by"
      }
    },
    {
      "cell_type": "markdown",
      "metadata": {
        "id": "aJcFuYlkRRDp"
      },
      "source": [
        "# Homework 05 (without optimization)"
      ]
    },
    {
      "cell_type": "code",
      "execution_count": 41,
      "metadata": {
        "colab": {
          "base_uri": "https://localhost:8080/"
        },
        "id": "ahz_0o0SH56z",
        "outputId": "cde034bf-fe58-44be-f22b-bc3dcaba8437"
      },
      "outputs": [
        {
          "output_type": "stream",
          "name": "stdout",
          "text": [
            "(64, 32, 32, 3) (64, 10)\n"
          ]
        }
      ],
      "source": [
        "import numpy as np\n",
        "import tensorflow as tf\n",
        "import tensorflow_datasets as tfds\n",
        "\n",
        "train_ds, val_ds = tfds.load('cifar10', split=['train', 'test'], as_supervised=True)\n",
        "\n",
        "def preprocessing(data):\n",
        "    \"\"\"Preparing data sets for use in CNN\"\"\"\n",
        "    data = data.map(lambda x,t : (tf.cast(x, tf.float32), t))\n",
        "    data = data.map(lambda x,t : ((x/255.), t))\n",
        "    data = data.map(lambda x,t : (x, tf.one_hot(t, depth=10)))\n",
        "\n",
        "    data = data.cache()\n",
        "    data = data.shuffle(1000)\n",
        "    data = data.batch(64)\n",
        "    data = data.prefetch(tf.data.AUTOTUNE)\n",
        "\n",
        "    return data\n",
        "\n",
        "# Test preprocessing and check for value and target shapes \n",
        "# (important for initializing of model with input values)\n",
        "train_test = preprocessing(train_ds)\n",
        "\n",
        "for x, t in train_test.take(1):\n",
        "    print(x.shape, t.shape)"
      ]
    },
    {
      "cell_type": "markdown",
      "source": [
        "# Classic CNN"
      ],
      "metadata": {
        "id": "4acuL3qIjsEP"
      }
    },
    {
      "cell_type": "code",
      "source": [
        "class ClassicCNN(tf.keras.Model):\n",
        "    \"\"\"Initialize the CNN\"\"\"\n",
        "    def __init__(self):\n",
        "        super().__init__()\n",
        "        self.layer1_1 = tf.keras.layers.Conv2D(filters=32, kernel_size=3, \n",
        "                                        padding='same', activation='relu')\n",
        "        self.layer1_2 = tf.keras.layers.Conv2D(filters=32, kernel_size=3, \n",
        "                                        padding='same', activation='relu')\n",
        "        self.pool1 = tf.keras.layers.MaxPool2D(pool_size=2, strides=2)\n",
        "        self.layer2_1 = tf.keras.layers.Conv2D(filters=64, kernel_size=3, \n",
        "                                        padding='same', activation='relu')\n",
        "        self.layer2_2 = tf.keras.layers.Conv2D(filters=64, kernel_size=3, \n",
        "                                        padding='same', activation='relu')\n",
        "        self.pool2 = tf.keras.layers.GlobalAvgPool2D()\n",
        "        self.out = tf.keras.layers.Dense(10, activation='softmax')\n",
        "\n",
        "        self.optimizer = tf.keras.optimizers.Adam()\n",
        "        self.loss_function = tf.keras.losses.CategoricalCrossentropy()\n",
        "        self.metrics_list = [\n",
        "            tf.keras.metrics.Mean(name='loss'),\n",
        "            tf.keras.metrics.CategoricalAccuracy(name='accuracy')\n",
        "            ]\n",
        "    \n",
        "    def call(self, x, training=False):\n",
        "        \"\"\"Pass the input trough the CNN\"\"\"\n",
        "        x = self.layer1_1(x)\n",
        "        x = self.layer1_2(x)\n",
        "        x = self.pool1(x)\n",
        "        x = self.layer2_1(x)\n",
        "        x = self.layer2_2(x)\n",
        "        x = self.pool2(x)\n",
        "        y = self.out(x)\n",
        "        return y\n",
        "\n",
        "    def reset_metrics(self):\n",
        "        for metric in self.metrics_list:\n",
        "            metric.reset_states()\n",
        "\n",
        "    @tf.function\n",
        "    def train(self, input):\n",
        "        \"\"\"Training step for CNN\"\"\"\n",
        "        x,t = input\n",
        "\n",
        "        with tf.GradientTape() as tape:\n",
        "            output = self(x, training=True)\n",
        "            loss = self.loss_function(t, output)\n",
        "        gradients = tape.gradient(loss, self.trainable_variables)\n",
        "        self.optimizer.apply_gradients(zip(gradients, self.trainable_variables))\n",
        "\n",
        "        self.metrics_list[0].update_state(values=loss)\n",
        "        self.metrics_list[1].update_state(t, output)\n",
        "        \n",
        "        return {m.name:m.result() for m in self.metrics_list}\n",
        "    \n",
        "    @tf.function\n",
        "    def test(self, input):\n",
        "        \"\"\"Testing step for CNN\"\"\"\n",
        "        x,t = input\n",
        "        output = self(x, training=False)\n",
        "        loss = self.loss_function(t, output)\n",
        "\n",
        "        self.metrics_list[0].update_state(values=loss)\n",
        "        self.metrics_list[1].update_state(t, output)\n",
        "        \n",
        "        return {m.name:m.result() for m in self.metrics_list}"
      ],
      "metadata": {
        "id": "PhUqdD4NjrQa"
      },
      "execution_count": null,
      "outputs": []
    },
    {
      "cell_type": "markdown",
      "source": [
        "# ResNet CNN with bottleneck"
      ],
      "metadata": {
        "id": "no_xEQCSj6aE"
      }
    },
    {
      "cell_type": "code",
      "execution_count": 42,
      "metadata": {
        "id": "vV1xo45GV3JJ"
      },
      "outputs": [],
      "source": [
        "class ResCNNBlock(tf.keras.layers.Layer):\n",
        "    \"\"\"Combine several conv2D-layers with use of bottleneck to a block\"\"\"\n",
        "    def __init__(self, n_filters, b_filters, layers):\n",
        "        \"\"\"Initialize a first layer, bottleneck and Conv2D layers\"\"\"\n",
        "        super().__init__()\n",
        "        # First layer to get the input size match the output size\n",
        "        self.deeper_layer = tf.keras.layers.Conv2D(filters=n_filters, kernel_size=3, padding='same', activation='relu')\n",
        "        # Use Bottleneck_in to reduce the depth of convolutional layers (b_filters << n_filters)\n",
        "        self.bottleneck_in = tf.keras.layers.Conv2D(filters=b_filters, kernel_size=1, padding='same')\n",
        "        self.layers = [tf.keras.layers.Conv2D(filters=b_filters, kernel_size=3, \n",
        "                        padding='same', activation='relu', kernel_regularizer=tf.keras.regularizers.L2(0.001)) for _ in range(layers)]\n",
        "        # Use bottleneck_out to increase the depth back to the original size\n",
        "        self.bottleneck_out = tf.keras.layers.Conv2D(filters=n_filters, kernel_size=1, padding='same')\n",
        "\n",
        "    def call(self, x):\n",
        "        \"\"\"Add the input to the output of the block for ResNet\"\"\"\n",
        "        z = self.deeper_layer(x)\n",
        "        c = self.bottleneck_in(z)\n",
        "        for layer in self.layers:\n",
        "            c = layer(c)\n",
        "        c = self.bottleneck_out(c)\n",
        "        # Add the (addapted) input to the output for Residual Learning\n",
        "        x = z+c\n",
        "        return x\n",
        "\n",
        "class CNN(tf.keras.Model):\n",
        "    \"\"\"Combine several CNN blocks with pooling to a Convolutional Neuronal Network\"\"\"\n",
        "    def __init__(self):\n",
        "        \"\"\"Initialize CNN blocks, pooling, optimizer, loss function and metrics\"\"\"\n",
        "        super().__init__()\n",
        "\n",
        "        self.block1 = ResCNNBlock(64, 16, 3)\n",
        "        self.pool1 = tf.keras.layers.MaxPool2D(pool_size=2, strides=2)\n",
        "        # After pooling image size 16x16\n",
        "\n",
        "        self.norm1 = tf.keras.layers.Dropout(0.5)\n",
        "        self.block2 = ResCNNBlock(128, 32, 4)\n",
        "        self.pool2 = tf.keras.layers.MaxPool2D(pool_size=2, strides=2)\n",
        "        # After pooling image size 8x8\n",
        "\n",
        "        self.norm2 = tf.keras.layers.Dropout(0.5)\n",
        "        self.block3 = ResCNNBlock(256, 64, 20)\n",
        "        self.pool3 = tf.keras.layers.MaxPool2D(pool_size=2, strides=2)\n",
        "        # After pooling image size 4x4\n",
        "\n",
        "        self.norm3 = tf.keras.layers.Dropout(0.5)\n",
        "        self.block4 = ResCNNBlock(512, 128, 3)\n",
        "        self.pool4 = tf.keras.layers.GlobalAvgPool2D()\n",
        "        # After global pooling img size 1x1 for dense layer\n",
        "\n",
        "        self.out = tf.keras.layers.Dense(10, activation='softmax')\n",
        "\n",
        "        self.optimizer = tf.keras.optimizers.Adam()\n",
        "        self.loss_function = tf.keras.losses.CategoricalCrossentropy()\n",
        "        self.metrics_list = [\n",
        "            tf.keras.metrics.Mean(name='loss'),\n",
        "            tf.keras.metrics.CategoricalAccuracy(name='accuracy')\n",
        "            ]\n",
        "    \n",
        "    def call(self, x, training=False):\n",
        "        \"\"\"Pass the input trough the CNN\"\"\"\n",
        "        x = self.block1(x)\n",
        "        x = self.pool1(x)\n",
        "\n",
        "        x = self.norm1(x, training=training)\n",
        "        x = self.block2(x)\n",
        "        x = self.pool2(x)\n",
        "        \n",
        "        x = self.norm2(x, training=training)\n",
        "        x = self.block3(x)\n",
        "        x = self.pool3(x) \n",
        "\n",
        "        x = self.norm3(x, training=training)\n",
        "        x = self.block4(x)\n",
        "        x = self.pool4(x)\n",
        "\n",
        "        y = self.out(x)\n",
        "        return y\n",
        "\n",
        "    def reset_metrics(self):\n",
        "        \"\"\"Function to reset every metric. Necessary for train_loop\"\"\"\n",
        "        for metric in self.metrics_list:\n",
        "            metric.reset_states()\n",
        "\n",
        "    @tf.function\n",
        "    def train(self, input):\n",
        "        \"\"\"Training step for CNN\"\"\"\n",
        "        x,t = input\n",
        "\n",
        "        with tf.GradientTape() as tape:\n",
        "            output = self(x, training=True)\n",
        "            loss = self.loss_function(t, output) + tf.reduce_sum(self.losses)\n",
        "        gradients = tape.gradient(loss, self.trainable_variables)\n",
        "        self.optimizer.apply_gradients(zip(gradients, self.trainable_variables))\n",
        "\n",
        "        self.metrics_list[0].update_state(values=loss)\n",
        "        self.metrics_list[1].update_state(t, output)\n",
        "        \n",
        "        return {m.name:m.result() for m in self.metrics_list}\n",
        "    \n",
        "    @tf.function\n",
        "    def test(self, input):\n",
        "        \"\"\"Testing step for CNN\"\"\"\n",
        "        x,t = input\n",
        "        output = self(x, training=False)\n",
        "        loss = self.loss_function(t, output) + tf.reduce_sum(self.losses)\n",
        "\n",
        "        self.metrics_list[0].update_state(values=loss)\n",
        "        self.metrics_list[1].update_state(t, output)\n",
        "        \n",
        "        return {m.name:m.result() for m in self.metrics_list}"
      ]
    },
    {
      "cell_type": "code",
      "execution_count": 43,
      "metadata": {
        "id": "gza3PQccDtAW"
      },
      "outputs": [],
      "source": [
        "import tqdm\n",
        "\n",
        "def training_loop(model, train_ds, val_ds, epochs):\n",
        "    \"\"\"Train and test the CNN for given epochs on given data\"\"\"\n",
        "\n",
        "    train = preprocessing(train_ds)\n",
        "    val = preprocessing(val_ds)\n",
        "\n",
        "    # Save loss and accuracy as dictionaries in a list for visualization\n",
        "    lists = []\n",
        "\n",
        "    for n in range(epochs):\n",
        "        print(f\"Epoch {n}:\")\n",
        "\n",
        "        for data in tqdm.tqdm(train, position=0, leave=True):\n",
        "            metrics = model.train(data)\n",
        "\n",
        "        # Add metrics to list\n",
        "        lists.append(metrics)\n",
        "        print([f\"{key}: {value.numpy()}\" for (key,value) in metrics.items()])\n",
        "        model.reset_metrics()\n",
        "\n",
        "        for data in tqdm.tqdm(val, position=0, leave=True):\n",
        "            metrics = model.test(data)\n",
        "\n",
        "        # Add metrics to list\n",
        "        lists.append(metrics)\n",
        "        print([f\"{key}: {value.numpy()}\" for (key,value) in metrics.items()])\n",
        "        model.reset_metrics()\n",
        "        \n",
        "    return lists"
      ]
    },
    {
      "cell_type": "code",
      "execution_count": 44,
      "metadata": {
        "id": "9qeNX1T3fykx"
      },
      "outputs": [],
      "source": [
        "# Initiate model CNN\n",
        "model = CNN()\n",
        "model(tf.keras.Input((32,32,3)));"
      ]
    },
    {
      "cell_type": "code",
      "execution_count": 45,
      "metadata": {
        "colab": {
          "base_uri": "https://localhost:8080/"
        },
        "id": "HQqrrRVPfykz",
        "outputId": "69934e47-ef02-40c3-cb3e-60179659fde3"
      },
      "outputs": [
        {
          "output_type": "stream",
          "name": "stdout",
          "text": [
            "Epoch 0:\n"
          ]
        },
        {
          "output_type": "stream",
          "name": "stderr",
          "text": [
            "100%|██████████| 782/782 [00:24<00:00, 31.82it/s]\n"
          ]
        },
        {
          "output_type": "stream",
          "name": "stdout",
          "text": [
            "['loss: 1.68401300907135', 'accuracy: 0.3974800109863281']\n"
          ]
        },
        {
          "output_type": "stream",
          "name": "stderr",
          "text": [
            "100%|██████████| 157/157 [00:03<00:00, 44.89it/s]\n"
          ]
        },
        {
          "output_type": "stream",
          "name": "stdout",
          "text": [
            "['loss: 1.2272039651870728', 'accuracy: 0.5548999905586243']\n",
            "Epoch 1:\n"
          ]
        },
        {
          "output_type": "stream",
          "name": "stderr",
          "text": [
            "100%|██████████| 782/782 [00:15<00:00, 48.97it/s]\n"
          ]
        },
        {
          "output_type": "stream",
          "name": "stdout",
          "text": [
            "['loss: 1.203733205795288', 'accuracy: 0.566860020160675']\n"
          ]
        },
        {
          "output_type": "stream",
          "name": "stderr",
          "text": [
            "100%|██████████| 157/157 [00:01<00:00, 147.99it/s]\n"
          ]
        },
        {
          "output_type": "stream",
          "name": "stdout",
          "text": [
            "['loss: 1.091245174407959', 'accuracy: 0.6110000014305115']\n",
            "Epoch 2:\n"
          ]
        },
        {
          "output_type": "stream",
          "name": "stderr",
          "text": [
            "100%|██████████| 782/782 [00:16<00:00, 48.62it/s]\n"
          ]
        },
        {
          "output_type": "stream",
          "name": "stdout",
          "text": [
            "['loss: 1.0518635511398315', 'accuracy: 0.6265199780464172']\n"
          ]
        },
        {
          "output_type": "stream",
          "name": "stderr",
          "text": [
            "100%|██████████| 157/157 [00:01<00:00, 146.63it/s]\n"
          ]
        },
        {
          "output_type": "stream",
          "name": "stdout",
          "text": [
            "['loss: 0.9522147178649902', 'accuracy: 0.6614000201225281']\n",
            "Epoch 3:\n"
          ]
        },
        {
          "output_type": "stream",
          "name": "stderr",
          "text": [
            "100%|██████████| 782/782 [00:16<00:00, 48.34it/s]\n"
          ]
        },
        {
          "output_type": "stream",
          "name": "stdout",
          "text": [
            "['loss: 0.9589959383010864', 'accuracy: 0.6590200066566467']\n"
          ]
        },
        {
          "output_type": "stream",
          "name": "stderr",
          "text": [
            "100%|██████████| 157/157 [00:01<00:00, 146.19it/s]\n"
          ]
        },
        {
          "output_type": "stream",
          "name": "stdout",
          "text": [
            "['loss: 0.8598358035087585', 'accuracy: 0.697700023651123']\n",
            "Epoch 4:\n"
          ]
        },
        {
          "output_type": "stream",
          "name": "stderr",
          "text": [
            "100%|██████████| 782/782 [00:16<00:00, 48.14it/s]\n"
          ]
        },
        {
          "output_type": "stream",
          "name": "stdout",
          "text": [
            "['loss: 0.8813064694404602', 'accuracy: 0.6875600218772888']\n"
          ]
        },
        {
          "output_type": "stream",
          "name": "stderr",
          "text": [
            "100%|██████████| 157/157 [00:01<00:00, 147.15it/s]\n"
          ]
        },
        {
          "output_type": "stream",
          "name": "stdout",
          "text": [
            "['loss: 0.9253473877906799', 'accuracy: 0.6783000230789185']\n",
            "Epoch 5:\n"
          ]
        },
        {
          "output_type": "stream",
          "name": "stderr",
          "text": [
            "100%|██████████| 782/782 [00:16<00:00, 48.01it/s]\n"
          ]
        },
        {
          "output_type": "stream",
          "name": "stdout",
          "text": [
            "['loss: 0.8195450305938721', 'accuracy: 0.7113800048828125']\n"
          ]
        },
        {
          "output_type": "stream",
          "name": "stderr",
          "text": [
            "100%|██████████| 157/157 [00:01<00:00, 143.57it/s]\n"
          ]
        },
        {
          "output_type": "stream",
          "name": "stdout",
          "text": [
            "['loss: 0.7441375255584717', 'accuracy: 0.743399977684021']\n",
            "Epoch 6:\n"
          ]
        },
        {
          "output_type": "stream",
          "name": "stderr",
          "text": [
            "100%|██████████| 782/782 [00:16<00:00, 47.84it/s]\n"
          ]
        },
        {
          "output_type": "stream",
          "name": "stdout",
          "text": [
            "['loss: 0.7720084190368652', 'accuracy: 0.7293999791145325']\n"
          ]
        },
        {
          "output_type": "stream",
          "name": "stderr",
          "text": [
            "100%|██████████| 157/157 [00:01<00:00, 139.23it/s]\n"
          ]
        },
        {
          "output_type": "stream",
          "name": "stdout",
          "text": [
            "['loss: 0.7065281867980957', 'accuracy: 0.7572000026702881']\n",
            "Epoch 7:\n"
          ]
        },
        {
          "output_type": "stream",
          "name": "stderr",
          "text": [
            "100%|██████████| 782/782 [00:16<00:00, 47.70it/s]\n"
          ]
        },
        {
          "output_type": "stream",
          "name": "stdout",
          "text": [
            "['loss: 0.7284741997718811', 'accuracy: 0.7437199950218201']\n"
          ]
        },
        {
          "output_type": "stream",
          "name": "stderr",
          "text": [
            "100%|██████████| 157/157 [00:01<00:00, 142.45it/s]\n"
          ]
        },
        {
          "output_type": "stream",
          "name": "stdout",
          "text": [
            "['loss: 0.7036792039871216', 'accuracy: 0.7559000253677368']\n",
            "Epoch 8:\n"
          ]
        },
        {
          "output_type": "stream",
          "name": "stderr",
          "text": [
            "100%|██████████| 782/782 [00:16<00:00, 47.66it/s]\n"
          ]
        },
        {
          "output_type": "stream",
          "name": "stdout",
          "text": [
            "['loss: 0.6908872127532959', 'accuracy: 0.7603600025177002']\n"
          ]
        },
        {
          "output_type": "stream",
          "name": "stderr",
          "text": [
            "100%|██████████| 157/157 [00:01<00:00, 144.63it/s]\n"
          ]
        },
        {
          "output_type": "stream",
          "name": "stdout",
          "text": [
            "['loss: 0.6265220642089844', 'accuracy: 0.7871999740600586']\n",
            "Epoch 9:\n"
          ]
        },
        {
          "output_type": "stream",
          "name": "stderr",
          "text": [
            "100%|██████████| 782/782 [00:16<00:00, 47.52it/s]\n"
          ]
        },
        {
          "output_type": "stream",
          "name": "stdout",
          "text": [
            "['loss: 0.6616585850715637', 'accuracy: 0.7675600051879883']\n"
          ]
        },
        {
          "output_type": "stream",
          "name": "stderr",
          "text": [
            "100%|██████████| 157/157 [00:01<00:00, 144.24it/s]\n"
          ]
        },
        {
          "output_type": "stream",
          "name": "stdout",
          "text": [
            "['loss: 0.675514280796051', 'accuracy: 0.7714999914169312']\n",
            "Epoch 10:\n"
          ]
        },
        {
          "output_type": "stream",
          "name": "stderr",
          "text": [
            "100%|██████████| 782/782 [00:16<00:00, 47.40it/s]\n"
          ]
        },
        {
          "output_type": "stream",
          "name": "stdout",
          "text": [
            "['loss: 0.6374847888946533', 'accuracy: 0.7787799835205078']\n"
          ]
        },
        {
          "output_type": "stream",
          "name": "stderr",
          "text": [
            "100%|██████████| 157/157 [00:01<00:00, 137.23it/s]\n"
          ]
        },
        {
          "output_type": "stream",
          "name": "stdout",
          "text": [
            "['loss: 0.6666222810745239', 'accuracy: 0.7748000025749207']\n",
            "Epoch 11:\n"
          ]
        },
        {
          "output_type": "stream",
          "name": "stderr",
          "text": [
            "100%|██████████| 782/782 [00:16<00:00, 47.29it/s]\n"
          ]
        },
        {
          "output_type": "stream",
          "name": "stdout",
          "text": [
            "['loss: 0.6114685535430908', 'accuracy: 0.7860199809074402']\n"
          ]
        },
        {
          "output_type": "stream",
          "name": "stderr",
          "text": [
            "100%|██████████| 157/157 [00:01<00:00, 144.01it/s]\n"
          ]
        },
        {
          "output_type": "stream",
          "name": "stdout",
          "text": [
            "['loss: 0.6207955479621887', 'accuracy: 0.7904000282287598']\n",
            "Epoch 12:\n"
          ]
        },
        {
          "output_type": "stream",
          "name": "stderr",
          "text": [
            "100%|██████████| 782/782 [00:16<00:00, 47.33it/s]\n"
          ]
        },
        {
          "output_type": "stream",
          "name": "stdout",
          "text": [
            "['loss: 0.5840961337089539', 'accuracy: 0.7965599894523621']\n"
          ]
        },
        {
          "output_type": "stream",
          "name": "stderr",
          "text": [
            "100%|██████████| 157/157 [00:01<00:00, 142.99it/s]\n"
          ]
        },
        {
          "output_type": "stream",
          "name": "stdout",
          "text": [
            "['loss: 0.6504812240600586', 'accuracy: 0.7821999788284302']\n",
            "Epoch 13:\n"
          ]
        },
        {
          "output_type": "stream",
          "name": "stderr",
          "text": [
            "100%|██████████| 782/782 [00:16<00:00, 47.28it/s]\n"
          ]
        },
        {
          "output_type": "stream",
          "name": "stdout",
          "text": [
            "['loss: 0.561496376991272', 'accuracy: 0.8034600019454956']\n"
          ]
        },
        {
          "output_type": "stream",
          "name": "stderr",
          "text": [
            "100%|██████████| 157/157 [00:01<00:00, 145.71it/s]\n"
          ]
        },
        {
          "output_type": "stream",
          "name": "stdout",
          "text": [
            "['loss: 0.6061809062957764', 'accuracy: 0.7976999878883362']\n",
            "Epoch 14:\n"
          ]
        },
        {
          "output_type": "stream",
          "name": "stderr",
          "text": [
            "100%|██████████| 782/782 [00:16<00:00, 47.20it/s]\n"
          ]
        },
        {
          "output_type": "stream",
          "name": "stdout",
          "text": [
            "['loss: 0.5493058562278748', 'accuracy: 0.80867999792099']\n"
          ]
        },
        {
          "output_type": "stream",
          "name": "stderr",
          "text": [
            "100%|██████████| 157/157 [00:01<00:00, 145.90it/s]\n"
          ]
        },
        {
          "output_type": "stream",
          "name": "stdout",
          "text": [
            "['loss: 0.6163010001182556', 'accuracy: 0.7937999963760376']\n"
          ]
        }
      ],
      "source": [
        "# IMPORTANT: Run ONLY with GPU Runtime\n",
        "# Training loop\n",
        "lists = training_loop(model, train_ds, val_ds, epochs=15)"
      ]
    },
    {
      "cell_type": "markdown",
      "source": [
        "# Visualization with seaborn"
      ],
      "metadata": {
        "id": "-HSlJQDfdwHe"
      }
    },
    {
      "cell_type": "code",
      "source": [
        "import seaborn as sns\n",
        "import matplotlib.pyplot as plt\n",
        "%matplotlib inline\n",
        "\n",
        "def visualization(lists):\n",
        "    \"\"\"Visualizes accuracy and loss for training and test data \"\"\"\n",
        "\n",
        "    # Create lists for each visualized metric\n",
        "    epochs = np.array([*range(15)])\n",
        "    train_loss = np.zeros(epochs.size)\n",
        "    train_accuracy = np.zeros(epochs.size)\n",
        "    test_loss = np.zeros(epochs.size)\n",
        "    test_accuracy = np.zeros(epochs.size) \n",
        "\n",
        "    # Counter used for splitting the input\n",
        "    c,i = 0,0\n",
        "    # Split up the metrics to the corresponding arrays\n",
        "    for k in range(len(lists)):\n",
        "        if k%2 == 1:\n",
        "            test_loss[i] = lists[k]['loss'].numpy()\n",
        "            test_accuracy[i] = lists[k]['accuracy'].numpy()\n",
        "            i += 1\n",
        "        else:\n",
        "            train_loss[c] = lists[k]['loss'].numpy()\n",
        "            train_accuracy[c] = lists[k]['accuracy'].numpy()\n",
        "            c += 1\n",
        "    \n",
        "    # Create dictionary with all 4 metrics\n",
        "    data= {'Train_Loss':train_loss, 'Train_Accuracy':train_accuracy, 'Test_Loss':test_loss, 'Test_Accuracy':test_accuracy}\n",
        "\n",
        "    # Plot the metrics\n",
        "    sns.set_theme()\n",
        "    sns.relplot(data=data, kind='line').set(title='Visualization of loss and accuracy',xlabel='Epochs', ylabel='Loss / Accuracy')#, x='Epochs', y='Train_Loss',kind='line', legend='auto')\n",
        "\n",
        "visualization(lists)\n"
      ],
      "metadata": {
        "colab": {
          "base_uri": "https://localhost:8080/",
          "height": 381
        },
        "id": "slt6c4rqYiec",
        "outputId": "eb6ee199-59ff-433f-aca1-cf28f507ab07"
      },
      "execution_count": 58,
      "outputs": [
        {
          "output_type": "display_data",
          "data": {
            "text/plain": [
              "<Figure size 482.1x360 with 1 Axes>"
            ],
            "image/png": "[encoded data removed]"
          },
          "metadata": {}
        }
      ]
    },
    {
      "cell_type": "code",
      "source": [],
      "metadata": {
        "id": "5mPyjIT3rE0j"
      },
      "execution_count": null,
      "outputs": []
    }
  ],
  "metadata": {
    "colab": {
      "provenance": [],
      "collapsed_sections": [
        "4acuL3qIjsEP"
      ],
      "include_colab_link": true
    },
    "kernelspec": {
      "display_name": "Python 3.9.10 64-bit",
      "language": "python",
      "name": "python3"
    },
    "language_info": {
      "codemirror_mode": {
        "name": "ipython",
        "version": 3
      },
      "file_extension": ".py",
      "mimetype": "text/x-python",
      "name": "python",
      "nbconvert_exporter": "python",
      "pygments_lexer": "ipython3",
      "version": "3.9.10"
    },
    "orig_nbformat": 4,
    "vscode": {
      "interpreter": {
        "hash": "fe9a959b20c1a11f0379d800fd04c0320f2dff6d2d0003a40f8f375949ccb47d"
      }
    },
    "accelerator": "GPU",
    "gpuClass": "standard"
  },
  "nbformat": 4,
  "nbformat_minor": 0
}