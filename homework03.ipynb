{
  "cells": [
    {
      "cell_type": "markdown",
      "metadata": {
        "id": "view-in-github",
        "colab_type": "text"
      },
      "source": [
        "<a href=\"https://colab.research.google.com/github/n-bzy/iannwtf/blob/main/homework03.ipynb\" target=\"_parent\"><img src=\"https://colab.research.google.com/assets/colab-badge.svg\" alt=\"Open In Colab\"/></a>"
      ]
    },
    {
      "cell_type": "markdown",
      "source": [
        "# Use print(ds_info) to answer questions\n",
        "1. How many training/test images are there? - test = 10000, train = 60000\n",
        "2. What's the image shape? - shape=28,28,1\n",
        "3. What range are pixel values in? - 0-255\n",
        "\n"
      ],
      "metadata": {
        "id": "Q9kG7ldjivhD"
      },
      "id": "Q9kG7ldjivhD"
    },
    {
      "cell_type": "code",
      "execution_count": null,
      "id": "a73d5557",
      "metadata": {
        "id": "a73d5557"
      },
      "outputs": [],
      "source": [
        "import numpy as np\n",
        "import matplotlib.pyplot as plt\n",
        "import tensorflow as tf\n",
        "import tensorflow_datasets as tfds\n",
        "\n",
        "# Load the mnist dataset and split it into training and testing data set\n",
        "(train_ds, test_ds), ds_info = tfds.load('mnist', split=['train', 'test'], as_supervised=True, with_info=True)\n",
        "\n",
        "\n",
        "def prepare_data_set(data):\n",
        "    \"\"\"Prepares the dataset by setting up the data pipeline\"\"\"\n",
        "    # Change the datatype from uint8 to float32\n",
        "    data = data.map(lambda img, target: (tf.cast(img, tf.float32), target))\n",
        "    # Reshape/ flatten the images to a vector\n",
        "    data = data.map(lambda img, target: (tf.reshape(img, (-1,)), target))\n",
        "    # Normalize the images values to standart normal\n",
        "    data = data.map(lambda img, target: (img/128.-1., target))\n",
        "    # Encode the labels as one-hot-vectors\n",
        "    data = data.map(lambda img, target: (img, tf.one_hot(target, depth=10))) # Can you get the necessary depth out of ds_info?\n",
        "    # Cache, shuffle, batch, prefetch data\n",
        "    data = data.cache()\n",
        "    data = data.shuffle(1000)\n",
        "    data = data.batch(100)\n",
        "    data = data.prefetch(600) # optional: tf.data.AUTOTUNE\n",
        "    return data\n",
        "\n",
        "# Prepare the training and test data set\n",
        "train_dataset = train_ds.apply(prepare_data_set)\n",
        "test_dataset = test_ds.apply(prepare_data_set)\n",
        "\n",
        "class MLP(tf.keras.Model):\n",
        "    \"\"\"Creates a Class containing a Neuronal Network\"\"\"\n",
        "    def __init__(self):\n",
        "        \"\"\"Initializes a Neuronal Network with 2 hidden layers (256 units each) and output layer with 10 units\"\"\"\n",
        "        super(MLP, self).__init__()\n",
        "        self.layer1 = tf.keras.layers.Dense(256, activation=tf.keras.activations.relu)\n",
        "        self.layer2 = tf.keras.layers.Dense(256, activation=tf.keras.activations.relu)\n",
        "        self.layer_out = tf.keras.layers.Dense(10, activation=tf.keras.activations.softmax)\n",
        "\n",
        "    @tf.function\n",
        "    def call(self, input):\n",
        "        \"\"\"Pass the input through the Network to create output y\"\"\"\n",
        "        y = self.layer1(input)\n",
        "        y = self.layer2(y)\n",
        "        y = self.layer_out(y)\n",
        "        return y\n",
        "\n",
        "def training(model, n_epochs, train_data, test_data, loss_f, optimizer_f):\n",
        "    \"\"\"Training loop function which contains training and testing of a neuronal\n",
        "    network model \"\"\"\n",
        "    def train(model, train_data, loss_f, optimizer_f):\n",
        "        \"\"\"Trains a Neuronal Network model with given data, \n",
        "        loss function and optimizer. Returns given output arrays\"\"\"\n",
        "        # Create lists to save accuracy and loss for each data point\n",
        "        train_accuracy_l = []\n",
        "        train_loss_l = []\n",
        "\n",
        "        # Input the dataset through the Network, optimize the parameters\n",
        "        # and record the loss and accuracy\n",
        "        for (input, target) in train_data:\n",
        "            with tf.GradientTape() as tape:\n",
        "                prediction = model(input)\n",
        "                s_train_loss = loss_f(target, prediction)\n",
        "                s_train_accuracy = np.argmax(target, axis=1) == np.argmax(prediction, axis=1)\n",
        "            gradients = tape.gradient(s_train_loss, model.trainable_variables)\n",
        "            optimizer_f.apply_gradients(zip(gradients, model.trainable_variables))\n",
        "            train_accuracy_l.append(np.mean(s_train_accuracy))\n",
        "            train_loss_l.append(s_train_loss.numpy())\n",
        "\n",
        "        # Return accuracy and loss\n",
        "        train_accuracy = tf.reduce_mean(train_accuracy_l)\n",
        "        train_loss = tf.reduce_mean(train_loss_l)\n",
        "        return train_accuracy, train_loss\n",
        "    \n",
        "    def test(model, test_data, loss_f):\n",
        "        \"\"\"Testing a Neuronal Network model with given data and loss function\"\"\"\n",
        "\n",
        "        # Create lists to save accuracy and loss for each data point\n",
        "        test_accuracy_l = []\n",
        "        test_loss_l = []\n",
        "\n",
        "        # Input the dataset through the Network\n",
        "        # and record the loss and accuracy\n",
        "        for (input, target) in test_data:\n",
        "            prediction = model(input)\n",
        "            sample_test_accuracy = np.argmax(target, axis=1) == np.argmax(prediction, axis=1)\n",
        "            sample_test_loss = loss_f(target, prediction)\n",
        "            test_accuracy_l.append(np.mean(sample_test_accuracy))\n",
        "            test_loss_l.append(sample_test_loss.numpy())\n",
        "\n",
        "        # Return accuracy and loss\n",
        "        test_accuracy = tf.reduce_mean(test_accuracy_l)\n",
        "        test_loss = tf.reduce_mean(test_loss_l)\n",
        "        return test_accuracy, test_loss\n",
        "    \n",
        "    # Create lists for training accuracy and loss as well as testing accuracy and loss\n",
        "    train_accuracies = []\n",
        "    train_losses = []\n",
        "    test_accuracies = []\n",
        "    test_losses = []\n",
        "\n",
        "    # Run training and testing data through the network one time before starting to train the network\n",
        "    # And add results to the lists\n",
        "    train_accuracy, train_loss = test(model, train_data, loss_f)\n",
        "    train_accuracies.append(train_accuracy)\n",
        "    train_losses.append(train_loss)\n",
        "    test_accuracy, test_loss = test(model, test_data, loss_f)\n",
        "    test_accuracies.append(test_accuracy)\n",
        "    test_losses.append(test_loss)\n",
        "    \n",
        "    # Train and test the network for n Epochs\n",
        "    for n in range(n_epochs):\n",
        "        # Training of model\n",
        "        train_accuracy, train_loss = train(model, train_data, loss_f, optimizer_f)\n",
        "        train_accuracies.append(train_accuracy)\n",
        "        train_losses.append(train_loss)\n",
        "\n",
        "        # Testing of model\n",
        "        test_accuracy, test_loss = test(model, test_data, loss_f)\n",
        "        test_accuracies.append(test_accuracy)\n",
        "        test_losses.append(test_loss)\n",
        "\n",
        "    return train_accuracies, train_losses, test_accuracies, test_losses\n",
        "\n",
        "# Hyperparameters\n",
        "n_epochs = 10\n",
        "learning_rate = 0.001\n",
        "\n",
        "# Initialize the model with the MLP class and define loss function and optimizer\n",
        "model = MLP()\n",
        "loss_f = tf.keras.losses.CategoricalCrossentropy()\n",
        "optimizer_f = tf.keras.optimizers.SGD(learning_rate, momentum=0.5)\n",
        "\n",
        "# Get filled lists out of the training loop function\n",
        "train_accuracies, train_losses, test_accuracies, test_losses = training(model,n_epochs,train_dataset, test_dataset, loss_f, optimizer_f)\n"
      ]
    },
    {
      "cell_type": "markdown",
      "source": [
        "# Visualization"
      ],
      "metadata": {
        "id": "7I92u5LAioQ-"
      },
      "id": "7I92u5LAioQ-"
    },
    {
      "cell_type": "code",
      "source": [
        "def visualization(train_losses, train_accuracies, test_losses, test_accuracies):\n",
        "    \"\"\"Visualizes accuracy and loss for training and test data using the mean of each epoch.\n",
        "    Loss is displayed in a regular line, accuracy in a dotted line.\n",
        "    Training data is displayed in blue, test data in red.\n",
        "    Parameters\n",
        "    ----------\n",
        "    train_losses: numpy.ndarray\n",
        "        training losses\n",
        "    train_accuracies: numpy.ndarray\n",
        "        training accuracies\n",
        "    test_losses: numpy.ndarray\n",
        "        test losses\n",
        "    test_accuracies: numpy.ndarray\n",
        "        test accuracies\n",
        "    \"\"\"\n",
        "\n",
        "    plt.figure ()\n",
        "    line1, = plt.plot(train_losses, \"b-\")\n",
        "    line2, = plt.plot(test_losses, \"r-\")\n",
        "    line3, = plt.plot(train_accuracies, \"b:\")\n",
        "    line4, = plt.plot(test_accuracies, \"r:\")\n",
        "    plt.xlabel(\"Training steps\")\n",
        "    plt.ylabel(\"Loss / Accuracy\")\n",
        "    plt.legend((line1 , line2 , line3 , line4), (\"training loss\", \"test loss\", \"train accuracy\", \"test accuracy\"))\n",
        "    plt.show()\n",
        "\n",
        "visualization(train_losses, train_accuracies, test_losses, test_accuracies)"
      ],
      "metadata": {
        "colab": {
          "base_uri": "https://localhost:8080/",
          "height": 279
        },
        "id": "MFTBgVHwZfN6",
        "outputId": "331a9eb3-9ed1-4e9f-fc61-e2167371740f"
      },
      "id": "MFTBgVHwZfN6",
      "execution_count": null,
      "outputs": [
        {
          "output_type": "display_data",
          "data": {
            "text/plain": [
              "<Figure size 432x288 with 1 Axes>"
            ],
            "image/png": "[encoded data removed]"
          },
          "metadata": {
            "needs_background": "light"
          }
        }
      ]
    },
    {
      "cell_type": "markdown",
      "source": [
        "# 3 Adjusting the hyperparameters of your model\n",
        "\n",
        "1. Learning rate: 0.01 -> 0.001 - less steeper slope of loss, more epochs needed to reach same loss/ accuracy\n",
        "\n",
        "2. Momentum: 0.0 -> 0.5 - steeper slope of loss, momentum leads to faster reduction of loss\n",
        "\n",
        "3. batch/ prefetch: (32, 20) -> (100, 600) - reduce computing time from ~10 min to ~2 min\n",
        "\n",
        "4. Units/ layers: 256 -> 32 - less units in hidden layers lead to less adjusting of the network, therefore higher loss after same epochs\n",
        "\n",
        "\n",
        "\n",
        "\n"
      ],
      "metadata": {
        "id": "bpKGJ9zWdM9i"
      },
      "id": "bpKGJ9zWdM9i"
    }
  ],
  "metadata": {
    "kernelspec": {
      "display_name": "Python 3 (ipykernel)",
      "language": "python",
      "name": "python3"
    },
    "language_info": {
      "codemirror_mode": {
        "name": "ipython",
        "version": 3
      },
      "file_extension": ".py",
      "mimetype": "text/x-python",
      "name": "python",
      "nbconvert_exporter": "python",
      "pygments_lexer": "ipython3",
      "version": "3.9.10"
    },
    "colab": {
      "provenance": [],
      "include_colab_link": true
    }
  },
  "nbformat": 4,
  "nbformat_minor": 5
}