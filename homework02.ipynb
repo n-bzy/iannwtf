{
  "nbformat": 4,
  "nbformat_minor": 0,
  "metadata": {
    "colab": {
      "provenance": [],
      "collapsed_sections": [],
      "authorship_tag": "ABX9TyMmU/10RO72tZrRh6gBTK1O",
      "include_colab_link": true
    },
    "kernelspec": {
      "name": "python3",
      "display_name": "Python 3"
    },
    "language_info": {
      "name": "python"
    }
  },
  "cells": [
    {
      "cell_type": "markdown",
      "metadata": {
        "id": "view-in-github",
        "colab_type": "text"
      },
      "source": [
        "<a href=\"https://colab.research.google.com/github/n-bzy/iannwtf/blob/main/homework02.ipynb\" target=\"_parent\"><img src=\"https://colab.research.google.com/assets/colab-badge.svg\" alt=\"Open In Colab\"/></a>"
      ]
    },
    {
      "cell_type": "code",
      "execution_count": 30,
      "metadata": {
        "id": "ClS74pKNRRkm",
        "colab": {
          "base_uri": "https://localhost:8080/",
          "height": 591
        },
        "outputId": "60a2dde4-ca01-4d9b-a128-9ef6cd87a310"
      },
      "outputs": [
        {
          "output_type": "display_data",
          "data": {
            "text/plain": [
              "<Figure size 432x288 with 1 Axes>"
            ],
            "image/png": "[encoded data removed]"
          },
          "metadata": {
            "needs_background": "light"
          }
        },
        {
          "output_type": "stream",
          "name": "stdout",
          "text": [
            "Avg. loss of last epoch:  0.0009776174559892358\n"
          ]
        },
        {
          "output_type": "display_data",
          "data": {
            "text/plain": [
              "<Figure size 432x288 with 1 Axes>"
            ],
            "image/png": "[encoded data removed]"
          },
          "metadata": {
            "needs_background": "light"
          }
        }
      ],
      "source": [
        "# -*- coding: utf-8 -*-\n",
        "\"\"\"\n",
        "homework02.ipynb\n",
        "\n",
        "Automatically generated by Colaboratory.\n",
        "\"\"\"\n",
        "\n",
        "import numpy as np\n",
        "import matplotlib as mpl\n",
        "import matplotlib.pyplot as plt\n",
        "#import tensorflow as tf\n",
        "\n",
        "class Layer:\n",
        "  \"\"\"Creates a layer of n perceptrons\"\"\"\n",
        "  def __init__(self, n_units, input_units):\n",
        "    \"\"\"Constructor sets up the weights (random values), bias (zeros), \n",
        "    layer input, layer preactivation and layer activation\"\"\"\n",
        "    self.bias = np.zeros((1,n_units))\n",
        "    self.weights = np.random.normal(size=(input_units, n_units))\n",
        "    self.layer_input = None\n",
        "    self.layer_preactivation = None\n",
        "    self.layer_activation = None\n",
        "\n",
        "  def forward_step(self, input):\n",
        "    \"\"\"Return each units activation using ReLu as activation function \n",
        "    given the input\"\"\"\n",
        "    # Add [1] at the end of input vector for calc of bias\n",
        "    self.layer_input = np.append(input,[1],axis=0) \n",
        "    # Link weights and bias in one matrix\n",
        "    w_b = np.append(self.weights,self.bias,axis=0) \n",
        "    # Matrix multiplikation of layer input and W-Matrix for layer preactivation\n",
        "    self.layer_preactivation = self.layer_input@w_b\n",
        "    #print(self.layer_preactivation)\n",
        "    # ReLu activation function\n",
        "    output = np.maximum(0,self.layer_preactivation) \n",
        "    # Save output in layer_activation for backpropagation\n",
        "    self.layer_activation = output\n",
        "    return output\n",
        "  \n",
        "  def backward_step(self, input, l_a,gamma = 0.001):\n",
        "    \"\"\"Updates layers parameters (weigths and bias) by calculating the\n",
        "    gradients dL/dW, dL/db and dL/di and applying the learning rate gamma\"\"\"\n",
        "    # Derivative of ReLu = 1 for x>0; = 0 for <= 0\n",
        "    # Gradient w.r.t. layers weights\n",
        "    grad_l_w = input.transpose()@(np.greater(self.layer_preactivation,0).astype(np.float64)*l_a)\n",
        "    #print(grad_l_w)\n",
        "    # Gradient w.r.t. layers bias\n",
        "    grad_l_b = (np.greater(self.layer_preactivation,0).astype(np.float64)*l_a)                      \n",
        "    # Gradient w.r.t. layers input = output/activation of layer l-1\n",
        "    grad_l_i = (np.greater(self.layer_preactivation,0).astype(np.float64)*l_a)@self.weights.transpose()  \n",
        "    # Updating of layers parameters with learning rate gamma\n",
        "    self.weights = self.weights - gamma*grad_l_w\n",
        "    self.bias = self.bias - gamma*grad_l_b\n",
        "    # Return gradient w.r.t. layers input for the preivous layers backward_step\n",
        "    return grad_l_i\n",
        "\n",
        "class MLP:\n",
        "  \"\"\"Creates a Multi-Layer-Perceptron which combines instances of class Layer\"\"\"\n",
        "  def __init__(self, n_layers, n_units, input_units):\n",
        "    \"\"\"Contructor to set up the each layer of the MLP as objects in a list\"\"\"\n",
        "    self.n_layers = n_layers\n",
        "    self.n_units = n_units\n",
        "    # Create a list of all layers (n_layers) with respective n units\n",
        "    self.layers = []\n",
        "    for n in range(n_layers):\n",
        "      self.layers.append(Layer(n_units[n], input_units[n]))\n",
        "\n",
        "  def forward_step(self, input):\n",
        "    \"\"\"Passes an input through the entire network and returns the output\"\"\"\n",
        "    # Convert input into numpy-array for matrix multiplication in forward_step\n",
        "    input = np.array(input)\n",
        "    # For each layer in the MLP do a forward_step with given input \n",
        "    for n in range(self.n_layers):\n",
        "      y = self.layers[n].forward_step(input)\n",
        "      # Save output as input for the next layer\n",
        "      input = y\n",
        "    return y #output\n",
        "\n",
        "  def backpropagation(self, l_d, input):\n",
        "    \"\"\"Updates all weights and bias in the network given the loss derivative\"\"\"\n",
        "    # Convert l_d into numpy-array for matrix multiplication in backward_step\n",
        "    l_d = np.array([l_d])\n",
        "    # For each layer starting at the last (output) perform a backward step\n",
        "    for n in range(self.n_layers-1, -1,-1):\n",
        "      # First layer\n",
        "      if n == 0:\n",
        "        # Input equals input of the MLP\n",
        "        inp = np.array([input])\n",
        "      # Every other layer\n",
        "      else:\n",
        "        # Input equals output of previous layer\n",
        "        inp = np.array([self.layers[n-1].layer_activation])\n",
        "      # Perform backward step in layer n and save the gradient d_L/d_input\n",
        "      grad_l_i = self.layers[n].backward_step(inp, l_d)\n",
        "      # d_l/d_input is the new d_l/d_activation for the previous layer\n",
        "      l_d = np.array(grad_l_i)\n",
        "\n",
        "# Creating 100 random input values x\n",
        "x = np.random.rand(100,1)\n",
        "# Create target t given x\n",
        "t = x**3-x**2+1\n",
        "\n",
        "# Plot the random values x and its respective targets\n",
        "plt.plot(x, t, '.')\n",
        "plt.xlabel(\"Random values 'x'\")\n",
        "plt.ylabel(\"Targets 't'\")\n",
        "plt.title(\"Random values & targets\")\n",
        "plt.show()\n",
        "\n",
        "# Create the MLP with 1 hidden layer (10 neurons) and 1 output layer (1 neuron)\n",
        "mlp = MLP(2, [10,1], [1, 10])\n",
        "# Create a list to save the loss for visualization\n",
        "safeloss = []\n",
        "\n",
        "# Training of MLP for n Epochs\n",
        "epoch = 1000 # Use smaller epochs for better visualization\n",
        "for n in range(epoch):\n",
        "  z = np.empty(x.size)\n",
        "  # For each data point, have the MLP perform a forward step using\n",
        "  # the input value and then propagate the error backwards through the\n",
        "  # network\n",
        "  for k in range(x.size):\n",
        "    output = mlp.forward_step(x[k])\n",
        "    loss = (1/2*(output - t[k])**2) \n",
        "    z[k] = loss\n",
        "    # Derivative of loss: l_d\n",
        "    l_d = np.subtract(output,t[k])\n",
        "    mlp.backpropagation(l_d, x[k])\n",
        "  # Average all losses of one epoch\n",
        "  y = np.mean(z)\n",
        "  # Add the average loss of the epoch to the safeloss list\n",
        "  safeloss.append(y)\n",
        "# Print avg. loss of last epoch for further visualization\n",
        "print(\"Avg. loss of last epoch: \",safeloss[-1])\n",
        "\n",
        "# Visualization: Epochs (x-axis) and average loss (y-axis)\n",
        "plt.plot(range(epoch), safeloss)\n",
        "plt.xlabel(\"Epochs\")\n",
        "plt.ylabel(\"Average loss\")\n",
        "plt.title(\"Visualization of training process\")\n",
        "plt.show()"
      ]
    }
  ]
}